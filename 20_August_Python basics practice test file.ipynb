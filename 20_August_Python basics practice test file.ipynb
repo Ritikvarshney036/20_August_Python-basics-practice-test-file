{
 "cells": [
  {
   "cell_type": "markdown",
   "id": "7d3945ea-a78f-454f-9692-f65cff61e665",
   "metadata": {},
   "source": [
    "TOPIC: String Based Assignment Problem"
   ]
  },
  {
   "cell_type": "code",
   "execution_count": null,
   "id": "d8986301-e31c-4416-bb65-6671dcdd183d",
   "metadata": {},
   "outputs": [],
   "source": []
  },
  {
   "cell_type": "markdown",
   "id": "7500bc33-dfd2-4eb0-9677-7f0388c2700d",
   "metadata": {},
   "source": [
    "Q1. Write a program to reverse a string."
   ]
  },
  {
   "cell_type": "code",
   "execution_count": 1,
   "id": "effc5dda-993c-4653-9565-3405d95d0bc8",
   "metadata": {},
   "outputs": [
    {
     "name": "stdin",
     "output_type": "stream",
     "text": [
      "enter the string:  Hello India\n"
     ]
    },
    {
     "name": "stdout",
     "output_type": "stream",
     "text": [
      "aidnI olleH\n"
     ]
    }
   ],
   "source": [
    "s=input(\"enter the string: \")\n",
    "reverse_string=s[::-1]\n",
    "# I reverse the string with the help of sliciing.\n",
    "print(reverse_string)"
   ]
  },
  {
   "cell_type": "code",
   "execution_count": null,
   "id": "2437c839-92e9-4241-bc02-208e088efbc1",
   "metadata": {},
   "outputs": [],
   "source": []
  },
  {
   "cell_type": "markdown",
   "id": "abad9cca-b573-4e5c-8bcf-4f7c5c1ad59f",
   "metadata": {},
   "source": [
    "Q2. Check if a string is a palindrome."
   ]
  },
  {
   "cell_type": "code",
   "execution_count": 3,
   "id": "eb3ea532-c737-4b2b-91bc-885a0c9a35f7",
   "metadata": {},
   "outputs": [
    {
     "name": "stdin",
     "output_type": "stream",
     "text": [
      "Enter the string:  malayalam\n"
     ]
    },
    {
     "name": "stdout",
     "output_type": "stream",
     "text": [
      "This string is palindrome\n"
     ]
    }
   ],
   "source": [
    "s1=input(\"Enter the string: \")\n",
    "reverse=s1[::-1]\n",
    "# I do slicing operation\n",
    "if reverse==s1:\n",
    "    print(\"This string is palindrome\")\n",
    "else:\n",
    "    print(\"This string is not a palindrome\") \n",
    "# If the reverse is equal to s1 then the string is palindrome otherwise not."
   ]
  },
  {
   "cell_type": "code",
   "execution_count": null,
   "id": "82774061-b607-4d84-8208-acac605cb5db",
   "metadata": {},
   "outputs": [],
   "source": []
  },
  {
   "cell_type": "markdown",
   "id": "5df3113d-4d00-48f3-b942-019dde0560f5",
   "metadata": {},
   "source": [
    "Q3. Convert a string to uppercase."
   ]
  },
  {
   "cell_type": "code",
   "execution_count": 4,
   "id": "6f88bcd0-d95e-4e89-a592-b5d5a6e0aca8",
   "metadata": {},
   "outputs": [
    {
     "name": "stdin",
     "output_type": "stream",
     "text": [
      "Enter the string:  virat kohli\n"
     ]
    },
    {
     "name": "stdout",
     "output_type": "stream",
     "text": [
      "The uppercase string is :  VIRAT KOHLI\n"
     ]
    }
   ],
   "source": [
    "input_string=input(\"Enter the string: \")\n",
    "upper=input_string.upper()\n",
    "# I use upper() function to convert the input into Uppercase character\n",
    "print(\"The uppercase string is : \",upper)"
   ]
  },
  {
   "cell_type": "code",
   "execution_count": null,
   "id": "460a2595-30cf-4774-9def-a2cd6a11ef43",
   "metadata": {},
   "outputs": [],
   "source": []
  },
  {
   "cell_type": "markdown",
   "id": "676bdea2-6fbd-4454-b866-d977307e3425",
   "metadata": {},
   "source": [
    "Q4. Convert a string to lowercase."
   ]
  },
  {
   "cell_type": "code",
   "execution_count": 5,
   "id": "a9eac272-72e4-439c-8e70-d667a069b897",
   "metadata": {},
   "outputs": [
    {
     "name": "stdin",
     "output_type": "stream",
     "text": [
      "Enter the string:  MODI\n"
     ]
    },
    {
     "name": "stdout",
     "output_type": "stream",
     "text": [
      "The lowercase string is:  modi\n"
     ]
    }
   ],
   "source": [
    "user_input=input(\"Enter the string: \")\n",
    "lower=user_input.lower()\n",
    "# I use lower() function to convert the input into Lowercase character\n",
    "print(\"The lowercase string is: \",lower)"
   ]
  },
  {
   "cell_type": "code",
   "execution_count": null,
   "id": "3fbec186-4d0e-4ec8-85d8-1f8eca94f497",
   "metadata": {},
   "outputs": [],
   "source": []
  },
  {
   "cell_type": "markdown",
   "id": "866d029d-049f-41a8-b1c9-a394354141ef",
   "metadata": {},
   "source": [
    "Q5. Count the number of vowels in a string."
   ]
  },
  {
   "cell_type": "code",
   "execution_count": 34,
   "id": "13a9422e-8fca-4a22-b191-234c704bd9e7",
   "metadata": {},
   "outputs": [
    {
     "name": "stdin",
     "output_type": "stream",
     "text": [
      "Enter the string:  Modi is our primr minister\n"
     ]
    },
    {
     "name": "stdout",
     "output_type": "stream",
     "text": [
      "Total vowels are:  9\n"
     ]
    }
   ],
   "source": [
    "string=input(\"Enter the string: \")\n",
    "# take the input from the user\n",
    "count=0\n",
    "# take count as zero\n",
    "lower=string.lower()\n",
    "# now convert the string in lowercase\n",
    "for i in lower:\n",
    "    if i=='a' or i=='e' or i=='i' or i=='o' or i=='u':\n",
    "    # here it's true . so it can detect\n",
    "        count+=1\n",
    "if count==0:\n",
    "    print(\"No vowels found\")\n",
    "else:\n",
    "    print(\"Total vowels are: \",count)"
   ]
  },
  {
   "cell_type": "code",
   "execution_count": null,
   "id": "3b0cf588-5642-48a5-a14d-b61267bba153",
   "metadata": {},
   "outputs": [],
   "source": []
  },
  {
   "cell_type": "markdown",
   "id": "1fb4453d-d552-477f-9d90-c2b35abbe5d4",
   "metadata": {},
   "source": [
    "Q6. Count the number of consonants in a string."
   ]
  },
  {
   "cell_type": "code",
   "execution_count": 2,
   "id": "f219b512-47ae-4635-8cad-f35610d23c20",
   "metadata": {},
   "outputs": [
    {
     "name": "stdin",
     "output_type": "stream",
     "text": [
      "Enter the string:  my name\n"
     ]
    },
    {
     "name": "stdout",
     "output_type": "stream",
     "text": [
      "This string contains 4 consonant\n"
     ]
    }
   ],
   "source": [
    "string=input(\"Enter the string: \")\n",
    "# take the input from the user\n",
    "count=0\n",
    "# take count as zero\n",
    "lower=string.lower()\n",
    "# now convert the string in lowercase\n",
    "for i in lower:\n",
    "    if i=='a' or i=='e' or i=='i' or i=='o' or i=='u':\n",
    "    # here it's true . so it can detect\n",
    "        count+=1\n",
    "        \n",
    "# Remove spaces and punctuation from the string\n",
    "s = ''.join(e for e in lower if e.isalnum())\n",
    "\n",
    "total=len(s)\n",
    "# now I count all aplhabet in the string\n",
    "\n",
    "consonant=total-count\n",
    "print(\"This string contains\",consonant,\"consonant\")"
   ]
  },
  {
   "cell_type": "code",
   "execution_count": null,
   "id": "559c0a61-6646-45da-a178-8f217cfb71e6",
   "metadata": {},
   "outputs": [],
   "source": []
  },
  {
   "cell_type": "markdown",
   "id": "1d7c0a03-dc7b-41f5-813f-c0adca46ab43",
   "metadata": {},
   "source": [
    "Q7. Remove all whitespaces from a string."
   ]
  },
  {
   "cell_type": "code",
   "execution_count": 6,
   "id": "705d4d3f-6011-44a9-a0ae-1519d7d6f890",
   "metadata": {},
   "outputs": [
    {
     "name": "stdin",
     "output_type": "stream",
     "text": [
      "Enter the string:  i live in india\n"
     ]
    },
    {
     "name": "stdout",
     "output_type": "stream",
     "text": [
      "iliveinindia\n"
     ]
    }
   ],
   "source": [
    "s=input(\"Enter the string: \")\n",
    "b=s.replace(\" \",\"\")\n",
    "# I use replace() function to replace all whitespace with no whitespace\n",
    "print(b)"
   ]
  },
  {
   "cell_type": "code",
   "execution_count": null,
   "id": "db860681-4cca-4049-a155-04c0d08830b3",
   "metadata": {},
   "outputs": [],
   "source": []
  },
  {
   "cell_type": "markdown",
   "id": "743db170-ac8e-4b81-bb11-cda9fa711e5d",
   "metadata": {},
   "source": [
    "Q8. Find the length of a string without using the 'len()' function."
   ]
  },
  {
   "cell_type": "code",
   "execution_count": 7,
   "id": "5cd1344c-178a-4031-990f-7aaed0d424f2",
   "metadata": {},
   "outputs": [
    {
     "name": "stdout",
     "output_type": "stream",
     "text": [
      "10\n"
     ]
    }
   ],
   "source": [
    "count=0\n",
    "s=\"my name is\"\n",
    "# here I iterate the for loop across s\n",
    "for i in s:\n",
    "    count+=1\n",
    "    # count add increase their value after each iteration\n",
    "print(count)    "
   ]
  },
  {
   "cell_type": "code",
   "execution_count": null,
   "id": "c66267df-4cb5-41c1-88cb-16201d1a1865",
   "metadata": {},
   "outputs": [],
   "source": []
  },
  {
   "cell_type": "markdown",
   "id": "d6d630e4-6948-4fa3-88c5-ff25a429b890",
   "metadata": {},
   "source": [
    "Q9. Check if a string contains a specific word."
   ]
  },
  {
   "cell_type": "code",
   "execution_count": 8,
   "id": "7a3f651f-6032-4583-aa9e-3839aafd3f5f",
   "metadata": {},
   "outputs": [
    {
     "name": "stdin",
     "output_type": "stream",
     "text": [
      "Enter the string:  my name \n",
      "Enter the specific word:  virat\n"
     ]
    },
    {
     "name": "stdout",
     "output_type": "stream",
     "text": [
      "This string do not contain 'virat'\n"
     ]
    }
   ],
   "source": [
    "string=input(\"Enter the string: \")\n",
    "# I take input from the user\n",
    "specific=input(\"Enter the specific word: \")\n",
    "# here I takr the specific word from the user\n",
    "if specific in string:\n",
    "    print(f\"This string contain '{specific}'.\")\n",
    "else:\n",
    "    print(f\"This string do not contain '{specific}'\")\n",
    "    # if the specific word found in string them it shows line of code for the if or otherwise else statement will print."
   ]
  },
  {
   "cell_type": "code",
   "execution_count": null,
   "id": "6ee7e76c-c993-4a5b-80fa-2f0cb74e2320",
   "metadata": {},
   "outputs": [],
   "source": []
  },
  {
   "cell_type": "markdown",
   "id": "8ac38114-baed-47bc-af55-d2a5ab9f09db",
   "metadata": {},
   "source": [
    "Q10. Replace a word in a string with another word."
   ]
  },
  {
   "cell_type": "code",
   "execution_count": 9,
   "id": "7e3b26a5-1166-4869-a7fa-111e6ad1a797",
   "metadata": {},
   "outputs": [
    {
     "name": "stdout",
     "output_type": "stream",
     "text": [
      "My name is rohit kohli\n"
     ]
    }
   ],
   "source": [
    "s=\"My name is virat kohli\"\n",
    "b=s.replace(\"virat\",\"rohit\")\n",
    "# with the help of replace function I replace the word in string.\n",
    "print(b)"
   ]
  },
  {
   "cell_type": "code",
   "execution_count": null,
   "id": "1ff55ad6-41f3-4c36-86fd-67ae749865ff",
   "metadata": {},
   "outputs": [],
   "source": []
  },
  {
   "cell_type": "markdown",
   "id": "3e749312-c69a-42bc-b51e-f774537c9c73",
   "metadata": {},
   "source": [
    "Q11. Count the occurrences of a word in a string."
   ]
  },
  {
   "cell_type": "code",
   "execution_count": 15,
   "id": "511344c5-6bc3-41d3-84a1-58e821967e8b",
   "metadata": {},
   "outputs": [
    {
     "name": "stdin",
     "output_type": "stream",
     "text": [
      "Enter the string:  i want to become data scientist so i prepare myself\n",
      "Enter the word:  i\n"
     ]
    },
    {
     "name": "stdout",
     "output_type": "stream",
     "text": [
      "This i occurs 2 time\n"
     ]
    }
   ],
   "source": [
    "s=input(\"Enter the string: \")\n",
    "# take input from the input\n",
    "s=s.split()\n",
    "# now I split the string\n",
    "count=0\n",
    "# initialize count as zero\n",
    "word=input(\"Enter the word: \")\n",
    "for i in s:\n",
    "    if i == word:\n",
    "        count+=1\n",
    "    # if word found in string then count\n",
    "    \n",
    "print(f\"This {word} occurs\",count,\"time\")    "
   ]
  },
  {
   "cell_type": "code",
   "execution_count": null,
   "id": "1e438000-777f-4845-a50d-33afc8c25462",
   "metadata": {},
   "outputs": [],
   "source": []
  },
  {
   "cell_type": "markdown",
   "id": "c5222759-6ff9-4d6a-8703-30d30c28c5c0",
   "metadata": {},
   "source": [
    "Q12. Find the first occurrence of a word in a string."
   ]
  },
  {
   "cell_type": "code",
   "execution_count": 17,
   "id": "4a508628-f2fe-4da6-abc0-5b0718fb2971",
   "metadata": {},
   "outputs": [
    {
     "name": "stdin",
     "output_type": "stream",
     "text": [
      "Enter the text:  my name is virat kohli\n",
      "Enter the word:  is\n"
     ]
    },
    {
     "name": "stdout",
     "output_type": "stream",
     "text": [
      "This word occurs at 8 index.\n"
     ]
    }
   ],
   "source": [
    "text=input(\"Enter the text: \")\n",
    "# take input from user\n",
    "word=input(\"Enter the word: \")\n",
    "index = text.find(word)\n",
    "# with the help of find() function I find the first occurence of a specific word\n",
    "print(f\"This word occurs at {index} index.\")    "
   ]
  },
  {
   "cell_type": "code",
   "execution_count": null,
   "id": "5b331091-0602-4f5f-b267-d8372d2625c2",
   "metadata": {},
   "outputs": [],
   "source": []
  },
  {
   "cell_type": "markdown",
   "id": "a2452811-7907-4aea-a7d4-41e25597bbb8",
   "metadata": {},
   "source": [
    "Q13. Find the last occurrence of a word in a string."
   ]
  },
  {
   "cell_type": "code",
   "execution_count": 18,
   "id": "772bd9f2-5e71-466d-8151-95d9cc10bd24",
   "metadata": {},
   "outputs": [
    {
     "name": "stdin",
     "output_type": "stream",
     "text": [
      "Enter the text:   my name my is my\n",
      "Enter the word my\n"
     ]
    },
    {
     "name": "stdout",
     "output_type": "stream",
     "text": [
      "This word occurs at 15 index.\n"
     ]
    }
   ],
   "source": [
    "text=input(\"Enter the text: \")\n",
    "# take input from user\n",
    "word=input(\"Enter the word\")\n",
    "index = text.rfind(word)\n",
    "# with the help of rfind() function I find the last occurence of a specific word\n",
    "print(f\"This word occurs at {index} index.\")    "
   ]
  },
  {
   "cell_type": "code",
   "execution_count": null,
   "id": "f6c5c043-973f-41ad-90d3-40025167b320",
   "metadata": {},
   "outputs": [],
   "source": []
  },
  {
   "cell_type": "markdown",
   "id": "31b01db7-a84a-4706-8149-394f269a67a5",
   "metadata": {},
   "source": [
    "Q14. Split a string into a list of words."
   ]
  },
  {
   "cell_type": "code",
   "execution_count": 19,
   "id": "d0aaa459-d243-4a56-8f7c-72e4abfafd2c",
   "metadata": {},
   "outputs": [
    {
     "name": "stdout",
     "output_type": "stream",
     "text": [
      "['my', 'name', 'is', 'virat', 'kohli']\n"
     ]
    }
   ],
   "source": [
    "s=\"my name is virat kohli\"\n",
    "b=s.split()\n",
    "# split() function split the word and collect in a list\n",
    "print(b)"
   ]
  },
  {
   "cell_type": "code",
   "execution_count": null,
   "id": "baa38bd2-7a58-4c56-9680-06511258d1fc",
   "metadata": {},
   "outputs": [],
   "source": []
  },
  {
   "cell_type": "markdown",
   "id": "6eb1bcde-3b85-4ed4-a9ca-a20d21c20763",
   "metadata": {},
   "source": [
    "Q15. Join a list of words into a string."
   ]
  },
  {
   "cell_type": "code",
   "execution_count": 20,
   "id": "e34dd3ec-ce67-4068-a427-27c1f18f36a0",
   "metadata": {},
   "outputs": [
    {
     "name": "stdout",
     "output_type": "stream",
     "text": [
      "my name is rohit sharma\n"
     ]
    }
   ],
   "source": [
    "l=['my', 'name', 'is', 'rohit', 'sharma']\n",
    "join=' '.join(l)\n",
    "# join() function join all element of list into a string\n",
    "print(join)"
   ]
  },
  {
   "cell_type": "code",
   "execution_count": null,
   "id": "d436e575-a16f-4828-b264-5922486b32ea",
   "metadata": {},
   "outputs": [],
   "source": []
  },
  {
   "cell_type": "markdown",
   "id": "4f06fca2-5bcc-4cca-bc15-dbc6c6e2a6e9",
   "metadata": {},
   "source": [
    "Q16. Convert a string where words are separated by spaces to one where words\n",
    "are separated by underscores."
   ]
  },
  {
   "cell_type": "code",
   "execution_count": 21,
   "id": "cdfb22ad-47b8-4c4d-9638-f9bea013cb91",
   "metadata": {},
   "outputs": [
    {
     "name": "stdin",
     "output_type": "stream",
     "text": [
      "Enter the string:  my name is\n"
     ]
    },
    {
     "name": "stdout",
     "output_type": "stream",
     "text": [
      "Space is replace by underscore:  my_name_is\n"
     ]
    }
   ],
   "source": [
    "string=input(\"Enter the string: \")\n",
    "b=string.replace(\" \",\"_\")\n",
    "# with the help of replace function I replace whitespace from the undrscores\n",
    "print(\"Space is replace by underscore: \",b)"
   ]
  },
  {
   "cell_type": "code",
   "execution_count": null,
   "id": "db98ac2d-2ed1-4b5b-8e7a-ee70606936c7",
   "metadata": {},
   "outputs": [],
   "source": []
  },
  {
   "cell_type": "markdown",
   "id": "2674a15d-6dc1-45be-8730-0dd79d471b21",
   "metadata": {},
   "source": [
    "Q17. Check if a string starts with a specific word or phrase."
   ]
  },
  {
   "cell_type": "code",
   "execution_count": 22,
   "id": "d862f00c-eec9-47e9-82ef-549b995a1bb0",
   "metadata": {},
   "outputs": [
    {
     "name": "stdout",
     "output_type": "stream",
     "text": [
      "no\n"
     ]
    }
   ],
   "source": [
    "s=\"my name is ritik\"\n",
    "c=\"is\"\n",
    "if s.startswith(c):\n",
    "    # I use startswitch() because it Return True if S starts with the specified prefix, False otherwise\n",
    "    print(\"yes\")\n",
    "else:\n",
    "    print(\"no\")\n"
   ]
  },
  {
   "cell_type": "code",
   "execution_count": null,
   "id": "7e0e45eb-59e4-4c74-8fda-299da2eaeeb6",
   "metadata": {},
   "outputs": [],
   "source": []
  },
  {
   "cell_type": "markdown",
   "id": "6c1b076c-406c-4855-b487-880af38e1f7c",
   "metadata": {},
   "source": [
    "Q18. Check if a string ends with a specific word or phrase."
   ]
  },
  {
   "cell_type": "code",
   "execution_count": 23,
   "id": "8b061675-507c-4153-b867-19882f707817",
   "metadata": {},
   "outputs": [
    {
     "name": "stdout",
     "output_type": "stream",
     "text": [
      "yes\n"
     ]
    }
   ],
   "source": [
    "s=\"my name is ritik\"\n",
    "c=\"ritik\"\n",
    "if s.endswith(c):\n",
    "    # I use endswitch() becuase it Return True if S ends with the specified prefix, False otherwise\n",
    "    print(\"yes\")\n",
    "else:\n",
    "    print(\"no\")\n"
   ]
  },
  {
   "cell_type": "code",
   "execution_count": null,
   "id": "96d68ed1-9e89-4e4a-8885-affc84383bfc",
   "metadata": {},
   "outputs": [],
   "source": []
  },
  {
   "cell_type": "markdown",
   "id": "aa1caeb1-516f-48f0-959b-59b47bf15749",
   "metadata": {},
   "source": [
    "Q19. Convert a string to title case (e.g., \"hello world\" to \"Hello World\")."
   ]
  },
  {
   "cell_type": "code",
   "execution_count": 1,
   "id": "edb5618f-1cda-47a5-aa69-66cc1aa4e888",
   "metadata": {},
   "outputs": [
    {
     "name": "stdin",
     "output_type": "stream",
     "text": [
      "Enter the string:  my name is virat kohli\n"
     ]
    },
    {
     "name": "stdout",
     "output_type": "stream",
     "text": [
      "My Name Is Virat Kohli\n"
     ]
    }
   ],
   "source": [
    "s=input(\"Enter the string: \")\n",
    "b=s.title()\n",
    "# title function any case of character into title\n",
    "print(b)"
   ]
  },
  {
   "cell_type": "code",
   "execution_count": null,
   "id": "f7db43f4-ca2f-416b-b7bb-1548f0b11c21",
   "metadata": {},
   "outputs": [],
   "source": []
  },
  {
   "cell_type": "markdown",
   "id": "008a59b0-8ba4-4a3a-8d4c-505295c54140",
   "metadata": {},
   "source": [
    "Q20.Find the longest word in a string."
   ]
  },
  {
   "cell_type": "code",
   "execution_count": 2,
   "id": "aa42699a-b748-4b42-8e06-f8a299ebab20",
   "metadata": {},
   "outputs": [
    {
     "name": "stdin",
     "output_type": "stream",
     "text": [
      "Enter the string:  virat kohli is an crickter\n"
     ]
    },
    {
     "name": "stdout",
     "output_type": "stream",
     "text": [
      "word with maximum length:  crickter\n"
     ]
    }
   ],
   "source": [
    "str=input(\"Enter the string: \")\n",
    "s=str.split()\n",
    "# split the givn string\n",
    "max=0\n",
    "# initialize the max as zero\n",
    "for i in s:\n",
    "    if len(i)>max:\n",
    "        # if length of i is greater than max\n",
    "        max=len(i)\n",
    "        max_word=i\n",
    "        # then i is assign in the max word\n",
    "print(\"word with maximum length: \",max_word)"
   ]
  },
  {
   "cell_type": "code",
   "execution_count": null,
   "id": "36ab0197-4b19-479c-9ccb-ed16ecdcd65b",
   "metadata": {},
   "outputs": [],
   "source": []
  },
  {
   "cell_type": "markdown",
   "id": "e44fe2eb-3d3b-458e-b0e0-1a9af4d44e1b",
   "metadata": {},
   "source": [
    "Q21. Find the shortest word in a string."
   ]
  },
  {
   "cell_type": "code",
   "execution_count": 3,
   "id": "e2412ae4-6f14-467c-a4d7-3fcebfdd2503",
   "metadata": {},
   "outputs": [
    {
     "name": "stdout",
     "output_type": "stream",
     "text": [
      "I\n"
     ]
    }
   ],
   "source": [
    "def shortest(s):\n",
    "    s=s.split()\n",
    "    # split the string \n",
    "    minv=s[0]\n",
    "    # take zeroth index as the minimum value\n",
    "    for i in s:\n",
    "        if i < minv:\n",
    "            # if i is lesser than minimum value\n",
    "            minv=i\n",
    "            # then assign value of a in minimum value\n",
    "    return minv        \n",
    "\n",
    "s1=\"I live in India\"\n",
    "print(shortest(s1))"
   ]
  },
  {
   "cell_type": "code",
   "execution_count": null,
   "id": "47559bcc-b923-487f-92b8-02c0aea24b6c",
   "metadata": {},
   "outputs": [],
   "source": []
  },
  {
   "cell_type": "markdown",
   "id": "383efc72-b7ee-4359-a8f9-7dac32a39245",
   "metadata": {},
   "source": [
    "Q22. Reverse the order of words in a string."
   ]
  },
  {
   "cell_type": "code",
   "execution_count": 4,
   "id": "2c247283-e7a6-447a-8777-04bd4acde2f6",
   "metadata": {},
   "outputs": [
    {
     "name": "stdout",
     "output_type": "stream",
     "text": [
      "python the learn to here are we\n"
     ]
    }
   ],
   "source": [
    "string=\"we are here to learn the python\"\n",
    "s=string.split()[::-1]\n",
    "# firstly I split string and do slicing operation\n",
    "l=[]\n",
    "# take empty list\n",
    "for i in s:\n",
    "    # iterate the list s\n",
    "    l.append(i)\n",
    "    # append value in the list l\n",
    "print(\" \".join(l))\n",
    "# use join functoion to join the list into string"
   ]
  },
  {
   "cell_type": "code",
   "execution_count": null,
   "id": "4be7ffc3-6319-4ef3-9423-80ddc74bba85",
   "metadata": {},
   "outputs": [],
   "source": []
  },
  {
   "cell_type": "markdown",
   "id": "f0593b8a-185f-4bcd-a1c9-97fa048ebd25",
   "metadata": {},
   "source": [
    "Q23. Check if a string is alphanumeric."
   ]
  },
  {
   "cell_type": "code",
   "execution_count": 5,
   "id": "2c94a6ef-4342-4456-8a0d-2e05f495cccd",
   "metadata": {},
   "outputs": [
    {
     "name": "stdin",
     "output_type": "stream",
     "text": [
      "Enter the string:  ritik12\n"
     ]
    },
    {
     "name": "stdout",
     "output_type": "stream",
     "text": [
      "This string contain alphanumeric\n"
     ]
    }
   ],
   "source": [
    "string=input(\"Enter the string: \")\n",
    "s=string.isalnum()\n",
    "# isalnum to findout that is this string contain alphanumeric value or not\n",
    "if s:\n",
    "    print(\"This string contain alphanumeric\")\n",
    "else:\n",
    "    print(\"This string do not contain alphanumeric\")"
   ]
  },
  {
   "cell_type": "code",
   "execution_count": null,
   "id": "c67d4689-8496-4308-99db-911b262f237f",
   "metadata": {},
   "outputs": [],
   "source": []
  },
  {
   "cell_type": "markdown",
   "id": "1f3423a0-46be-4561-9683-3d9a28088b10",
   "metadata": {},
   "source": [
    "Q24. Extract all digits from a string."
   ]
  },
  {
   "cell_type": "code",
   "execution_count": 8,
   "id": "4934516c-c4b4-4685-bda6-98de1b270f2b",
   "metadata": {},
   "outputs": [
    {
     "name": "stdin",
     "output_type": "stream",
     "text": [
      "Enter the string myname1234\n"
     ]
    },
    {
     "name": "stdout",
     "output_type": "stream",
     "text": [
      "extract digits:  1234\n"
     ]
    }
   ],
   "source": [
    "def extract(text):\n",
    "    digit=''\n",
    "    # take empty string\n",
    "    for i in text:\n",
    "        # iterate the text \n",
    "        if i.isdigit():\n",
    "            # isdigit to find digit in the string\n",
    "            digit+=i\n",
    "        \n",
    "    return digit      \n",
    "\n",
    "text=input(\"Enter the string\")\n",
    "extracted = extract(text)\n",
    "print(\"extract digits: \",extracted)"
   ]
  },
  {
   "cell_type": "code",
   "execution_count": null,
   "id": "c771b588-6163-4e26-853f-96fe544c1fdb",
   "metadata": {},
   "outputs": [],
   "source": []
  },
  {
   "cell_type": "markdown",
   "id": "bee7bc9e-3e70-4a87-ad80-7cbaa982c582",
   "metadata": {},
   "source": [
    "Q25. Extract all alphabets from a string."
   ]
  },
  {
   "cell_type": "code",
   "execution_count": 9,
   "id": "6bc23f77-6643-429e-8448-4729f28eb4ad",
   "metadata": {},
   "outputs": [
    {
     "name": "stdout",
     "output_type": "stream",
     "text": [
      "Hello\n"
     ]
    }
   ],
   "source": [
    "string=\"Hello123\"\n",
    "alphabet=''\n",
    "# take empty string\n",
    "for i in string:\n",
    "    if i.isalpha():\n",
    "        # use isalpha() to extract the alphabet in the string\n",
    "        alphabet+=i\n",
    "print(alphabet)        "
   ]
  },
  {
   "cell_type": "code",
   "execution_count": null,
   "id": "ae600bcd-3f3d-46fd-aa71-c078d5f23d48",
   "metadata": {},
   "outputs": [],
   "source": []
  },
  {
   "cell_type": "markdown",
   "id": "d104669c-0f2e-4e66-95fa-569266d561bf",
   "metadata": {},
   "source": [
    "Q26. Count the number of uppercase letters in a string."
   ]
  },
  {
   "cell_type": "code",
   "execution_count": 10,
   "id": "e62520e9-5d17-4654-86a4-edbd4facd53e",
   "metadata": {},
   "outputs": [
    {
     "name": "stdin",
     "output_type": "stream",
     "text": [
      "Enter the string:  I am from Uttar Pradesh\n"
     ]
    },
    {
     "name": "stdout",
     "output_type": "stream",
     "text": [
      "The number of uppercase character is:  3\n"
     ]
    }
   ],
   "source": [
    "string=input(\"Enter the string: \")\n",
    "count=0\n",
    "for i in string:\n",
    "    if(i.isupper()):\n",
    "        # isupper is use to findout the uppercase character in the string\n",
    "        count+=1\n",
    "print(\"The number of uppercase character is: \",count)\n"
   ]
  },
  {
   "cell_type": "code",
   "execution_count": null,
   "id": "e2c8cb16-3af6-41da-8400-6e1ec5d99318",
   "metadata": {},
   "outputs": [],
   "source": []
  },
  {
   "cell_type": "markdown",
   "id": "b46ba028-b2fa-46b6-bebd-38a3ca0ba29c",
   "metadata": {},
   "source": [
    "Q27. Count the number of lowercase letters in a string."
   ]
  },
  {
   "cell_type": "code",
   "execution_count": 11,
   "id": "5ef3d561-eaeb-4aac-be5f-635d26cc1938",
   "metadata": {},
   "outputs": [
    {
     "name": "stdin",
     "output_type": "stream",
     "text": [
      "Enter the string:  I am from Uttar Pradesh\n"
     ]
    },
    {
     "name": "stdout",
     "output_type": "stream",
     "text": [
      "The number of lowercase character is:  16\n"
     ]
    }
   ],
   "source": [
    "string=input(\"Enter the string: \")\n",
    "count=0\n",
    "for i in string:\n",
    "    if(i.islower()):\n",
    "        # islower is use to findout the lowercase character in the string\n",
    "        count+=1\n",
    "print(\"The number of lowercase character is: \",count)"
   ]
  },
  {
   "cell_type": "code",
   "execution_count": null,
   "id": "ed579fe5-f9c0-4e42-bad4-78c9194790ae",
   "metadata": {},
   "outputs": [],
   "source": []
  },
  {
   "cell_type": "markdown",
   "id": "e65803d9-705c-44e3-8e91-1081cdcf893b",
   "metadata": {},
   "source": [
    "Q28. Swap the case of each character in a string."
   ]
  },
  {
   "cell_type": "code",
   "execution_count": 12,
   "id": "61fd08fd-6705-4a3d-8895-dc0a0d59f83b",
   "metadata": {},
   "outputs": [
    {
     "name": "stdin",
     "output_type": "stream",
     "text": [
      "Enter the string:  my name is RITIK\n"
     ]
    },
    {
     "name": "stdout",
     "output_type": "stream",
     "text": [
      "MY NAME IS ritik\n"
     ]
    }
   ],
   "source": [
    "s=input(\"Enter the string: \")\n",
    "swap=s.swapcase()\n",
    "# swapcase() is swap the character case\n",
    "print(swap)"
   ]
  },
  {
   "cell_type": "code",
   "execution_count": null,
   "id": "b52b498b-0d5e-4b4e-b510-a7a4e237767b",
   "metadata": {},
   "outputs": [],
   "source": []
  },
  {
   "cell_type": "markdown",
   "id": "31f96854-eaa7-4653-abdc-e213be09c368",
   "metadata": {},
   "source": [
    "Q29. Remove a specific word from a string."
   ]
  },
  {
   "cell_type": "code",
   "execution_count": 13,
   "id": "16533ed3-3301-4062-ad81-7895655b4350",
   "metadata": {},
   "outputs": [
    {
     "name": "stdin",
     "output_type": "stream",
     "text": [
      "Enter the string:  my name is virat kohli\n",
      "Enter the remove word:  name\n"
     ]
    },
    {
     "name": "stdout",
     "output_type": "stream",
     "text": [
      "my is virat kohli\n"
     ]
    }
   ],
   "source": [
    "string=input(\"Enter the string: \")\n",
    "word=input(\"Enter the remove word: \")\n",
    "s=string.split()\n",
    "remove=s.remove(word)\n",
    "# remove() is use to remove the word from the string\n",
    "str1=\" \"\n",
    "print(str1.join(s))"
   ]
  },
  {
   "cell_type": "code",
   "execution_count": null,
   "id": "fad60796-144f-4d7a-8bca-e8727a84276b",
   "metadata": {},
   "outputs": [],
   "source": []
  },
  {
   "cell_type": "markdown",
   "id": "e4669535-e1f0-42f6-9808-6254eba09ef2",
   "metadata": {},
   "source": [
    "Q30. Check if a string is a valid email address."
   ]
  },
  {
   "cell_type": "code",
   "execution_count": 8,
   "id": "7a79d87e-7bc7-4fb4-bb7a-4d6cf08ccbf1",
   "metadata": {},
   "outputs": [
    {
     "name": "stdout",
     "output_type": "stream",
     "text": [
      "True\n",
      "False\n"
     ]
    }
   ],
   "source": [
    "import re\n",
    "def email_valid(email):\n",
    "    pattern = r'^[\\w\\.-]+@[\\w\\.-]+\\.\\w+$'\n",
    "    if re.match(pattern,email):\n",
    "        return True\n",
    "    else:\n",
    "        return False\n",
    "\n",
    "email1=\"kdj12@gmail.com\"\n",
    "email2=\"itmgmail.com\"\n",
    "print(email_valid(email1))\n",
    "print(email_valid(email2))"
   ]
  },
  {
   "cell_type": "code",
   "execution_count": null,
   "id": "8c4681cc-b55a-4c07-b628-2e8cb40e89ae",
   "metadata": {},
   "outputs": [],
   "source": []
  },
  {
   "cell_type": "markdown",
   "id": "8bcda89e-5a39-4664-a876-a016ad3cc95a",
   "metadata": {},
   "source": [
    "Q31. Extract the username from an email address string."
   ]
  },
  {
   "cell_type": "code",
   "execution_count": 13,
   "id": "08597538-a8d7-4adb-89af-fcad650c5f02",
   "metadata": {},
   "outputs": [
    {
     "name": "stdout",
     "output_type": "stream",
     "text": [
      "Extracted username:  virat\n"
     ]
    }
   ],
   "source": [
    "def extract(email):\n",
    "    user=email.split(\"@\")[0]\n",
    "    return user\n",
    "\n",
    "email1=\"virat@gmail.com\"\n",
    "print(\"Extracted username: \",extract(email1))"
   ]
  },
  {
   "cell_type": "code",
   "execution_count": null,
   "id": "131c1ace-0317-418e-90ad-61559bcda67a",
   "metadata": {},
   "outputs": [],
   "source": []
  },
  {
   "cell_type": "markdown",
   "id": "7c2eb079-ef82-4607-81fb-ecbedd3c76c7",
   "metadata": {},
   "source": [
    "Q32. Extract the domain name from an email address string."
   ]
  },
  {
   "cell_type": "code",
   "execution_count": 23,
   "id": "1948c697-ba4f-4cf4-b022-86f57e0aca78",
   "metadata": {},
   "outputs": [
    {
     "name": "stdout",
     "output_type": "stream",
     "text": [
      "Extracted domain: yahoo.com\n"
     ]
    }
   ],
   "source": [
    "def domain(email):\n",
    "    domain=email.split('@')[1]\n",
    "    return domain\n",
    "\n",
    "email1='virat@yahoo.com'\n",
    "print(\"Extracted domain:\",domain(email1))"
   ]
  },
  {
   "cell_type": "code",
   "execution_count": null,
   "id": "b1773d73-d158-4198-ba4a-6b6dda163aa1",
   "metadata": {},
   "outputs": [],
   "source": []
  },
  {
   "cell_type": "markdown",
   "id": "88282703-73a3-49ff-8098-cd0ec633fff0",
   "metadata": {},
   "source": [
    "Q33. Replace multiple spaces in a string with a single space."
   ]
  },
  {
   "cell_type": "code",
   "execution_count": 24,
   "id": "d4a9f7bf-4a4f-4cfc-a105-0561ec69f3a3",
   "metadata": {},
   "outputs": [
    {
     "name": "stdout",
     "output_type": "stream",
     "text": [
      "India win this world cup\n"
     ]
    }
   ],
   "source": [
    "string=\"India   win   this  world    cup \"\n",
    "clear_string=' '.join(string.split())\n",
    "print(clear_string)"
   ]
  },
  {
   "cell_type": "code",
   "execution_count": null,
   "id": "25915673-6c7c-4c7b-b273-f1a20838aef3",
   "metadata": {},
   "outputs": [],
   "source": []
  },
  {
   "cell_type": "markdown",
   "id": "e7a13e73-35f7-4c02-9ef6-216e69941df0",
   "metadata": {},
   "source": [
    "Q34. Check if a string is a valid URL."
   ]
  },
  {
   "cell_type": "code",
   "execution_count": 30,
   "id": "2b766adc-ffb7-4718-8e70-8c5a2a0b2bfd",
   "metadata": {},
   "outputs": [
    {
     "name": "stdout",
     "output_type": "stream",
     "text": [
      "True\n",
      "False\n"
     ]
    }
   ],
   "source": [
    "from urllib.parse import urlparse\n",
    "def valid(url):\n",
    "    try:\n",
    "        result = urlparse(url)\n",
    "        return all([result.scheme, result.netloc])\n",
    "    except ValueError:\n",
    "        return False\n",
    "\n",
    "url1 = \"https://www.example.com\"\n",
    "url2 = \"invalid-url\"\n",
    "result1 = valid(url1)\n",
    "result2 = valid(url2)\n",
    "print(result1) \n",
    "print(result2) "
   ]
  },
  {
   "cell_type": "code",
   "execution_count": null,
   "id": "b98052da-9385-4379-b26e-297ed23a9d27",
   "metadata": {},
   "outputs": [],
   "source": []
  },
  {
   "cell_type": "markdown",
   "id": "95fd6bfb-aad6-4d3f-852f-4481bd4ec469",
   "metadata": {},
   "source": [
    "Q35. Extract the protocol (http or https) from a URL string."
   ]
  },
  {
   "cell_type": "code",
   "execution_count": 14,
   "id": "67616436-b155-4e1a-903b-6bf2d0de8026",
   "metadata": {},
   "outputs": [
    {
     "name": "stdout",
     "output_type": "stream",
     "text": [
      "Protocol 1: https\n",
      "Protocol 2: http\n",
      "Protocol 3: ftp\n"
     ]
    }
   ],
   "source": [
    "def extract_protocol(url):\n",
    "    # Find the index of the first occurrence of \"://\"\n",
    "    protocol_end = url.find(\"://\")\n",
    "\n",
    "    if protocol_end != -1:\n",
    "        # Extract the protocol from the URL\n",
    "        protocol = url[:protocol_end]\n",
    "        return protocol\n",
    "    else:\n",
    "        return None\n",
    "\n",
    "# Example URL strings\n",
    "url1 = \"https://www.example.com\"\n",
    "url2 = \"http://google.com\"\n",
    "url3 = \"ftp://ftp.example.com\"\n",
    "\n",
    "# Extract protocols\n",
    "protocol1 = extract_protocol(url1)\n",
    "protocol2 = extract_protocol(url2)\n",
    "protocol3 = extract_protocol(url3)\n",
    "\n",
    "# Print extracted protocols\n",
    "print(\"Protocol 1:\", protocol1)\n",
    "print(\"Protocol 2:\", protocol2)\n",
    "print(\"Protocol 3:\", protocol3)"
   ]
  },
  {
   "cell_type": "code",
   "execution_count": null,
   "id": "48945d63-ee9c-4083-a9a2-4c80bd9b96ea",
   "metadata": {},
   "outputs": [],
   "source": []
  },
  {
   "cell_type": "markdown",
   "id": "55c893d2-8d49-4fa2-8b56-73114fae717e",
   "metadata": {},
   "source": [
    "Q37. Remove all punctuation from a string."
   ]
  },
  {
   "cell_type": "code",
   "execution_count": 3,
   "id": "80d1dea7-acd2-4a7c-9e51-f9d3a070705a",
   "metadata": {},
   "outputs": [
    {
     "name": "stdout",
     "output_type": "stream",
     "text": [
      "Hello India We win Wolrd Cup \n"
     ]
    }
   ],
   "source": [
    "text=\"Hello, India! We win Wolrd Cup. \"\n",
    "punc='.,!?:;'\n",
    "result=''\n",
    "for i in text:\n",
    "    if i not in punc:\n",
    "        result+=i\n",
    "print(result)        "
   ]
  },
  {
   "cell_type": "code",
   "execution_count": null,
   "id": "daf00d9e-dda9-43ec-af52-f79e027a319f",
   "metadata": {},
   "outputs": [],
   "source": []
  },
  {
   "cell_type": "markdown",
   "id": "ee7709eb-6dfd-42b5-b879-e65159faf75f",
   "metadata": {},
   "source": [
    "Q38. Check if a string contains only digits."
   ]
  },
  {
   "cell_type": "code",
   "execution_count": 1,
   "id": "4f7ddc40-cf81-460f-82a0-4df5418f228b",
   "metadata": {},
   "outputs": [
    {
     "name": "stdout",
     "output_type": "stream",
     "text": [
      "True\n",
      "False\n"
     ]
    }
   ],
   "source": [
    "def check_digit(string):\n",
    "    return string.isdigit()\n",
    "\n",
    "s1=\"123\"\n",
    "s2='abc123'\n",
    "print(check_digit(s1))\n",
    "print(check_digit(s2))"
   ]
  },
  {
   "cell_type": "code",
   "execution_count": null,
   "id": "e647600d-978f-404b-ae7d-8de14a0f12af",
   "metadata": {},
   "outputs": [],
   "source": []
  },
  {
   "cell_type": "markdown",
   "id": "318a1fb7-51b9-4c9c-9346-6f8e9f7195ce",
   "metadata": {},
   "source": [
    "Q39. Check if a string contains only alphabets."
   ]
  },
  {
   "cell_type": "code",
   "execution_count": 3,
   "id": "a3034e58-a4d4-42f6-9541-0205e3565626",
   "metadata": {},
   "outputs": [
    {
     "name": "stdout",
     "output_type": "stream",
     "text": [
      "True\n",
      "False\n"
     ]
    }
   ],
   "source": [
    "def check_alpha(string):\n",
    "    return string.isalpha()\n",
    "\n",
    "s1='abc'\n",
    "s2='abc123'\n",
    "print(check_alpha(s1))\n",
    "print(check_alpha(s2))"
   ]
  },
  {
   "cell_type": "code",
   "execution_count": null,
   "id": "3bbc22a5-7804-4ece-89a5-fc7e8253b5e7",
   "metadata": {},
   "outputs": [],
   "source": []
  },
  {
   "cell_type": "markdown",
   "id": "2b6c28c6-deb1-4564-ae12-8c4523a87179",
   "metadata": {},
   "source": [
    "Q40. Convert a string to a list of characters."
   ]
  },
  {
   "cell_type": "code",
   "execution_count": 5,
   "id": "86f7bb06-4831-4b8f-b74f-1a878e2497d8",
   "metadata": {},
   "outputs": [
    {
     "name": "stdin",
     "output_type": "stream",
     "text": [
      "Enter the string:  India win cup\n"
     ]
    },
    {
     "name": "stdout",
     "output_type": "stream",
     "text": [
      "['I', 'n', 'd', 'i', 'a', ' ', 'w', 'i', 'n', ' ', 'c', 'u', 'p']\n"
     ]
    }
   ],
   "source": [
    "string=input(\"Enter the string: \")\n",
    "l=list(string)\n",
    "print(l)"
   ]
  },
  {
   "cell_type": "code",
   "execution_count": null,
   "id": "7b5c0ad5-aa10-4749-99c2-1a6b4487ed7a",
   "metadata": {},
   "outputs": [],
   "source": []
  },
  {
   "cell_type": "markdown",
   "id": "addf8a8b-31c6-453d-a6b6-fd0b8e4d373e",
   "metadata": {},
   "source": [
    "Q41. Check if two strings are anagrams."
   ]
  },
  {
   "cell_type": "code",
   "execution_count": 6,
   "id": "4c65820b-f413-4511-a8a7-f9be18edc463",
   "metadata": {},
   "outputs": [
    {
     "name": "stdout",
     "output_type": "stream",
     "text": [
      "True\n",
      "False\n"
     ]
    }
   ],
   "source": [
    "def check_ana(s1,s2):\n",
    "    s1= s1.replace('',\" \").lower()\n",
    "    s2= s2.replace('',' ').lower()\n",
    "    return sorted(s1)==sorted(s2)\n",
    "\n",
    "s1='triangle'\n",
    "s2='integral'\n",
    "s3='noise'\n",
    "s4='warm'\n",
    "\n",
    "print(check_ana(s1,s2))\n",
    "print(check_ana(s3,s4))\n",
    "\n"
   ]
  },
  {
   "cell_type": "code",
   "execution_count": null,
   "id": "cdbc14ec-31ab-458c-8b06-36adaee57305",
   "metadata": {},
   "outputs": [],
   "source": []
  },
  {
   "cell_type": "markdown",
   "id": "ff236abd-082d-42bf-917b-bd3294b2a46c",
   "metadata": {},
   "source": [
    "Q42. Encode a string using a Caesar cipher."
   ]
  },
  {
   "cell_type": "code",
   "execution_count": 15,
   "id": "7bc1c18c-90c1-4751-ada7-2c0126030a17",
   "metadata": {},
   "outputs": [],
   "source": [
    "def caeser(text,shift):\n",
    "    text=text.lower()\n",
    "    encoded=''\n",
    "    for char in text:\n",
    "        if char.isalpha():\n",
    "            encoded_text=chr((ord(char)+shift-ord('a'))%26 + ord('a'))\n",
    "        else:\n",
    "            encoded_text=char\n",
    "        encoded+=encoded_text    \n",
    "    return encoded        "
   ]
  },
  {
   "cell_type": "code",
   "execution_count": 16,
   "id": "40cf8db5-8521-481c-b639-cbbd1d25f73d",
   "metadata": {},
   "outputs": [
    {
     "data": {
      "text/plain": [
       "'khoor'"
      ]
     },
     "execution_count": 16,
     "metadata": {},
     "output_type": "execute_result"
    }
   ],
   "source": [
    "caeser(\"Hello\",3)"
   ]
  },
  {
   "cell_type": "code",
   "execution_count": null,
   "id": "b7c4de8c-a72f-4e02-a1c2-2052f800a378",
   "metadata": {},
   "outputs": [],
   "source": []
  },
  {
   "cell_type": "markdown",
   "id": "d461ff35-f159-4269-928a-a06ae46f87c3",
   "metadata": {},
   "source": [
    "Q43. Decode a string using a Caesar cipher."
   ]
  },
  {
   "cell_type": "code",
   "execution_count": 13,
   "id": "e6502cce-b61f-475e-a4a7-87be192d1a9d",
   "metadata": {},
   "outputs": [],
   "source": [
    "def de(text,shift):\n",
    "    decrypt=''\n",
    "    for char in text:\n",
    "        if char.isalpha():\n",
    "            de_text=chr((ord(char)-shift-ord('a'))%26 + ord('a') )\n",
    "        else:\n",
    "            de_text=char\n",
    "        decrypt+=de_text\n",
    "    return decrypt "
   ]
  },
  {
   "cell_type": "code",
   "execution_count": 17,
   "id": "d073a12a-2382-47e6-913a-b73dc3d0a8e7",
   "metadata": {},
   "outputs": [
    {
     "data": {
      "text/plain": [
       "'hello'"
      ]
     },
     "execution_count": 17,
     "metadata": {},
     "output_type": "execute_result"
    }
   ],
   "source": [
    "de('khoor',3)"
   ]
  },
  {
   "cell_type": "code",
   "execution_count": null,
   "id": "b92d5323-efdf-439c-8bdf-757896da457b",
   "metadata": {},
   "outputs": [],
   "source": []
  },
  {
   "cell_type": "markdown",
   "id": "c07f71a9-d7bd-4667-8caa-07c6a2c19a4b",
   "metadata": {},
   "source": [
    "Q44. Find the most frequent word in a string."
   ]
  },
  {
   "cell_type": "code",
   "execution_count": 11,
   "id": "feff696b-ad82-4339-86fe-c70e2119dfbc",
   "metadata": {},
   "outputs": [
    {
     "name": "stdout",
     "output_type": "stream",
     "text": [
      "Hello,!\n"
     ]
    }
   ],
   "source": [
    "def most_frequent_word(s):\n",
    "    words = s.split()\n",
    "    words.sort()\n",
    "    max_count = 0\n",
    "    max_word = ''\n",
    "    current_count = 1\n",
    "    current_word = words[0]\n",
    "    for i in range(1, len(words)):\n",
    "        if words[i] == current_word:\n",
    "            current_count += 1\n",
    "        else:\n",
    "            if current_count > max_count:\n",
    "                max_count = current_count\n",
    "                max_word = current_word\n",
    "            current_word = words[i]\n",
    "            current_count = 1\n",
    "    if current_count > max_count:\n",
    "        max_count = current_count\n",
    "        max_word = current_word\n",
    "    return max_word\n",
    "\n",
    "s1=\"Hello,! in the world hello\"\n",
    "print(most_frequent_word(s1))"
   ]
  },
  {
   "cell_type": "code",
   "execution_count": null,
   "id": "23b354a9-c4aa-4b3d-974e-485fc4c9478b",
   "metadata": {},
   "outputs": [],
   "source": []
  },
  {
   "cell_type": "markdown",
   "id": "7b76c0b7-b9bf-407a-842d-53a7328060be",
   "metadata": {},
   "source": [
    "Q45. Find all unique words in a string."
   ]
  },
  {
   "cell_type": "code",
   "execution_count": 4,
   "id": "02a42edd-97dc-48dc-829f-4a8ef1214da2",
   "metadata": {},
   "outputs": [],
   "source": [
    "import re\n",
    "\n",
    "def unique(string):\n",
    "    clean= re.sub(r'[^\\w\\s]', '',string).lower()\n",
    "    split=set(clean.split())\n",
    "    return split"
   ]
  },
  {
   "cell_type": "code",
   "execution_count": 6,
   "id": "9ccaf3af-dd66-4d91-9f49-848b012af9a7",
   "metadata": {},
   "outputs": [
    {
     "data": {
      "text/plain": [
       "{'hello', 'in', 'the', 'world'}"
      ]
     },
     "execution_count": 6,
     "metadata": {},
     "output_type": "execute_result"
    }
   ],
   "source": [
    "unique(\"Hello,! in the world hello\")"
   ]
  },
  {
   "cell_type": "code",
   "execution_count": null,
   "id": "a0145bb2-f979-47b1-a1a8-e4612a96f58a",
   "metadata": {},
   "outputs": [],
   "source": []
  },
  {
   "cell_type": "markdown",
   "id": "d811d030-9036-4063-9f94-f8a2d5d8862e",
   "metadata": {},
   "source": [
    "Q46. Count the number of syllables in a string."
   ]
  },
  {
   "cell_type": "code",
   "execution_count": 16,
   "id": "53e9f8d7-bcda-4d5e-962a-1a248b299d6c",
   "metadata": {},
   "outputs": [
    {
     "name": "stdout",
     "output_type": "stream",
     "text": [
      "5\n",
      "3\n",
      "3\n"
     ]
    }
   ],
   "source": [
    "def count_syllables(word):\n",
    "    vowels = \"aeiouy\"\n",
    "    count = 0\n",
    "    for letter in word:\n",
    "        if letter in vowels:\n",
    "            count += 1\n",
    "    return count\n",
    "\n",
    "def count_syllables_in_string(string):\n",
    "    words = string.split()\n",
    "    count = 0\n",
    "    for word in words:\n",
    "        count += count_syllables(word)\n",
    "    return count\n",
    "word1 = \"hello in the world\"\n",
    "word2 = \"banana\"\n",
    "word3 = \"syllable\"\n",
    "\n",
    "print(count_syllables_in_string(word1))\n",
    "print(count_syllables_in_string(word2))\n",
    "print(count_syllables_in_string(word3))"
   ]
  },
  {
   "cell_type": "code",
   "execution_count": null,
   "id": "f3fce719-ecbd-4f44-a24b-76ddd116e538",
   "metadata": {},
   "outputs": [],
   "source": []
  },
  {
   "cell_type": "markdown",
   "id": "7dedb529-c1f1-41f5-8903-ab0166f4dafb",
   "metadata": {},
   "source": [
    "Q47. Check if a string contains any special characters."
   ]
  },
  {
   "cell_type": "code",
   "execution_count": 8,
   "id": "dcf3933a-e345-4b2e-9727-8bb282a23969",
   "metadata": {},
   "outputs": [
    {
     "name": "stdout",
     "output_type": "stream",
     "text": [
      "True\n",
      "False\n"
     ]
    }
   ],
   "source": [
    "def check(string):\n",
    "    special=\"!@#$%^&*()_+-=[]{}|;':\\\",./<>?\\\\\"\n",
    "    for i in string:\n",
    "        if i in special:\n",
    "            return True\n",
    "    return False\n",
    "\n",
    "s1=\"Yahoo! India won World Cup\"\n",
    "s2='I am in India'\n",
    "print(check(s1))\n",
    "print(check(s2))"
   ]
  },
  {
   "cell_type": "code",
   "execution_count": null,
   "id": "217f6a22-3c3d-4af7-8a6b-baada036d494",
   "metadata": {},
   "outputs": [],
   "source": []
  },
  {
   "cell_type": "markdown",
   "id": "61d32265-50f9-4c75-a069-68da9a1fd730",
   "metadata": {},
   "source": [
    "Q48. Remove the nth word from a string."
   ]
  },
  {
   "cell_type": "code",
   "execution_count": 27,
   "id": "d63d0931-e808-417c-b103-a9b45d67dedd",
   "metadata": {},
   "outputs": [],
   "source": [
    "def word_remove(string):\n",
    "    remove=input(\"Enter the word which you wan to remove from the string: \").lower()\n",
    "    split=string.lower().split()\n",
    "    \n",
    "    for i in range(len(split)):\n",
    "        if split[i] == remove:\n",
    "            removed_word = split.pop(i)\n",
    "            return ' '.join(split), removed_word\n",
    "\n",
    "    return string, f'The word \"{remove}\" was not found in the string'"
   ]
  },
  {
   "cell_type": "code",
   "execution_count": 31,
   "id": "7c9f329e-2a08-468e-8287-e64a0fb7097a",
   "metadata": {},
   "outputs": [
    {
     "name": "stdin",
     "output_type": "stream",
     "text": [
      "Enter the word which you want to remove from the string:  the\n"
     ]
    },
    {
     "data": {
      "text/plain": [
       "('india won world cup this year', 'the')"
      ]
     },
     "execution_count": 31,
     "metadata": {},
     "output_type": "execute_result"
    }
   ],
   "source": [
    "word_remove(\"India won the world cup this year\")"
   ]
  },
  {
   "cell_type": "code",
   "execution_count": null,
   "id": "51a07e36-2939-439b-9a27-9facd1a3335d",
   "metadata": {},
   "outputs": [],
   "source": []
  },
  {
   "cell_type": "markdown",
   "id": "2e16e186-5cbf-48cc-9927-2cb715fbc64b",
   "metadata": {},
   "source": [
    "Q49. Insert a word at the nth position in a string."
   ]
  },
  {
   "cell_type": "code",
   "execution_count": 35,
   "id": "a55e1d3d-428b-42ca-9ea4-cda94fa9425e",
   "metadata": {},
   "outputs": [],
   "source": [
    "def word_insert(string):\n",
    "    s = string.split()\n",
    "    word_insert = input(\"Enter the word to be entered: \")\n",
    "    word_index = int(input(\"Enter the index of the word: \"))\n",
    "    s.insert(word_index, word_insert)\n",
    "    return ' '.join(s)"
   ]
  },
  {
   "cell_type": "code",
   "execution_count": 36,
   "id": "4c956f2c-f874-4b5f-86ba-192f1df85f85",
   "metadata": {},
   "outputs": [
    {
     "name": "stdin",
     "output_type": "stream",
     "text": [
      "Enter the word to be entered:  the\n",
      "Enter the index of the word:  2\n"
     ]
    },
    {
     "data": {
      "text/plain": [
       "'india win the world cup'"
      ]
     },
     "execution_count": 36,
     "metadata": {},
     "output_type": "execute_result"
    }
   ],
   "source": [
    "word_insert('india win world cup')"
   ]
  },
  {
   "cell_type": "code",
   "execution_count": null,
   "id": "868ab29d-3dfb-46aa-adf1-14f333ce6c88",
   "metadata": {},
   "outputs": [],
   "source": []
  },
  {
   "cell_type": "markdown",
   "id": "896c43fb-9ffd-406c-9eea-2ff3e1624095",
   "metadata": {},
   "source": [
    "Q50. Convert a CSV string to a list of lists."
   ]
  },
  {
   "cell_type": "code",
   "execution_count": 20,
   "id": "bd163d2f-8425-4f98-b0a7-7c195352e9ed",
   "metadata": {},
   "outputs": [
    {
     "name": "stdout",
     "output_type": "stream",
     "text": [
      "[['1.0', '0.0', '5.0'], ['2.0', '0.0', '4.0'], ['3.0', '0.0', '3.0'], ['4.0', '0.0', '2.0'], ['5.0', '0.0', '1.0']]\n"
     ]
    }
   ],
   "source": [
    "csv_string = \"1.0,0.0,5.0\\n2.0,0.0,4.0\\n3.0,0.0,3.0\\n4.0,0.0,2.0\\n5.0,0.0,1.0\"\n",
    "csv_list = csv_string.split(\"\\n\")\n",
    "csv_list_of_lists = []\n",
    "for row in csv_list:\n",
    "    csv_list_of_lists.append(row.split(\",\"))\n",
    "print(csv_list_of_lists)"
   ]
  },
  {
   "cell_type": "code",
   "execution_count": null,
   "id": "2c37360a-2901-4964-a3b5-43eff6e5505e",
   "metadata": {},
   "outputs": [],
   "source": []
  },
  {
   "cell_type": "markdown",
   "id": "761cbcb3-0b95-422d-a569-4111a761f5bc",
   "metadata": {},
   "source": [
    "## List Based Practice Problem :"
   ]
  },
  {
   "cell_type": "markdown",
   "id": "8bc164bf-a75d-4697-9a59-5f657c1c4429",
   "metadata": {},
   "source": [
    "Q1. Create a list with integers from 1 to 10."
   ]
  },
  {
   "cell_type": "code",
   "execution_count": 2,
   "id": "715d2fca-2cea-4024-a797-a3f4bf62eb14",
   "metadata": {},
   "outputs": [
    {
     "name": "stdout",
     "output_type": "stream",
     "text": [
      "[1, 2, 3, 4, 5, 6, 7, 8, 9, 10]\n"
     ]
    }
   ],
   "source": [
    "l=[]\n",
    "for i in range(1,11):\n",
    "    l.append(i)\n",
    "print(l)    "
   ]
  },
  {
   "cell_type": "code",
   "execution_count": null,
   "id": "d30f9791-f8e8-41be-9c1e-c2a2831f1dfe",
   "metadata": {},
   "outputs": [],
   "source": []
  },
  {
   "cell_type": "markdown",
   "id": "4095930f-d5c1-4d3d-9d52-f5e199fec0d1",
   "metadata": {},
   "source": [
    "Q2. Find the length of a list without using the `len()` function."
   ]
  },
  {
   "cell_type": "code",
   "execution_count": 1,
   "id": "338fb1c7-39a4-46e5-956f-6a33e801c10f",
   "metadata": {},
   "outputs": [
    {
     "name": "stdout",
     "output_type": "stream",
     "text": [
      "5\n"
     ]
    }
   ],
   "source": [
    "total=0\n",
    "l=[1,2,3,4,5]\n",
    "for i in l:\n",
    "    total+=1\n",
    "print(total)    "
   ]
  },
  {
   "cell_type": "code",
   "execution_count": null,
   "id": "efb3d9bd-eb19-422e-9f9a-071205ad3d4e",
   "metadata": {},
   "outputs": [],
   "source": []
  },
  {
   "cell_type": "markdown",
   "id": "eea171c7-139d-4d24-9ca9-97a708377ac3",
   "metadata": {},
   "source": [
    "Q3. Append an element to the end of a list."
   ]
  },
  {
   "cell_type": "code",
   "execution_count": 2,
   "id": "595720e1-9dd9-452f-869e-64ab60c05d66",
   "metadata": {},
   "outputs": [
    {
     "name": "stdout",
     "output_type": "stream",
     "text": [
      "[1, 2, 3, 4, 5, 6]\n"
     ]
    }
   ],
   "source": [
    "l=[1,2,3,4,5]\n",
    "l.append(6)\n",
    "print(l)"
   ]
  },
  {
   "cell_type": "code",
   "execution_count": null,
   "id": "c873b485-c3c4-4084-abf6-c9f526fbc5f4",
   "metadata": {},
   "outputs": [],
   "source": []
  },
  {
   "cell_type": "markdown",
   "id": "533b1ffd-9918-4966-a301-1566ca6acdd2",
   "metadata": {},
   "source": [
    "Q4. Insert an element at a specific index in a list."
   ]
  },
  {
   "cell_type": "code",
   "execution_count": 10,
   "id": "a5214889-7c30-402b-b294-abbdcb1f5c7a",
   "metadata": {},
   "outputs": [
    {
     "name": "stdout",
     "output_type": "stream",
     "text": [
      "Old list:  [1, 2, 3, 4, 5]\n",
      "New list:  [50, 1, 2, 3, 4, 5]\n"
     ]
    }
   ],
   "source": [
    "l=[1,2,3,4,5]\n",
    "print(\"Old list: \",l)\n",
    "l.insert(0,50)\n",
    "print(\"New list: \",l)"
   ]
  },
  {
   "cell_type": "code",
   "execution_count": null,
   "id": "58eb9cf8-0b03-4b34-80ae-9a6aed7915ef",
   "metadata": {},
   "outputs": [],
   "source": []
  },
  {
   "cell_type": "markdown",
   "id": "3a88b70e-e596-48a9-8a05-5f0e0c0310bb",
   "metadata": {},
   "source": [
    "Q5. Remove an element from a list by its value."
   ]
  },
  {
   "cell_type": "code",
   "execution_count": 5,
   "id": "64eba686-b66a-46b4-ab02-8f7fd19ae8dc",
   "metadata": {},
   "outputs": [
    {
     "name": "stdout",
     "output_type": "stream",
     "text": [
      "The current list is:  [1, 2, 3, 4, 5, 6, 7, 8, 9, 10]\n"
     ]
    },
    {
     "name": "stdin",
     "output_type": "stream",
     "text": [
      "Enter which you want to remove:  5\n"
     ]
    },
    {
     "name": "stdout",
     "output_type": "stream",
     "text": [
      "The updated list is  [1, 2, 3, 4, 6, 7, 8, 9, 10]\n"
     ]
    }
   ],
   "source": [
    "l=[]\n",
    "for i in range(1,11):\n",
    "    l.append(i)\n",
    "print(\"The current list is: \",l)\n",
    "n=int(input(\"Enter which you want to remove: \"))\n",
    "l.remove(n)\n",
    "print(\"The updated list is \",l)"
   ]
  },
  {
   "cell_type": "code",
   "execution_count": null,
   "id": "3a391d73-e1f5-456f-9429-09675a9f6894",
   "metadata": {},
   "outputs": [],
   "source": []
  },
  {
   "cell_type": "markdown",
   "id": "5ae4c224-3191-4436-b09e-c3f10ccb8223",
   "metadata": {},
   "source": [
    "Q6. Remove an element from a list by its index."
   ]
  },
  {
   "cell_type": "code",
   "execution_count": 16,
   "id": "64c48fe8-f8c4-4112-91fc-de0846a4bcb3",
   "metadata": {},
   "outputs": [
    {
     "name": "stdout",
     "output_type": "stream",
     "text": [
      "list =  [1, 2, 3, 4, 5, 6, 7, 8, 9, 10]\n"
     ]
    },
    {
     "name": "stdin",
     "output_type": "stream",
     "text": [
      "Enter the index which you want to remove:  0\n"
     ]
    },
    {
     "name": "stdout",
     "output_type": "stream",
     "text": [
      "Upadated list:  [2, 3, 4, 5, 6, 7, 8, 9, 10]\n"
     ]
    }
   ],
   "source": [
    "l=[]\n",
    "for i in range(1,11):\n",
    "    l.append(i)\n",
    "print(\"list = \",l)\n",
    "n=int(input(\"Enter the index which you want to remove: \"))\n",
    "l.pop(n)\n",
    "print(\"Upadated list: \",l)"
   ]
  },
  {
   "cell_type": "code",
   "execution_count": null,
   "id": "571c090a-483a-4be3-862c-d2969d6cddd3",
   "metadata": {},
   "outputs": [],
   "source": []
  },
  {
   "cell_type": "markdown",
   "id": "716cba90-742c-47c6-8c18-e75cea0e46b7",
   "metadata": {},
   "source": [
    "Q7. Check if an element exists in a list."
   ]
  },
  {
   "cell_type": "code",
   "execution_count": 4,
   "id": "f43c1529-2de0-4b47-a745-a98ea73bde29",
   "metadata": {},
   "outputs": [
    {
     "name": "stdout",
     "output_type": "stream",
     "text": [
      "list =  [0, 1, 2, 3, 4, 5, 6, 7, 8, 9, 10]\n"
     ]
    },
    {
     "name": "stdin",
     "output_type": "stream",
     "text": [
      "Enter value to  check:  45\n"
     ]
    },
    {
     "name": "stdout",
     "output_type": "stream",
     "text": [
      "This value doesn't exist in the list\n"
     ]
    }
   ],
   "source": [
    "l=[]\n",
    "for i in range(0,11):\n",
    "    l.append(i)\n",
    "print(\"list = \",l)\n",
    "n=int(input(\"Enter value to  check: \"))\n",
    "if n in l:\n",
    "    print(\"Yes, this value exist in the list\")   \n",
    "else:\n",
    "    print(\"This value doesn't exist in the list\")"
   ]
  },
  {
   "cell_type": "code",
   "execution_count": null,
   "id": "1f52fbab-1efe-4fe0-b6a5-c0369b3408d4",
   "metadata": {},
   "outputs": [],
   "source": []
  },
  {
   "cell_type": "markdown",
   "id": "b81f55bb-2dac-4e51-b49f-7fbb018c6b2e",
   "metadata": {},
   "source": [
    "Q8. Find the index of the first occurrence of an element in a list."
   ]
  },
  {
   "cell_type": "code",
   "execution_count": 22,
   "id": "dd72a84c-9dca-4118-9f5a-6fbd10f3f3ef",
   "metadata": {},
   "outputs": [
    {
     "name": "stdin",
     "output_type": "stream",
     "text": [
      "Enter the value:  35\n"
     ]
    },
    {
     "name": "stdout",
     "output_type": "stream",
     "text": [
      "The first occurance is:  1\n"
     ]
    }
   ],
   "source": [
    "l=[10,35,20,35,40]\n",
    "n=int(input(\"Enter the value: \"))\n",
    "i=l.index(n)\n",
    "print(\"The first occurance is: \",i)"
   ]
  },
  {
   "cell_type": "code",
   "execution_count": null,
   "id": "8a7bf8f7-6e84-4ca0-af14-cca3933bf4a9",
   "metadata": {},
   "outputs": [],
   "source": []
  },
  {
   "cell_type": "markdown",
   "id": "ad34e7ea-d13a-4b91-a5d6-7d97483164f1",
   "metadata": {},
   "source": [
    "Q9. Count the occurrences of an element in a list."
   ]
  },
  {
   "cell_type": "code",
   "execution_count": 23,
   "id": "17d907cd-e3dd-4a4e-96b9-2081b218ff93",
   "metadata": {},
   "outputs": [
    {
     "name": "stdin",
     "output_type": "stream",
     "text": [
      "Enter the value:  35\n"
     ]
    },
    {
     "name": "stdout",
     "output_type": "stream",
     "text": [
      "35 occurs 2 times in the list.\n"
     ]
    }
   ],
   "source": [
    "l=[10,35,20,35,40]\n",
    "n=int(input(\"Enter the value: \"))\n",
    "i=l.count(n)\n",
    "print(f\"{n} occurs {i} times in the list.\")"
   ]
  },
  {
   "cell_type": "code",
   "execution_count": null,
   "id": "132fedac-e62b-486c-9f51-0094b51e4a52",
   "metadata": {},
   "outputs": [],
   "source": []
  },
  {
   "cell_type": "markdown",
   "id": "ec5d5a6c-8dff-48d9-b463-7ef60fb051f4",
   "metadata": {},
   "source": [
    "Q10. Reverse the order of elements in a list."
   ]
  },
  {
   "cell_type": "code",
   "execution_count": 26,
   "id": "073f1e9e-0aea-4650-9ff5-230c3f646d8b",
   "metadata": {},
   "outputs": [
    {
     "name": "stdout",
     "output_type": "stream",
     "text": [
      "Old list =  [1, 2, 3, 4, 5, 6, 7, 8, 9, 10, 11, 12, 13, 14]\n",
      "New list =  [14, 13, 12, 11, 10, 9, 8, 7, 6, 5, 4, 3, 2, 1]\n"
     ]
    }
   ],
   "source": [
    "l=[]\n",
    "for i in range(1,15):\n",
    "    l.append(i)\n",
    "print(\"Old list = \",l)    \n",
    "rev=l[::-1]\n",
    "print(\"New list = \",rev)"
   ]
  },
  {
   "cell_type": "code",
   "execution_count": null,
   "id": "2101d1d3-ae9c-4187-a6f0-d343731ee875",
   "metadata": {},
   "outputs": [],
   "source": []
  },
  {
   "cell_type": "markdown",
   "id": "4b2bf2a5-6760-4831-aecd-591b0a8285f9",
   "metadata": {},
   "source": [
    "Q11. Sort a list in ascending order."
   ]
  },
  {
   "cell_type": "code",
   "execution_count": 29,
   "id": "f74c2722-7c70-4f17-8a34-523da3fd2f57",
   "metadata": {},
   "outputs": [
    {
     "name": "stdout",
     "output_type": "stream",
     "text": [
      "[22, 5, 2, 553, 565, 898, 12]\n",
      "Ascending order:  [2, 5, 12, 22, 553, 565, 898]\n"
     ]
    }
   ],
   "source": [
    "l=[22,5,2,553,565,898,12]\n",
    "print(l)\n",
    "l.sort()\n",
    "print(\"Ascending order: \",l)"
   ]
  },
  {
   "cell_type": "code",
   "execution_count": null,
   "id": "8b9718de-974e-4589-bd64-895235d06faf",
   "metadata": {},
   "outputs": [],
   "source": []
  },
  {
   "cell_type": "markdown",
   "id": "62821618-5ac7-4751-b8ca-ec2eb2a60c87",
   "metadata": {},
   "source": [
    "Q12. Sort a list in descending order."
   ]
  },
  {
   "cell_type": "code",
   "execution_count": 1,
   "id": "1fb4380c-4a1b-4b16-8cca-10dafa1eec65",
   "metadata": {},
   "outputs": [
    {
     "name": "stdout",
     "output_type": "stream",
     "text": [
      "[22, 5, 2, 553, 565, 898, 12]\n",
      "Descending order:  [898, 565, 553, 22, 12, 5, 2]\n"
     ]
    }
   ],
   "source": [
    "l=[22,5,2,553,565,898,12]\n",
    "print(l)\n",
    "l.sort(reverse=True)\n",
    "print(\"Descending order: \",l)"
   ]
  },
  {
   "cell_type": "code",
   "execution_count": null,
   "id": "d6177a8b-261b-43a7-b448-218831ef5b64",
   "metadata": {},
   "outputs": [],
   "source": []
  },
  {
   "cell_type": "markdown",
   "id": "367bca38-3eed-4989-aff1-6a0bd3c7d3ba",
   "metadata": {},
   "source": [
    "Q13. Create a list of even numbers from 1 to 20."
   ]
  },
  {
   "cell_type": "code",
   "execution_count": 2,
   "id": "90dbb88d-bd0c-4e89-939c-fb39922018e6",
   "metadata": {},
   "outputs": [
    {
     "name": "stdout",
     "output_type": "stream",
     "text": [
      "[2, 4, 6, 8, 10, 12, 14, 16, 18, 20]\n"
     ]
    }
   ],
   "source": [
    "l=[]\n",
    "for i in range(2,21,2):\n",
    "    l.append(i)\n",
    "print(l)    "
   ]
  },
  {
   "cell_type": "code",
   "execution_count": null,
   "id": "b78a9d8d-2266-44a4-9ee0-b611d4f470ed",
   "metadata": {},
   "outputs": [],
   "source": []
  },
  {
   "cell_type": "markdown",
   "id": "72ca95f7-4c54-4bf9-91db-0d6541b6cd43",
   "metadata": {},
   "source": [
    "Q14. Create a list of odd numbers from 1 to 20."
   ]
  },
  {
   "cell_type": "code",
   "execution_count": 3,
   "id": "3a823a24-630a-4409-b419-78afb8c4424b",
   "metadata": {},
   "outputs": [
    {
     "name": "stdout",
     "output_type": "stream",
     "text": [
      "[1, 3, 5, 7, 9, 11, 13, 15, 17, 19]\n"
     ]
    }
   ],
   "source": [
    "l=[]\n",
    "for i in range(1,20,2):\n",
    "    l.append(i)\n",
    "print(l)"
   ]
  },
  {
   "cell_type": "code",
   "execution_count": null,
   "id": "12be5775-cc4c-4ef7-8af6-90eae451f6d8",
   "metadata": {},
   "outputs": [],
   "source": []
  },
  {
   "cell_type": "markdown",
   "id": "5837d11f-6b8d-4797-9ce0-99061cfb3f84",
   "metadata": {},
   "source": [
    "Q15. Find the sum of all elements in a list."
   ]
  },
  {
   "cell_type": "code",
   "execution_count": 5,
   "id": "cb8b2a37-c4d2-4695-b9c0-d6fceefd7151",
   "metadata": {},
   "outputs": [
    {
     "name": "stdout",
     "output_type": "stream",
     "text": [
      "Sum is:  15\n"
     ]
    }
   ],
   "source": [
    "l=[1,2,3,4,5]\n",
    "s=sum(l)\n",
    "print(\"Sum is: \",s)"
   ]
  },
  {
   "cell_type": "code",
   "execution_count": null,
   "id": "8b310646-2682-4668-9342-171c2fe02579",
   "metadata": {},
   "outputs": [],
   "source": []
  },
  {
   "cell_type": "markdown",
   "id": "70e06c0c-0344-430e-a84e-b87268927cd2",
   "metadata": {},
   "source": [
    "Q16. Find the maximum value in a list."
   ]
  },
  {
   "cell_type": "code",
   "execution_count": 1,
   "id": "986f8158-424e-4176-8b33-eb50d034e101",
   "metadata": {},
   "outputs": [
    {
     "name": "stdout",
     "output_type": "stream",
     "text": [
      "Maximum value:  5\n"
     ]
    }
   ],
   "source": [
    "l=[1,2,3,4,5]\n",
    "m=max(l)\n",
    "print(\"Maximum value: \",m)"
   ]
  },
  {
   "cell_type": "code",
   "execution_count": null,
   "id": "4cabd2ef-f93e-4c8a-9c16-264c0b6fe8b0",
   "metadata": {},
   "outputs": [],
   "source": []
  },
  {
   "cell_type": "markdown",
   "id": "3b621d8e-a81e-4765-82e2-2f83448ff90c",
   "metadata": {},
   "source": [
    "Q17. Find the minimum value in a list."
   ]
  },
  {
   "cell_type": "code",
   "execution_count": 8,
   "id": "fce63abc-3925-4c55-9951-e0f16f757e87",
   "metadata": {},
   "outputs": [
    {
     "name": "stdout",
     "output_type": "stream",
     "text": [
      "Minimum value:  56\n"
     ]
    }
   ],
   "source": [
    "l=[523,54521,56,898,896,826,889]\n",
    "m=min(l)\n",
    "print(\"Minimum value: \",m)"
   ]
  },
  {
   "cell_type": "code",
   "execution_count": null,
   "id": "782d7ce0-7faa-4022-af93-2785d6177955",
   "metadata": {},
   "outputs": [],
   "source": []
  },
  {
   "cell_type": "markdown",
   "id": "82150d4d-78e3-49d5-8eb6-7e3049a25d41",
   "metadata": {},
   "source": [
    "Q18. Create a list of squares of numbers from 1 to 10."
   ]
  },
  {
   "cell_type": "code",
   "execution_count": 4,
   "id": "9c34969a-6997-4566-88f2-fe43699911d4",
   "metadata": {},
   "outputs": [
    {
     "data": {
      "text/plain": [
       "[1, 4, 9, 16, 25, 36, 49, 64, 81, 100]"
      ]
     },
     "execution_count": 4,
     "metadata": {},
     "output_type": "execute_result"
    }
   ],
   "source": [
    "list(map(lambda x:x*x,range(1,11)))"
   ]
  },
  {
   "cell_type": "code",
   "execution_count": null,
   "id": "02d5b818-653c-46df-9ddc-d1d1792c5ef2",
   "metadata": {},
   "outputs": [],
   "source": []
  },
  {
   "cell_type": "markdown",
   "id": "ad55aec3-7492-4d5d-a7a4-4f4c30585e59",
   "metadata": {},
   "source": [
    "Q19. Create a list of random numbers."
   ]
  },
  {
   "cell_type": "code",
   "execution_count": 23,
   "id": "0dec37ca-fc8d-4d05-9400-76896e9b36b1",
   "metadata": {},
   "outputs": [
    {
     "name": "stdout",
     "output_type": "stream",
     "text": [
      "[64, 56, 43, 52, 29]\n"
     ]
    }
   ],
   "source": [
    "import random\n",
    "#Generate 5 random numbers between 0 and 100\n",
    "randomlist = random.sample(range(0, 100),5)\n",
    "print(randomlist)"
   ]
  },
  {
   "cell_type": "code",
   "execution_count": null,
   "id": "c41acdb2-414d-47ef-8cf5-c6e13801ebd1",
   "metadata": {},
   "outputs": [],
   "source": []
  },
  {
   "cell_type": "markdown",
   "id": "0412597c-2680-4dc3-91d6-474f893dd97e",
   "metadata": {},
   "source": [
    "Q20. Remove duplicates from a list."
   ]
  },
  {
   "cell_type": "code",
   "execution_count": 10,
   "id": "016bd1eb-42ec-4c40-a205-e7d09cfb1f5b",
   "metadata": {},
   "outputs": [
    {
     "name": "stdout",
     "output_type": "stream",
     "text": [
      "[352, 1, 2, 548, 12, 78, 52, 89]\n"
     ]
    }
   ],
   "source": [
    "l=[52,52,12,1,352,548,89,78,2,1,352,89]\n",
    "duplicate=list(set(l))\n",
    "print(duplicate)"
   ]
  },
  {
   "cell_type": "code",
   "execution_count": null,
   "id": "53b514ff-9bd5-4e12-84db-7ff933666ef8",
   "metadata": {},
   "outputs": [],
   "source": []
  },
  {
   "cell_type": "markdown",
   "id": "0c6fec2f-5aad-4e21-a732-1f525010fad9",
   "metadata": {},
   "source": [
    "Q21. Find the common elements between two lists."
   ]
  },
  {
   "cell_type": "code",
   "execution_count": 2,
   "id": "b10359a7-e748-4d3d-9b9b-68207ce328c7",
   "metadata": {},
   "outputs": [
    {
     "name": "stdout",
     "output_type": "stream",
     "text": [
      "[30, 40, 50]\n"
     ]
    }
   ],
   "source": [
    "l=[]\n",
    "list1=[10,20,30,40,50]\n",
    "list2=[30,40,50,60,70]\n",
    "for i in list1:\n",
    "    for j in list2:\n",
    "        if i==j:\n",
    "            l.append(i)\n",
    "print(l)            \n",
    "            "
   ]
  },
  {
   "cell_type": "code",
   "execution_count": null,
   "id": "f7d60821-3bdd-44da-8286-499e8a5a3eee",
   "metadata": {},
   "outputs": [],
   "source": []
  },
  {
   "cell_type": "markdown",
   "id": "c6676d98-4afb-49db-9ec8-796b4b8278af",
   "metadata": {},
   "source": [
    "Q22. Find the difference between two lists."
   ]
  },
  {
   "cell_type": "code",
   "execution_count": 5,
   "id": "7091e035-a4bb-4a25-8819-dfedc2749919",
   "metadata": {},
   "outputs": [
    {
     "name": "stdout",
     "output_type": "stream",
     "text": [
      "[20, 10]\n"
     ]
    }
   ],
   "source": [
    "l=[]\n",
    "list1=[10,20,30,40,50]\n",
    "list2=[30,40,50,60,70]\n",
    "difference = list(set(list1).difference(list2))\n",
    "print(difference)"
   ]
  },
  {
   "cell_type": "code",
   "execution_count": null,
   "id": "eae9401e-41cb-4faa-bf3b-f40b475def29",
   "metadata": {},
   "outputs": [],
   "source": []
  },
  {
   "cell_type": "markdown",
   "id": "c4c64275-7ca3-48b6-877b-dc77a742ca0d",
   "metadata": {},
   "source": [
    "Q23. Merge two lists."
   ]
  },
  {
   "cell_type": "code",
   "execution_count": 7,
   "id": "272438d5-45e0-4eb4-bdc5-8741de132dba",
   "metadata": {},
   "outputs": [
    {
     "name": "stdout",
     "output_type": "stream",
     "text": [
      "[10, 20, 30, 40, 50, 30, 40, 50, 60, 70]\n"
     ]
    }
   ],
   "source": [
    "list1=[10,20,30,40,50]\n",
    "list2=[30,40,50,60,70]\n",
    "l=list1+list2\n",
    "print(l)"
   ]
  },
  {
   "cell_type": "code",
   "execution_count": null,
   "id": "13e8d526-0b47-4fc9-bb9a-59a39947f038",
   "metadata": {},
   "outputs": [],
   "source": []
  },
  {
   "cell_type": "markdown",
   "id": "11c8fb35-1e38-4503-84de-27e94d73641a",
   "metadata": {},
   "source": [
    "Q24. Multiply all elements in a list by 2."
   ]
  },
  {
   "cell_type": "code",
   "execution_count": 7,
   "id": "d3fad318-7f73-4e66-9a62-570f25538c3b",
   "metadata": {},
   "outputs": [
    {
     "data": {
      "text/plain": [
       "[2, 4, 6, 8, 10, 12, 14, 16, 18, 20]"
      ]
     },
     "execution_count": 7,
     "metadata": {},
     "output_type": "execute_result"
    }
   ],
   "source": [
    "l=[1,2,3,4,5,6,7,8,9,10]\n",
    "list(map(lambda x:x*2,l))  "
   ]
  },
  {
   "cell_type": "code",
   "execution_count": null,
   "id": "3ddce3ca-840c-43a6-b248-c0a8a8a82aa3",
   "metadata": {},
   "outputs": [],
   "source": []
  },
  {
   "cell_type": "markdown",
   "id": "3a771987-6227-48c4-bafb-44df9305752a",
   "metadata": {},
   "source": [
    "Q25. Filter out all even numbers from a list."
   ]
  },
  {
   "cell_type": "code",
   "execution_count": 1,
   "id": "98c6bde4-111c-49c9-85eb-1d04373d0d8f",
   "metadata": {},
   "outputs": [
    {
     "name": "stdout",
     "output_type": "stream",
     "text": [
      "Filtered list (even numbers): [10, 20, 30, 40]\n"
     ]
    }
   ],
   "source": [
    "my_list = [10, 20, 15, 25, 30, 40, 35, 45]\n",
    "\n",
    "# Filter out even numbers using a list comprehension\n",
    "filtered_list = [x for x in my_list if x % 2 == 0]\n",
    "\n",
    "# Print the filtered list\n",
    "print(\"Filtered list (even numbers):\", filtered_list)"
   ]
  },
  {
   "cell_type": "code",
   "execution_count": null,
   "id": "fc853dda-746b-4715-a9f4-0d1a75f6bb8f",
   "metadata": {},
   "outputs": [],
   "source": []
  },
  {
   "cell_type": "markdown",
   "id": "5149cb17-97b1-4a11-8911-659ab06bf8cb",
   "metadata": {},
   "source": [
    "Q26. Convert a list of strings to a list of integers."
   ]
  },
  {
   "cell_type": "code",
   "execution_count": 2,
   "id": "2a046158-f1db-46c7-9258-53ded804a6bc",
   "metadata": {},
   "outputs": [
    {
     "name": "stdout",
     "output_type": "stream",
     "text": [
      "[10, 20, 30, 40]\n"
     ]
    }
   ],
   "source": [
    "a=['10','20','30','40']\n",
    "l=[]\n",
    "for i in a:\n",
    "    l.append(int(i))\n",
    "print(l)    "
   ]
  },
  {
   "cell_type": "code",
   "execution_count": null,
   "id": "30019ccd-d5a2-4ab0-8d93-aaf15c4ee81d",
   "metadata": {},
   "outputs": [],
   "source": []
  },
  {
   "cell_type": "markdown",
   "id": "f28ad47c-168e-4a6b-b746-a90d5ce2d913",
   "metadata": {},
   "source": [
    "Q27. Convert a list of integers to a list of strings."
   ]
  },
  {
   "cell_type": "code",
   "execution_count": 1,
   "id": "92e5d861-65da-4b3c-b6c2-f1327ebf580d",
   "metadata": {},
   "outputs": [
    {
     "name": "stdout",
     "output_type": "stream",
     "text": [
      "List:  [1, 2, 3, 4, 5]\n",
      "New list:  ['1', '2', '3', '4', '5']\n"
     ]
    }
   ],
   "source": [
    "list_int=[1,2,3,4,5]\n",
    "print(\"List: \",list_int)\n",
    "list_str=[str(i) for i in list_int]\n",
    "print(\"New list: \",list_str)"
   ]
  },
  {
   "cell_type": "code",
   "execution_count": null,
   "id": "be6f8619-6be8-4e80-aa01-8a5269bb2b74",
   "metadata": {},
   "outputs": [],
   "source": []
  },
  {
   "cell_type": "markdown",
   "id": "9ef4e8fa-7f04-4232-a589-48af15899f9f",
   "metadata": {},
   "source": [
    "Q28. Flatten a nested list."
   ]
  },
  {
   "cell_type": "code",
   "execution_count": 21,
   "id": "df0423bb-e3a7-4cca-868e-a9906c7a86a5",
   "metadata": {},
   "outputs": [
    {
     "name": "stdout",
     "output_type": "stream",
     "text": [
      "[1, 2, 3, 4, 5, 6]\n"
     ]
    }
   ],
   "source": [
    "def flatten_list(nested_list):\n",
    "    \n",
    "    flattened_list = []\n",
    "    for element in nested_list:\n",
    "        \n",
    "        if type(element) == list:\n",
    "            flattened_list.extend(flatten_list(element))\n",
    "       \n",
    "        else:\n",
    "            flattened_list.append(element)\n",
    "\n",
    "    return flattened_list\n",
    "    \n",
    "nested_list = [[1, 2], [3, [4, 5]], 6]\n",
    "flattened_list = flatten_list(nested_list)\n",
    "print(flattened_list)\n"
   ]
  },
  {
   "cell_type": "code",
   "execution_count": null,
   "id": "15bbb839-4e2e-4f98-a40a-cf1ba8a831ca",
   "metadata": {},
   "outputs": [],
   "source": []
  },
  {
   "cell_type": "markdown",
   "id": "3650c0ab-26a3-4657-9020-998ff4cb8931",
   "metadata": {},
   "source": [
    "Q29. Create a list of the first 10 Fibonacci numbers."
   ]
  },
  {
   "cell_type": "code",
   "execution_count": 30,
   "id": "f8c6ad6e-3f68-463a-8513-ad7eb5963a77",
   "metadata": {},
   "outputs": [
    {
     "name": "stdout",
     "output_type": "stream",
     "text": [
      "0\n",
      "1\n",
      "1\n",
      "2\n",
      "3\n",
      "5\n",
      "8\n",
      "13\n",
      "21\n",
      "34\n"
     ]
    }
   ],
   "source": [
    "a=0\n",
    "b=1\n",
    "for i in range(1,11):\n",
    "    if i==1:\n",
    "        print(a)\n",
    "    else:    \n",
    "        a,b=b,a+b\n",
    "        print(a)\n"
   ]
  },
  {
   "cell_type": "markdown",
   "id": "48deff94-8647-4857-9aa3-89cc0ee8f9b8",
   "metadata": {},
   "source": [
    "OR"
   ]
  },
  {
   "cell_type": "code",
   "execution_count": 5,
   "id": "269483a5-8da2-41d0-9d06-3706f13d85e8",
   "metadata": {},
   "outputs": [],
   "source": [
    "def fib(n):\n",
    "    if n<=1:\n",
    "        return n\n",
    "    else:\n",
    "        return fib(n-1)+fib(n-2)"
   ]
  },
  {
   "cell_type": "code",
   "execution_count": 7,
   "id": "3e60b525-ddc8-43e0-94ed-42e9da95f571",
   "metadata": {},
   "outputs": [
    {
     "data": {
      "text/plain": [
       "55"
      ]
     },
     "execution_count": 7,
     "metadata": {},
     "output_type": "execute_result"
    }
   ],
   "source": [
    "fib(10)"
   ]
  },
  {
   "cell_type": "code",
   "execution_count": null,
   "id": "bbfff096-6b65-49bf-8d56-e44f777e2000",
   "metadata": {},
   "outputs": [],
   "source": []
  },
  {
   "cell_type": "markdown",
   "id": "ae8bef37-ba72-4200-9cde-5e9f1a25bb87",
   "metadata": {},
   "source": [
    "Q30. Check if a list is sorted."
   ]
  },
  {
   "cell_type": "code",
   "execution_count": 9,
   "id": "154448a5-59f9-4518-a289-453fbfb7ef13",
   "metadata": {},
   "outputs": [
    {
     "name": "stdout",
     "output_type": "stream",
     "text": [
      "[1, 2, 2, 5, 5, 5, 6, 6, 8, 9]\n"
     ]
    }
   ],
   "source": [
    "l=[1,2,5,8,2,5,6,5,6,9]\n",
    "l.sort()\n",
    "print(l)"
   ]
  },
  {
   "cell_type": "markdown",
   "id": "fb0920aa-a37f-4de3-a4b9-439710c5436b",
   "metadata": {},
   "source": [
    "OR"
   ]
  },
  {
   "cell_type": "code",
   "execution_count": 22,
   "id": "6e178c06-7b1c-4461-b334-8478dfcbe2c7",
   "metadata": {},
   "outputs": [
    {
     "name": "stdout",
     "output_type": "stream",
     "text": [
      "The list is sorted in ascending order.\n"
     ]
    }
   ],
   "source": [
    "def is_sorted_ascending(lst):\n",
    "    for i in range(1, len(lst)):\n",
    "        if lst[i] < lst[i - 1]:\n",
    "            return False\n",
    "    return True\n",
    "\n",
    "ascending_list = [10, 20, 30, 40, 50]\n",
    "\n",
    "\n",
    "if is_sorted_ascending(ascending_list):\n",
    "    print(\"The list is sorted in ascending order.\")\n",
    "else:\n",
    "    print(\"The list is not sorted in ascending order.\")"
   ]
  },
  {
   "cell_type": "code",
   "execution_count": null,
   "id": "23faa979-c81f-415d-9856-568f489b35ca",
   "metadata": {},
   "outputs": [],
   "source": []
  },
  {
   "cell_type": "markdown",
   "id": "95f2f653-27d1-4a87-bdf0-cb312c7fcaf3",
   "metadata": {},
   "source": [
    "Q31. Rotate a list to the left by `n` positions."
   ]
  },
  {
   "cell_type": "code",
   "execution_count": 46,
   "id": "78b3ae5b-fa5c-4495-a04c-92c5901b67d5",
   "metadata": {},
   "outputs": [
    {
     "name": "stdout",
     "output_type": "stream",
     "text": [
      "[3, 4, 5, 1, 2]\n"
     ]
    }
   ],
   "source": [
    "def rotate_left(n,l):\n",
    "    n=n%len(l)\n",
    "    new_list=l[n:]+l[:n]\n",
    "    return new_list\n",
    "\n",
    "n=2\n",
    "l=[1,2,3,4,5]\n",
    "print(rotate_left(n,l))"
   ]
  },
  {
   "cell_type": "code",
   "execution_count": null,
   "id": "d9fb42f1-d00b-4f10-8c1f-4d2a9ec7399e",
   "metadata": {},
   "outputs": [],
   "source": []
  },
  {
   "cell_type": "markdown",
   "id": "047897b1-d81f-4e8f-b978-15a3d36283c1",
   "metadata": {},
   "source": [
    "Q32. Rotate a list to the right by `n` positions."
   ]
  },
  {
   "cell_type": "code",
   "execution_count": 47,
   "id": "535b9b38-f120-4a34-8ba8-9947d31c8a4f",
   "metadata": {},
   "outputs": [
    {
     "name": "stdout",
     "output_type": "stream",
     "text": [
      "[4, 5, 1, 2, 3]\n"
     ]
    }
   ],
   "source": [
    "def rotate_right(n,l):\n",
    "    n=n%len(l)\n",
    "    new_list=l[-n:]+l[:-n]\n",
    "    return new_list\n",
    "\n",
    "n=2\n",
    "l=[1,2,3,4,5]\n",
    "print(rotate_right(n,l))"
   ]
  },
  {
   "cell_type": "code",
   "execution_count": null,
   "id": "a7991213-2ba9-4702-8742-2d865955abdc",
   "metadata": {},
   "outputs": [],
   "source": []
  },
  {
   "cell_type": "markdown",
   "id": "69af7dab-62db-4a86-b7b0-3e06b776c888",
   "metadata": {},
   "source": [
    "Q33. Create a list of prime numbers up to 50."
   ]
  },
  {
   "cell_type": "code",
   "execution_count": 34,
   "id": "1fd65652-3afb-4e8f-af1b-0a1464581736",
   "metadata": {},
   "outputs": [
    {
     "name": "stdout",
     "output_type": "stream",
     "text": [
      "[2, 3, 5, 7, 11, 13, 17, 19, 23, 29, 31, 37, 41, 43, 47]\n"
     ]
    }
   ],
   "source": [
    "def prime_number(n):\n",
    "    prime=[]\n",
    "    for i in range(2,n+1):\n",
    "        for j in range(2,int(i**0.5)+1):\n",
    "            if i%j==0:\n",
    "                break\n",
    "        else:\n",
    "            prime.append(i)\n",
    "    return prime\n",
    "\n",
    "prime_list=prime_number(50)\n",
    "print(prime_list)"
   ]
  },
  {
   "cell_type": "code",
   "execution_count": null,
   "id": "b2fd6f63-81e2-4715-b516-cbd9761c2e59",
   "metadata": {},
   "outputs": [],
   "source": []
  },
  {
   "cell_type": "markdown",
   "id": "48d1e71f-6d8a-489c-b61e-3a8610ee719b",
   "metadata": {},
   "source": [
    "Q34. Split a list into chunks of size `n`."
   ]
  },
  {
   "cell_type": "code",
   "execution_count": 48,
   "id": "374222e5-d7cd-448d-91a6-67fb9edcf545",
   "metadata": {},
   "outputs": [],
   "source": [
    "def split_list(lst, n):\n",
    "    for i in range(0, len(lst), n):\n",
    "        yield lst[i:i + n]"
   ]
  },
  {
   "cell_type": "code",
   "execution_count": 51,
   "id": "412ef2f0-935f-4c21-81d3-fa182c59179e",
   "metadata": {},
   "outputs": [
    {
     "name": "stdout",
     "output_type": "stream",
     "text": [
      "[1, 2]\n",
      "[3, 4]\n",
      "[5]\n"
     ]
    }
   ],
   "source": [
    "for i in split_list([1,2,3,4,5],2):\n",
    "    print(i)\n"
   ]
  },
  {
   "cell_type": "code",
   "execution_count": null,
   "id": "b960f2fc-71bb-42b9-914c-3fd604132066",
   "metadata": {},
   "outputs": [],
   "source": []
  },
  {
   "cell_type": "markdown",
   "id": "b218ae60-9eef-4dd5-8856-5afd4e2b7839",
   "metadata": {},
   "source": [
    "Q35. Find the second largest number in a list."
   ]
  },
  {
   "cell_type": "code",
   "execution_count": 2,
   "id": "dd80cf57-0b3a-40b6-82be-45d4de4bd427",
   "metadata": {},
   "outputs": [
    {
     "name": "stdout",
     "output_type": "stream",
     "text": [
      "The second largest number in a list is: 82\n"
     ]
    }
   ],
   "source": [
    "l=[82,56,65,59,96,24,65]\n",
    "l.sort()\n",
    "print(\"The second largest number in a list is:\",l[-2])"
   ]
  },
  {
   "cell_type": "code",
   "execution_count": null,
   "id": "6012feef-edd6-432f-8e53-79e101b0e338",
   "metadata": {},
   "outputs": [],
   "source": []
  },
  {
   "cell_type": "markdown",
   "id": "613532df-b878-43a3-a990-a9364d60d5fa",
   "metadata": {},
   "source": [
    "Q36. Replace every element in a list with its square."
   ]
  },
  {
   "cell_type": "code",
   "execution_count": 3,
   "id": "7816e290-e64f-4895-b07f-f823c6db19cd",
   "metadata": {},
   "outputs": [
    {
     "name": "stdout",
     "output_type": "stream",
     "text": [
      "[1, 4, 9, 16, 25, 36, 49, 81, 100]\n"
     ]
    }
   ],
   "source": [
    "l=[1,2,3,4,5,6,7,9,10]\n",
    "l1=[i*i for i in l]\n",
    "print(l1)"
   ]
  },
  {
   "cell_type": "code",
   "execution_count": null,
   "id": "f7eb7ab7-2fd1-4407-8391-be6ed5e6a1ad",
   "metadata": {},
   "outputs": [],
   "source": []
  },
  {
   "cell_type": "markdown",
   "id": "df3c36e3-4838-4cdf-b09a-a530b7b4bf22",
   "metadata": {},
   "source": [
    "Q37. Convert a list to a dictionary where list elements become keys and their indices become values."
   ]
  },
  {
   "cell_type": "code",
   "execution_count": 7,
   "id": "7efad68f-47ca-4ec8-9057-a76295704b32",
   "metadata": {},
   "outputs": [
    {
     "data": {
      "text/plain": [
       "[(0, 'python'), (1, 'java'), (2, 'java script')]"
      ]
     },
     "execution_count": 7,
     "metadata": {},
     "output_type": "execute_result"
    }
   ],
   "source": [
    "language=['python','java','java script']\n",
    "enumerate_prime=enumerate(language)\n",
    "list(enumerate_prime)"
   ]
  },
  {
   "cell_type": "code",
   "execution_count": null,
   "id": "1f840035-fe9c-4823-a932-6d19a03d2831",
   "metadata": {},
   "outputs": [],
   "source": []
  },
  {
   "cell_type": "markdown",
   "id": "cdb6b4b6-3e76-4b41-bc2c-a296468bd7a0",
   "metadata": {},
   "source": [
    "Q38. Shuffle the elements of a list randomly."
   ]
  },
  {
   "cell_type": "code",
   "execution_count": 9,
   "id": "dcd4bb18-2ddd-468b-9449-ba5513fa6a30",
   "metadata": {},
   "outputs": [
    {
     "name": "stdout",
     "output_type": "stream",
     "text": [
      "List:  [1, 2, 3, 4, 5, 6, 7, 8, 9]\n",
      "Shuffled list:  [8, 1, 5, 7, 2, 3, 9, 4, 6]\n"
     ]
    }
   ],
   "source": [
    "import random\n",
    "l=[1,2,3,4,5,6,7,8,9]\n",
    "print(\"List: \",l)\n",
    "random.shuffle(l)\n",
    "print(\"Shuffled list: \",l)"
   ]
  },
  {
   "cell_type": "code",
   "execution_count": null,
   "id": "ef7966bd-77bf-4ecb-a6c6-c87446ca3577",
   "metadata": {},
   "outputs": [],
   "source": []
  },
  {
   "cell_type": "markdown",
   "id": "1819bb95-b9ee-4bb8-b177-942235220e86",
   "metadata": {},
   "source": [
    "Q39. Create a list of the first 10 factorial numbers."
   ]
  },
  {
   "cell_type": "code",
   "execution_count": 20,
   "id": "2e6465b0-c6a4-4261-b784-7815a08ac408",
   "metadata": {},
   "outputs": [
    {
     "name": "stdout",
     "output_type": "stream",
     "text": [
      "[1, 2, 6, 24, 120, 720, 5040, 40320, 362880, 3628800]\n"
     ]
    }
   ],
   "source": [
    "def facto(n):\n",
    "    fact=1\n",
    "    for i in range(1,n+1):\n",
    "        fact=fact*i\n",
    "    return fact    \n",
    "l=[facto(i) for i in range(1,11)]\n",
    "print(l)"
   ]
  },
  {
   "cell_type": "code",
   "execution_count": null,
   "id": "256621b6-ba27-4780-b2f0-05338c57d83d",
   "metadata": {},
   "outputs": [],
   "source": []
  },
  {
   "cell_type": "markdown",
   "id": "5b60b26e-00cb-40bb-9234-3dadb9a896d0",
   "metadata": {},
   "source": [
    "Q40. Check if two lists have at least one element in common."
   ]
  },
  {
   "cell_type": "code",
   "execution_count": 23,
   "id": "a895719f-9245-427f-85e8-29944890a733",
   "metadata": {},
   "outputs": [
    {
     "name": "stdout",
     "output_type": "stream",
     "text": [
      "The lists have at least one common element.\n"
     ]
    }
   ],
   "source": [
    "def check(l1,l2):\n",
    "    for i in l1:\n",
    "        if i in l2:\n",
    "            return True\n",
    "    return False\n",
    "\n",
    "l1=[1,2,3,4]\n",
    "l2=[4,5,6,7]\n",
    "\n",
    "if check(l1,l2):\n",
    "    print(\"The lists have at least one common element.\")\n",
    "else:\n",
    "    print(\"The lists do not have any common elements.\")"
   ]
  },
  {
   "cell_type": "code",
   "execution_count": null,
   "id": "09be5a31-2699-4a0e-9952-7d799ba80327",
   "metadata": {},
   "outputs": [],
   "source": []
  },
  {
   "cell_type": "markdown",
   "id": "de9325ea-8476-4b4e-ba96-d201edf7ade9",
   "metadata": {},
   "source": [
    "Q41. Remove all elements from a list."
   ]
  },
  {
   "cell_type": "code",
   "execution_count": 24,
   "id": "ae024760-bc1f-468c-b3c6-c18ec0612423",
   "metadata": {},
   "outputs": [
    {
     "name": "stdout",
     "output_type": "stream",
     "text": [
      "List:  [1, 2, 3]\n",
      "Removed list:  []\n"
     ]
    }
   ],
   "source": [
    "l=[1,2,3]\n",
    "print(\"List: \",l)\n",
    "l.clear()\n",
    "print(\"Removed list: \",l)"
   ]
  },
  {
   "cell_type": "code",
   "execution_count": null,
   "id": "aa31b880-0d1d-4f11-812f-26beafbda99e",
   "metadata": {},
   "outputs": [],
   "source": []
  },
  {
   "cell_type": "markdown",
   "id": "0e47f27e-1690-4d2f-b98e-cf8669cc9cb1",
   "metadata": {},
   "source": [
    "Q42. Replace negative numbers in a list with 0."
   ]
  },
  {
   "cell_type": "code",
   "execution_count": 27,
   "id": "ddf65ddb-3449-4da1-8ebe-03724479f298",
   "metadata": {},
   "outputs": [
    {
     "name": "stdout",
     "output_type": "stream",
     "text": [
      "[1, 0, 3, 0, 5, 0]\n"
     ]
    }
   ],
   "source": [
    "def negative(n):\n",
    "    if n<0:\n",
    "        return True\n",
    "    return False\n",
    "list1=[1,-2,3,-4,5,-6]\n",
    "l=[0 if negative(i) else i for i in list1]\n",
    "print(l)"
   ]
  },
  {
   "cell_type": "code",
   "execution_count": null,
   "id": "10f26101-2e60-437a-81d8-ee0f13f7dcb5",
   "metadata": {},
   "outputs": [],
   "source": []
  },
  {
   "cell_type": "markdown",
   "id": "328bea88-c8af-4f73-b01b-1eb419d4a14c",
   "metadata": {},
   "source": [
    "Q43. Convert a string into a list of words."
   ]
  },
  {
   "cell_type": "code",
   "execution_count": 28,
   "id": "794ebd91-3443-442f-9086-0049b499d445",
   "metadata": {},
   "outputs": [
    {
     "name": "stdin",
     "output_type": "stream",
     "text": [
      "Enter the string:  India win this world cup\n"
     ]
    },
    {
     "name": "stdout",
     "output_type": "stream",
     "text": [
      "['India', 'win', 'this', 'world', 'cup']\n"
     ]
    }
   ],
   "source": [
    "string=input(\"Enter the string: \")\n",
    "split=string.split()\n",
    "print(split)"
   ]
  },
  {
   "cell_type": "code",
   "execution_count": null,
   "id": "532d4fc1-9578-412e-bf59-cb0931de4aae",
   "metadata": {},
   "outputs": [],
   "source": []
  },
  {
   "cell_type": "markdown",
   "id": "e5987ffa-01df-482e-8aa7-0fb0e19b22e5",
   "metadata": {},
   "source": [
    "Q44. Convert a list of words into a string."
   ]
  },
  {
   "cell_type": "code",
   "execution_count": 33,
   "id": "6d3093e5-7cb2-443a-b7aa-c954e3bcc9a9",
   "metadata": {},
   "outputs": [
    {
     "name": "stdout",
     "output_type": "stream",
     "text": [
      "India win this world cup\n"
     ]
    }
   ],
   "source": [
    "l=['India', 'win', 'this', 'world', 'cup']\n",
    "string=' '.join(l)\n",
    "print(string)"
   ]
  },
  {
   "cell_type": "code",
   "execution_count": null,
   "id": "7c1761bc-a4b7-49d3-88e2-cd3114b8190e",
   "metadata": {},
   "outputs": [],
   "source": []
  },
  {
   "cell_type": "markdown",
   "id": "d9712646-b0e2-4233-8233-aaeb7cef6a45",
   "metadata": {},
   "source": [
    "Q45. Create a list of the first `n` powers of 2."
   ]
  },
  {
   "cell_type": "code",
   "execution_count": 38,
   "id": "0023856a-ac5a-40e4-bb14-ebb92e3b6b2a",
   "metadata": {},
   "outputs": [
    {
     "name": "stdin",
     "output_type": "stream",
     "text": [
      "Enter the power limit:  10\n"
     ]
    },
    {
     "name": "stdout",
     "output_type": "stream",
     "text": [
      "[2, 4, 8, 16, 32, 64, 128, 256, 512, 1024]\n"
     ]
    }
   ],
   "source": [
    "power=int(input(\"Enter the power limit: \"))\n",
    "l=[2**i for i in range(1,power+1)]\n",
    "print(l)"
   ]
  },
  {
   "cell_type": "code",
   "execution_count": null,
   "id": "da308f78-ab74-4868-87e1-4e6d7c1d20cd",
   "metadata": {},
   "outputs": [],
   "source": []
  },
  {
   "cell_type": "markdown",
   "id": "7fdd013b-63de-48da-b869-db32845b8ed7",
   "metadata": {},
   "source": [
    "Q46. Find the longest string in a list of strings."
   ]
  },
  {
   "cell_type": "code",
   "execution_count": 3,
   "id": "71fa0987-6629-4ad3-9bd4-ee91261e0120",
   "metadata": {},
   "outputs": [
    {
     "name": "stdout",
     "output_type": "stream",
     "text": [
      "Longest string: elderberry\n"
     ]
    }
   ],
   "source": [
    "string_list = [\"apple\", \"banana\", \"cherry\", \"date\", \"elderberry\"]\n",
    "\n",
    "# Find the longest string in the list\n",
    "longest_string = \"\"\n",
    "for s in string_list:\n",
    "    if len(s) > len(longest_string):\n",
    "        longest_string = s\n",
    "\n",
    "# Print the longest string\n",
    "print(\"Longest string:\", longest_string)"
   ]
  },
  {
   "cell_type": "code",
   "execution_count": null,
   "id": "c4aea59f-a507-42c9-bbb4-2a86eb9c11a2",
   "metadata": {},
   "outputs": [],
   "source": []
  },
  {
   "cell_type": "markdown",
   "id": "39dd1a74-e643-4eee-8196-585e1f98b52a",
   "metadata": {},
   "source": [
    "Q47. Find the shortest string in a list of strings."
   ]
  },
  {
   "cell_type": "code",
   "execution_count": 6,
   "id": "cadb1d9d-8be1-4394-9b20-a80b5552b17c",
   "metadata": {},
   "outputs": [
    {
     "name": "stdout",
     "output_type": "stream",
     "text": [
      "Shortest word in a list is:  date\n"
     ]
    }
   ],
   "source": [
    "string_list = [\"apple\", \"banana\", \"cherry\", \"date\", \"elderberry\"]\n",
    "shortest=string_list[0]\n",
    "for i in string_list:\n",
    "    if len(i)<len(shortest):\n",
    "        shortest=i\n",
    "print(\"Shortest word in a list is: \", shortest)    "
   ]
  },
  {
   "cell_type": "code",
   "execution_count": null,
   "id": "b1562b74-bdcf-47b1-bebe-f1a4e035578c",
   "metadata": {},
   "outputs": [],
   "source": []
  },
  {
   "cell_type": "markdown",
   "id": "06d7272c-1fb2-4eeb-9deb-ee744c256d91",
   "metadata": {},
   "source": [
    "Q48. Create a list of the first n triangular numbers."
   ]
  },
  {
   "cell_type": "code",
   "execution_count": 37,
   "id": "2c14567a-4bf2-4264-b0cb-9a8e49cf01b8",
   "metadata": {},
   "outputs": [
    {
     "name": "stdin",
     "output_type": "stream",
     "text": [
      "Enter the value of n : 5\n"
     ]
    },
    {
     "name": "stdout",
     "output_type": "stream",
     "text": [
      "[1, 3, 6, 10, 15]\n"
     ]
    }
   ],
   "source": [
    "def triangular(n):\n",
    "    return [i * (i + 1) // 2 for i in range(1,n+1)]\n",
    "\n",
    "n=int(input(\"Enter the value of n :\"))\n",
    "print(triangular(n))"
   ]
  },
  {
   "cell_type": "code",
   "execution_count": null,
   "id": "dfe6cfea-d465-4caa-8f3c-01699d2b2b69",
   "metadata": {},
   "outputs": [],
   "source": []
  },
  {
   "cell_type": "markdown",
   "id": "2525e445-5029-447d-877c-b163622e8e40",
   "metadata": {},
   "source": [
    "Q49. Check if a list contains another list as a subsequence."
   ]
  },
  {
   "cell_type": "code",
   "execution_count": 43,
   "id": "f6415534-882e-45d1-9282-693985c20655",
   "metadata": {},
   "outputs": [
    {
     "data": {
      "text/plain": [
       "True"
      ]
     },
     "execution_count": 43,
     "metadata": {},
     "output_type": "execute_result"
    }
   ],
   "source": [
    "def check(main_list,subsequence):\n",
    "    subseq_index=0\n",
    "    for element in main_list:\n",
    "        if element == subsequence[subseq_index]:\n",
    "            subseq_index+=1\n",
    "            if subseq_index == len(subsequence):\n",
    "                return True\n",
    "    return False\n",
    "\n",
    "main_list = [1, 2, 3, 4, 5, 6, 7, 8, 9, 10]\n",
    "subsequence = [3, 5, 8]\n",
    "check(main_list,subsequence)"
   ]
  },
  {
   "cell_type": "code",
   "execution_count": null,
   "id": "4cc8265c-cb3b-4858-80e1-204c33617dcc",
   "metadata": {},
   "outputs": [],
   "source": []
  },
  {
   "cell_type": "markdown",
   "id": "4ed5b8fd-be8a-42ed-9340-f6d80b2f0329",
   "metadata": {},
   "source": [
    "Q50. Swap two elements in a list by their indices."
   ]
  },
  {
   "cell_type": "code",
   "execution_count": 44,
   "id": "01505219-c091-4348-a443-b2e93bdd2fa9",
   "metadata": {},
   "outputs": [
    {
     "name": "stdout",
     "output_type": "stream",
     "text": [
      "[5, 2, 3, 4, 1]\n"
     ]
    }
   ],
   "source": [
    "l=[1,2,3,4,5]\n",
    "index1=4\n",
    "index2=0\n",
    "store=l[index1]\n",
    "l[index1]=l[index2]\n",
    "l[index2]=store\n",
    "print(l)"
   ]
  },
  {
   "cell_type": "code",
   "execution_count": null,
   "id": "8d0fc1aa-7334-4dc3-98c3-afa8ff8c8bed",
   "metadata": {},
   "outputs": [],
   "source": []
  },
  {
   "cell_type": "code",
   "execution_count": null,
   "id": "c2fe326c-19ad-40fd-9d3c-2266aca10c0f",
   "metadata": {},
   "outputs": [],
   "source": []
  },
  {
   "cell_type": "markdown",
   "id": "2774f09a-8833-4faa-8076-438e11338716",
   "metadata": {},
   "source": [
    "## Tuple Based Practice Problem :"
   ]
  },
  {
   "cell_type": "code",
   "execution_count": null,
   "id": "cb3b139c-fe4a-4888-ab2e-606da066fdda",
   "metadata": {},
   "outputs": [],
   "source": []
  },
  {
   "cell_type": "markdown",
   "id": "e3fed7bb-5071-4cdc-be2b-326a6a6e023c",
   "metadata": {},
   "source": [
    "Q1. Create a tuple with integers from 1 to 5."
   ]
  },
  {
   "cell_type": "code",
   "execution_count": 2,
   "id": "6eb9bdf4-3ec9-4e0a-9cfb-0aabe512349f",
   "metadata": {},
   "outputs": [],
   "source": [
    "l=(1,2,3,4,5)"
   ]
  },
  {
   "cell_type": "code",
   "execution_count": null,
   "id": "bc3b2427-2765-4858-bcd4-d3749f5015e2",
   "metadata": {},
   "outputs": [],
   "source": []
  },
  {
   "cell_type": "markdown",
   "id": "10bf2a90-e726-4823-a5c4-8b2bbe074826",
   "metadata": {},
   "source": [
    "Q2. Access the third element of a tuple."
   ]
  },
  {
   "cell_type": "code",
   "execution_count": 23,
   "id": "d9221d76-4fcf-4c94-8301-1fc1fbb6894c",
   "metadata": {},
   "outputs": [
    {
     "name": "stdout",
     "output_type": "stream",
     "text": [
      "3\n"
     ]
    }
   ],
   "source": [
    "l=(1,2,3,4,5)\n",
    "s=l[2]\n",
    "print(s)"
   ]
  },
  {
   "cell_type": "code",
   "execution_count": null,
   "id": "561ba6be-a7a5-4b38-9197-06d6107fd0cf",
   "metadata": {},
   "outputs": [],
   "source": []
  },
  {
   "cell_type": "markdown",
   "id": "6c226d94-ec42-4f20-bcc8-dfe7d5bd61c8",
   "metadata": {},
   "source": [
    "Q3. Find the length of a tuple without using the `len()` function."
   ]
  },
  {
   "cell_type": "code",
   "execution_count": 3,
   "id": "07c4ac74-1afc-4cc1-a101-b9750235bb0d",
   "metadata": {},
   "outputs": [
    {
     "name": "stdout",
     "output_type": "stream",
     "text": [
      "5\n"
     ]
    }
   ],
   "source": [
    "l=(1,2,3,4,5)\n",
    "total=0\n",
    "for i in l:\n",
    "    total+=1\n",
    "print(total)    "
   ]
  },
  {
   "cell_type": "code",
   "execution_count": null,
   "id": "4dab309b-41e2-446a-9e70-7d56d94c4469",
   "metadata": {},
   "outputs": [],
   "source": []
  },
  {
   "cell_type": "markdown",
   "id": "bb90eb52-cc35-48de-8bca-dd6debe6752c",
   "metadata": {},
   "source": [
    "Q4. Count the occurrences of an element in a tuple."
   ]
  },
  {
   "cell_type": "code",
   "execution_count": 4,
   "id": "78347ebd-4946-4a6d-92aa-bcf3035fac2e",
   "metadata": {},
   "outputs": [
    {
     "data": {
      "text/plain": [
       "4"
      ]
     },
     "execution_count": 4,
     "metadata": {},
     "output_type": "execute_result"
    }
   ],
   "source": [
    "l=(1,2,3,4,5,6,1,2,3,5,6,1,5,6,1,3,3)\n",
    "l.count(1)"
   ]
  },
  {
   "cell_type": "code",
   "execution_count": null,
   "id": "feefe3c3-4d80-4cbe-b2c0-af6e6b9e2213",
   "metadata": {},
   "outputs": [],
   "source": []
  },
  {
   "cell_type": "markdown",
   "id": "b5cae6d8-c86a-4d4b-913f-21270167b03d",
   "metadata": {},
   "source": [
    "Q5. Find the index of the first occurrence of an element in a tuple."
   ]
  },
  {
   "cell_type": "code",
   "execution_count": 8,
   "id": "830273a2-73bd-43ec-9f7f-bbdd61fac984",
   "metadata": {},
   "outputs": [
    {
     "name": "stdout",
     "output_type": "stream",
     "text": [
      "1\n"
     ]
    }
   ],
   "source": [
    "l=(1,2,3,4,5,6,1,2,3,5,6,1,5,6,1,3,3)\n",
    "s=l.index(2)\n",
    "print(s)"
   ]
  },
  {
   "cell_type": "code",
   "execution_count": null,
   "id": "e8c2dc7e-a8dd-46bc-bee0-0e5bb0babe0b",
   "metadata": {},
   "outputs": [],
   "source": []
  },
  {
   "cell_type": "markdown",
   "id": "8523c196-8e5b-4fe0-91dc-d6f029e3f295",
   "metadata": {},
   "source": [
    "Q6. Check if an element exists in a tuple."
   ]
  },
  {
   "cell_type": "code",
   "execution_count": 10,
   "id": "061a6bdd-0ee4-4613-89bc-293de6ed14fa",
   "metadata": {},
   "outputs": [
    {
     "name": "stdout",
     "output_type": "stream",
     "text": [
      "(1, 2, 3, 4, 5, 6, 1, 2, 3, 5, 6, 1, 5, 6, 1, 3, 3)\n"
     ]
    },
    {
     "name": "stdin",
     "output_type": "stream",
     "text": [
      "Enter the number to find:  56\n"
     ]
    },
    {
     "name": "stdout",
     "output_type": "stream",
     "text": [
      "This element don't exist in a tuple\n"
     ]
    }
   ],
   "source": [
    "l=(1,2,3,4,5,6,1,2,3,5,6,1,5,6,1,3,3)\n",
    "print(l)\n",
    "n=int(input(\"Enter the number to find: \"))\n",
    "if n in l:\n",
    "    print(\"This element exist in a tuple\")\n",
    "else:\n",
    "    print(\"This element don't exist in a tuple\")"
   ]
  },
  {
   "cell_type": "code",
   "execution_count": null,
   "id": "583d6779-0039-40c7-b82b-f67e867475db",
   "metadata": {},
   "outputs": [],
   "source": []
  },
  {
   "cell_type": "markdown",
   "id": "29a62533-a057-4bb2-ae5d-e90271c7572d",
   "metadata": {},
   "source": [
    "Q7. Convert a tuple to a list."
   ]
  },
  {
   "cell_type": "code",
   "execution_count": 12,
   "id": "65003bd1-cc97-4b51-b2a4-ba0c79766496",
   "metadata": {},
   "outputs": [
    {
     "name": "stdout",
     "output_type": "stream",
     "text": [
      "[1, 2, 3, 4, 5, 6, 1, 2, 3, 5, 6, 1, 5, 6, 1, 3, 3]\n"
     ]
    }
   ],
   "source": [
    "l=(1,2,3,4,5,6,1,2,3,5,6,1,5,6,1,3,3)\n",
    "l=list(l)\n",
    "print(l)"
   ]
  },
  {
   "cell_type": "code",
   "execution_count": null,
   "id": "3729faa8-04d9-4a42-9908-ab945995f5b6",
   "metadata": {},
   "outputs": [],
   "source": []
  },
  {
   "cell_type": "markdown",
   "id": "bf9fe1cb-2895-4746-8604-f3869016bf08",
   "metadata": {},
   "source": [
    "Q8. Convert a list to a tuple."
   ]
  },
  {
   "cell_type": "code",
   "execution_count": 14,
   "id": "d413030f-fd42-4ee7-a7d0-1133b6868572",
   "metadata": {},
   "outputs": [
    {
     "name": "stdout",
     "output_type": "stream",
     "text": [
      "(1, 2, 5, 6, 'my', True)\n"
     ]
    }
   ],
   "source": [
    "l=[1,2,5,6,\"my\", True]\n",
    "l=tuple(l)\n",
    "print(l)"
   ]
  },
  {
   "cell_type": "code",
   "execution_count": null,
   "id": "0936592b-67f9-4352-811f-38e0502715d0",
   "metadata": {},
   "outputs": [],
   "source": []
  },
  {
   "cell_type": "markdown",
   "id": "58c56c79-d770-44c9-89d3-064cea799778",
   "metadata": {},
   "source": [
    "Q9. Unpack the elements of a tuple into variables."
   ]
  },
  {
   "cell_type": "code",
   "execution_count": 15,
   "id": "dac21678-6c5b-42d8-acf4-91e05e118b93",
   "metadata": {},
   "outputs": [
    {
     "name": "stdout",
     "output_type": "stream",
     "text": [
      "1\n",
      "2\n",
      "5\n",
      "6\n",
      "my\n",
      "True\n"
     ]
    }
   ],
   "source": [
    "l=[1,2,5,6,\"my\", True]\n",
    "for i in l:\n",
    "    print(i)"
   ]
  },
  {
   "cell_type": "code",
   "execution_count": null,
   "id": "f8775c3e-260d-41b1-a553-a8b745f317e1",
   "metadata": {},
   "outputs": [],
   "source": []
  },
  {
   "cell_type": "markdown",
   "id": "f3ef46d9-f3f6-4b9e-99c4-851911a7d1b4",
   "metadata": {},
   "source": [
    "Q10. Create a tuple of even numbers from 1 to 10."
   ]
  },
  {
   "cell_type": "code",
   "execution_count": 18,
   "id": "f7841aab-299b-4c44-9a72-36f79259c67d",
   "metadata": {},
   "outputs": [
    {
     "name": "stdout",
     "output_type": "stream",
     "text": [
      "(2, 4, 6, 8, 10)\n"
     ]
    }
   ],
   "source": [
    "t=[]\n",
    "for i in range(2,11,2):\n",
    "    t.append(i)\n",
    "t=tuple(t)\n",
    "print(t)"
   ]
  },
  {
   "cell_type": "code",
   "execution_count": null,
   "id": "a6b2e355-d82c-48a8-a17e-d55791e13f45",
   "metadata": {},
   "outputs": [],
   "source": []
  },
  {
   "cell_type": "markdown",
   "id": "dbf593d0-872e-4b2d-ae07-16e989aa93a2",
   "metadata": {},
   "source": [
    "Q11. Create a tuple of odd numbers from 1 to 10."
   ]
  },
  {
   "cell_type": "code",
   "execution_count": 20,
   "id": "e0870548-0690-485f-86b5-7c3886130d45",
   "metadata": {},
   "outputs": [
    {
     "name": "stdout",
     "output_type": "stream",
     "text": [
      "(1, 3, 5, 7, 9)\n"
     ]
    }
   ],
   "source": [
    "t=[]\n",
    "for i in range(1,11,2):\n",
    "    t.append(i)\n",
    "t=tuple(t)\n",
    "print(t)"
   ]
  },
  {
   "cell_type": "code",
   "execution_count": null,
   "id": "aab5d4dd-a020-41af-bf69-c4d862feedc5",
   "metadata": {},
   "outputs": [],
   "source": []
  },
  {
   "cell_type": "markdown",
   "id": "0915bb63-926c-4e71-9155-234dd7c0ad8a",
   "metadata": {},
   "source": [
    "Q12. Concatenate two tuples."
   ]
  },
  {
   "cell_type": "code",
   "execution_count": 21,
   "id": "f19538fd-8a79-473a-a285-6239e87b8283",
   "metadata": {},
   "outputs": [
    {
     "name": "stdout",
     "output_type": "stream",
     "text": [
      "(1, 2, 3, 4, 5)\n"
     ]
    }
   ],
   "source": [
    "t1=(1,2,3)\n",
    "t2=(4,5)\n",
    "t=t1+t2\n",
    "print(t)"
   ]
  },
  {
   "cell_type": "code",
   "execution_count": null,
   "id": "b1710dc1-46cb-4d06-b7bb-d927c9c836b6",
   "metadata": {},
   "outputs": [],
   "source": []
  },
  {
   "cell_type": "markdown",
   "id": "5efde713-3283-4354-a2d8-7dc2c899bcdf",
   "metadata": {},
   "source": [
    "Q13. Repeat a tuple three times."
   ]
  },
  {
   "cell_type": "code",
   "execution_count": 23,
   "id": "aeecb8e3-bb49-4755-8130-a790a74936d2",
   "metadata": {},
   "outputs": [
    {
     "name": "stdout",
     "output_type": "stream",
     "text": [
      "(1, 2, 3, 1, 2, 3, 1, 2, 3)\n"
     ]
    }
   ],
   "source": [
    "t=(1,2,3)\n",
    "repeat=t*3\n",
    "print(repeat)"
   ]
  },
  {
   "cell_type": "code",
   "execution_count": null,
   "id": "fe8cf613-3101-44b8-a1a3-1374518d1992",
   "metadata": {},
   "outputs": [],
   "source": []
  },
  {
   "cell_type": "markdown",
   "id": "b3248771-954b-4280-917e-e04817b6f982",
   "metadata": {},
   "source": [
    "Q14. Check if a tuple is empty."
   ]
  },
  {
   "cell_type": "code",
   "execution_count": 52,
   "id": "d2730a7c-680a-46d5-89d6-554f7b8d89be",
   "metadata": {},
   "outputs": [
    {
     "name": "stdout",
     "output_type": "stream",
     "text": [
      "This tuple is empty\n",
      "This tuple is not empty\n"
     ]
    }
   ],
   "source": [
    "def check(t):\n",
    "    if len(t) == 0:\n",
    "        return \"This tuple is empty\"\n",
    "    else:\n",
    "        return \"This tuple is not empty\"\n",
    "\n",
    "t1=()\n",
    "t2=(1,2,3)\n",
    "print(check(t1))\n",
    "print(check(t2))"
   ]
  },
  {
   "cell_type": "code",
   "execution_count": null,
   "id": "febd62c5-cb02-469c-a196-87f2267d6f4a",
   "metadata": {},
   "outputs": [],
   "source": []
  },
  {
   "cell_type": "markdown",
   "id": "d5ab3c06-dae8-4ee1-84e0-40d0a8f0752c",
   "metadata": {},
   "source": [
    "Q15. Create a nested tuple."
   ]
  },
  {
   "cell_type": "code",
   "execution_count": 53,
   "id": "a4adba6c-8130-42c3-b506-8503afdd8894",
   "metadata": {},
   "outputs": [
    {
     "name": "stdout",
     "output_type": "stream",
     "text": [
      "Nested Tuple: ((1, 5, 3, 5), (5, 689, 98, 2), 'my name')\n"
     ]
    }
   ],
   "source": [
    "tuple1=((1,5,3,5),(5,689,98,2),(\"my name\"))\n",
    "print(f\"Nested Tuple: {tuple1}\")"
   ]
  },
  {
   "cell_type": "code",
   "execution_count": null,
   "id": "d19c5bc7-7cc9-4dba-b683-21f9f2cfc9e6",
   "metadata": {},
   "outputs": [],
   "source": []
  },
  {
   "cell_type": "markdown",
   "id": "ee8c2f2e-3f02-4264-bf43-b43a4768c67d",
   "metadata": {},
   "source": [
    "Q16. Access the first element of a nested tuple."
   ]
  },
  {
   "cell_type": "code",
   "execution_count": 2,
   "id": "1416cc13-cab5-405b-b871-5e4d0c0a608c",
   "metadata": {},
   "outputs": [
    {
     "data": {
      "text/plain": [
       "1"
      ]
     },
     "execution_count": 2,
     "metadata": {},
     "output_type": "execute_result"
    }
   ],
   "source": [
    "tuple1=((1,5,3,5),5,689,98,2,\"my name\")\n",
    "tuple1[0][0]"
   ]
  },
  {
   "cell_type": "markdown",
   "id": "071af136-3494-4b88-ba5b-acb16e9f4d6d",
   "metadata": {},
   "source": [
    "Q17. Create a tuple with a single element."
   ]
  },
  {
   "cell_type": "code",
   "execution_count": 3,
   "id": "4e1cd053-25cb-4d03-9c0c-0a4b44374331",
   "metadata": {},
   "outputs": [
    {
     "name": "stdout",
     "output_type": "stream",
     "text": [
      "Single element:  (25,)\n"
     ]
    }
   ],
   "source": [
    "s=(25,)\n",
    "print(\"Single element: \",s)"
   ]
  },
  {
   "cell_type": "code",
   "execution_count": null,
   "id": "7f3d7c50-0dd7-400d-823f-df4919b3af61",
   "metadata": {},
   "outputs": [],
   "source": []
  },
  {
   "cell_type": "markdown",
   "id": "1c1818f6-b164-4c88-8c44-5b64f60a2f64",
   "metadata": {},
   "source": [
    "Q18. Compare two tuples"
   ]
  },
  {
   "cell_type": "code",
   "execution_count": null,
   "id": "16090434-559f-4bc3-90d9-0257fb6d3940",
   "metadata": {},
   "outputs": [],
   "source": [
    "tuple1 = (1, 2, 3)\n",
    "tuple2 = (1, 2, 4)\n",
    "\n",
    "# Step 2: Compare the two tuples using comparison operators\n",
    "print(\"tuple1 == tuple2:\", tuple1 == tuple2)  # Equality check\n",
    "print(\"tuple1 != tuple2:\", tuple1 != tuple2)  # Inequality check\n",
    "print(\"tuple1 < tuple2:\", tuple1 < tuple2)    # Less than check\n",
    "print(\"tuple1 <= tuple2:\", tuple1 <= tuple2)  # Less than or equal to check\n",
    "print(\"tuple1 > tuple2:\", tuple1 > tuple2)    # Greater than check\n",
    "print(\"tuple1 >= tuple2:\", tuple1 >= tuple2)  # Greater than or equal to check"
   ]
  },
  {
   "cell_type": "code",
   "execution_count": null,
   "id": "fa471e02-84c5-45b0-b70f-7ce7b6ee1d70",
   "metadata": {},
   "outputs": [],
   "source": []
  },
  {
   "cell_type": "markdown",
   "id": "fb4e3f28-6e80-464e-ba5a-7371237939e5",
   "metadata": {},
   "source": [
    "Q19. Delete a tuple."
   ]
  },
  {
   "cell_type": "code",
   "execution_count": 41,
   "id": "e4c77ee2-d4e0-4f87-b3f1-ad84494cc4d8",
   "metadata": {},
   "outputs": [
    {
     "ename": "NameError",
     "evalue": "name 't1' is not defined",
     "output_type": "error",
     "traceback": [
      "\u001b[1;31m---------------------------------------------------------------------------\u001b[0m",
      "\u001b[1;31mNameError\u001b[0m                                 Traceback (most recent call last)",
      "Cell \u001b[1;32mIn[41], line 3\u001b[0m\n\u001b[0;32m      1\u001b[0m t1\u001b[38;5;241m=\u001b[39m(\u001b[38;5;241m252\u001b[39m,\u001b[38;5;241m253\u001b[39m,\u001b[38;5;241m256\u001b[39m,\u001b[38;5;241m246\u001b[39m,\u001b[38;5;241m52\u001b[39m)\n\u001b[0;32m      2\u001b[0m \u001b[38;5;28;01mdel\u001b[39;00m t1\n\u001b[1;32m----> 3\u001b[0m \u001b[38;5;28mprint\u001b[39m(\u001b[43mt1\u001b[49m)\n",
      "\u001b[1;31mNameError\u001b[0m: name 't1' is not defined"
     ]
    }
   ],
   "source": [
    "t1=(252,253,256,246,52)\n",
    "del t1\n",
    "print(t1)"
   ]
  },
  {
   "cell_type": "code",
   "execution_count": null,
   "id": "cbcb93ec-1de0-4519-a9aa-a9879033e938",
   "metadata": {},
   "outputs": [],
   "source": []
  },
  {
   "cell_type": "markdown",
   "id": "3a6744f7-4c8e-47c1-9eab-6473eada9092",
   "metadata": {},
   "source": [
    "Q20. Slice a tuple."
   ]
  },
  {
   "cell_type": "code",
   "execution_count": 6,
   "id": "b1473704-ccbc-4b2c-b432-a804706a7628",
   "metadata": {},
   "outputs": [
    {
     "name": "stdout",
     "output_type": "stream",
     "text": [
      "(1, 2)\n"
     ]
    }
   ],
   "source": [
    "t=(1,2,3,4,5)\n",
    "slicing=t[0:2]\n",
    "print(slicing)"
   ]
  },
  {
   "cell_type": "code",
   "execution_count": null,
   "id": "6623d7da-e5dd-446d-b0e4-70ad12743a5a",
   "metadata": {},
   "outputs": [],
   "source": []
  },
  {
   "cell_type": "markdown",
   "id": "66b172dc-1db9-428d-a1ee-05ada69ea93c",
   "metadata": {},
   "source": [
    "Q21. Find the maximum value in a tuple."
   ]
  },
  {
   "cell_type": "code",
   "execution_count": 7,
   "id": "d88c0cd2-e374-47a1-ad0a-6ed60c81e813",
   "metadata": {},
   "outputs": [
    {
     "name": "stdout",
     "output_type": "stream",
     "text": [
      "5654\n"
     ]
    }
   ],
   "source": [
    "t=(626,25,245,289,295,98,3452,5654,18)\n",
    "find_max=max(t)\n",
    "print(find_max)"
   ]
  },
  {
   "cell_type": "code",
   "execution_count": null,
   "id": "6fc318e3-ddbf-4401-8c5f-d3179f55dc9f",
   "metadata": {},
   "outputs": [],
   "source": []
  },
  {
   "cell_type": "markdown",
   "id": "b7f57ad6-b8a9-4c02-b6b9-4dc6631daf3e",
   "metadata": {},
   "source": [
    "Q22. Find the minimum value in a tuple."
   ]
  },
  {
   "cell_type": "code",
   "execution_count": 1,
   "id": "9d9bea53-4dc7-47c9-b5c8-28ef96f119d9",
   "metadata": {},
   "outputs": [
    {
     "name": "stdout",
     "output_type": "stream",
     "text": [
      "18\n"
     ]
    }
   ],
   "source": [
    "t=(626,25,245,289,295,98,3452,5654,18)\n",
    "find_min=min(t)\n",
    "print(find_min)"
   ]
  },
  {
   "cell_type": "markdown",
   "id": "1940b363-54fe-44c3-a29b-f1b44cbed2df",
   "metadata": {},
   "source": [
    "Q23. Convert a string to a tuple of characters."
   ]
  },
  {
   "cell_type": "code",
   "execution_count": 2,
   "id": "a13009d6-2ad7-4e60-89ea-91ba67a8d513",
   "metadata": {},
   "outputs": [
    {
     "name": "stdout",
     "output_type": "stream",
     "text": [
      "('m', 'y', ' ', 'n', 'a', 'm', 'e', ' ', 'i', 's')\n"
     ]
    }
   ],
   "source": [
    "string=\"my name is\"\n",
    "con_tuple=tuple(string)\n",
    "print(con_tuple)"
   ]
  },
  {
   "cell_type": "code",
   "execution_count": null,
   "id": "f3cb9e5e-c8a6-40ef-aa1d-52c67b4cc3df",
   "metadata": {},
   "outputs": [],
   "source": []
  },
  {
   "cell_type": "markdown",
   "id": "14292b8d-494d-4b9b-8248-9afa086596d2",
   "metadata": {},
   "source": [
    "Q24. Convert a tuple of characters to a string."
   ]
  },
  {
   "cell_type": "code",
   "execution_count": 3,
   "id": "e7fefb04-007b-46a9-97d8-a6e5fc947ce6",
   "metadata": {},
   "outputs": [
    {
     "name": "stdout",
     "output_type": "stream",
     "text": [
      "my name is\n"
     ]
    }
   ],
   "source": [
    "tuple1=('m', 'y', ' ', 'n', 'a', 'm', 'e', ' ', 'i', 's')\n",
    "con_string=''.join(tuple1)\n",
    "print(con_string)"
   ]
  },
  {
   "cell_type": "code",
   "execution_count": null,
   "id": "21d1c9ac-7c50-46f3-b02b-1a9dd6505111",
   "metadata": {},
   "outputs": [],
   "source": []
  },
  {
   "cell_type": "markdown",
   "id": "3031a06a-3ca3-4e5f-8f40-77ffca172d47",
   "metadata": {},
   "source": [
    "Q25. Create a tuple from multiple data types."
   ]
  },
  {
   "cell_type": "code",
   "execution_count": 43,
   "id": "9a3aa3fa-5064-4f6b-88b8-36b8ce411510",
   "metadata": {},
   "outputs": [
    {
     "name": "stdout",
     "output_type": "stream",
     "text": [
      "(1, 2.5, 'my', True, [1, 2])\n"
     ]
    }
   ],
   "source": [
    "t=(1,2.5,\"my\",True,[1,2])\n",
    "print(t)"
   ]
  },
  {
   "cell_type": "code",
   "execution_count": null,
   "id": "a90c7c08-7220-420c-a84e-a5209fc589d6",
   "metadata": {},
   "outputs": [],
   "source": []
  },
  {
   "cell_type": "markdown",
   "id": "a3ab6679-8a2f-4673-b22b-2f5286bbabb3",
   "metadata": {},
   "source": [
    "Q26. Check if two tuples are identical."
   ]
  },
  {
   "cell_type": "code",
   "execution_count": 2,
   "id": "fdc547e2-6ee3-479b-9140-31658c0af8a0",
   "metadata": {},
   "outputs": [
    {
     "name": "stdout",
     "output_type": "stream",
     "text": [
      "It is identical\n"
     ]
    }
   ],
   "source": [
    "t1=(1,2,3)\n",
    "t2=(1,2,3)\n",
    "if t1==t2:\n",
    "    print(\"It is identical\")\n",
    "else:\n",
    "    print(\"It is not identical\")"
   ]
  },
  {
   "cell_type": "code",
   "execution_count": null,
   "id": "3e7cc23e-43fc-4ab2-9172-87bcf9ef771d",
   "metadata": {},
   "outputs": [],
   "source": []
  },
  {
   "cell_type": "markdown",
   "id": "c98b1fe0-4c6e-4779-b9b1-9cac3628ffed",
   "metadata": {},
   "source": [
    "Q27. Sort the elements of a tuple."
   ]
  },
  {
   "cell_type": "code",
   "execution_count": 8,
   "id": "39cb7ca8-2fbb-429b-8514-44f21715b24a",
   "metadata": {},
   "outputs": [
    {
     "name": "stdout",
     "output_type": "stream",
     "text": [
      "Sorted tuple:  (15, 25, 29, 32, 56, 86, 88, 89, 98, 262, 787)\n"
     ]
    }
   ],
   "source": [
    "tuple1=(25,262,89,88,86,32,15,787,56,98,29)\n",
    "sort=sorted(tuple1)\n",
    "print(\"Sorted tuple: \",tuple(sort))"
   ]
  },
  {
   "cell_type": "code",
   "execution_count": null,
   "id": "658baa08-d692-445c-a9d5-71c31090e780",
   "metadata": {},
   "outputs": [],
   "source": []
  },
  {
   "cell_type": "markdown",
   "id": "87349092-42c6-4462-a17d-302af201397a",
   "metadata": {},
   "source": [
    "Q28. Convert a tuple of integers to a tuple of strings."
   ]
  },
  {
   "cell_type": "code",
   "execution_count": 14,
   "id": "3e1e6a54-04c9-490c-8bff-9aa3c345e2ce",
   "metadata": {},
   "outputs": [
    {
     "name": "stdout",
     "output_type": "stream",
     "text": [
      "Tuple:  (1, 2, 3, 4, 5)\n",
      "New tuple:  ('1', '2', '3', '4', '5')\n"
     ]
    }
   ],
   "source": [
    "t=(1,2,3,4,5)\n",
    "print(\"Tuple: \",t)\n",
    "t1=tuple(str(i) for i in t)\n",
    "print(\"New tuple: \",t1)"
   ]
  },
  {
   "cell_type": "code",
   "execution_count": null,
   "id": "7c89328d-8dd8-4fd3-a08b-71d9f5271602",
   "metadata": {},
   "outputs": [],
   "source": []
  },
  {
   "cell_type": "markdown",
   "id": "21debea3-480c-49e4-9d3d-42171a56cafb",
   "metadata": {},
   "source": [
    "Q29. Convert a tuple of strings to a tuple of integers."
   ]
  },
  {
   "cell_type": "code",
   "execution_count": 15,
   "id": "d67a07ad-e15d-4011-8215-aed287a54b16",
   "metadata": {},
   "outputs": [
    {
     "name": "stdout",
     "output_type": "stream",
     "text": [
      "Tuple:  ('1', '2', '3', '4', '5')\n",
      "New tuple:  (1, 2, 3, 4, 5)\n"
     ]
    }
   ],
   "source": [
    "t=('1', '2', '3', '4', '5')\n",
    "print(\"Tuple: \",t)\n",
    "t1=tuple(int(i) for i in t)\n",
    "print(\"New tuple: \",t1)"
   ]
  },
  {
   "cell_type": "code",
   "execution_count": null,
   "id": "d7cc391a-dd10-492a-a837-b0f43438787b",
   "metadata": {},
   "outputs": [],
   "source": []
  },
  {
   "cell_type": "markdown",
   "id": "4985e4f4-f846-4d40-9e09-a578e2729b8e",
   "metadata": {},
   "source": [
    "Q30. Merge two tuples."
   ]
  },
  {
   "cell_type": "code",
   "execution_count": 16,
   "id": "c4e85a9b-d4cd-45fe-b093-39cc3eb1700b",
   "metadata": {},
   "outputs": [
    {
     "name": "stdout",
     "output_type": "stream",
     "text": [
      "(1, 2, 3, 4, 5)\n",
      "(6, 7, 8, 9, 10)\n",
      "Merged tuple:  (1, 2, 3, 4, 5, 6, 7, 8, 9, 10)\n"
     ]
    }
   ],
   "source": [
    "t1=(1,2,3,4,5)\n",
    "t2=(6,7,8,9,10)\n",
    "print(t1)\n",
    "print(t2)\n",
    "t=t1+t2\n",
    "print(\"Merged tuple: \",t)"
   ]
  },
  {
   "cell_type": "code",
   "execution_count": null,
   "id": "2145c0d4-236d-4bec-bf32-26765c8bedfa",
   "metadata": {},
   "outputs": [],
   "source": []
  },
  {
   "cell_type": "markdown",
   "id": "d14075ca-82d8-45f4-95d1-ba0de7c55d8f",
   "metadata": {},
   "source": [
    "Q31. Flatten a nested tuple."
   ]
  },
  {
   "cell_type": "code",
   "execution_count": 60,
   "id": "672bd327-dc73-46c7-b259-fa5492473e1a",
   "metadata": {},
   "outputs": [
    {
     "name": "stdout",
     "output_type": "stream",
     "text": [
      "((1, 2), (3, (4, 5)), 6)\n"
     ]
    }
   ],
   "source": [
    "def flatten_tuple(nested_tuple):\n",
    "    flattened = []\n",
    "    for item in nested_tuple:\n",
    "        if isinstance(item, tuple):\n",
    "            flattened.extend(flatten_tuple(item))\n",
    "        else:\n",
    "            flattened.append(item)\n",
    "    return flattened\n",
    "\n",
    "# Step 1: Create a nested tuple\n",
    "nested_tuple = ((1, 2), (3, 4, 5), (6, (7, 8)))\n",
    "\n",
    "# Step 2: Flatten the nested tuple\n",
    "flattened_tuple = tuple(flatten_tuple(nested_tuple))\n",
    "\n",
    "# Step 3: Print the flattened tuple\n",
    "print(\"Flattened tuple:\", flattened_tuple)"
   ]
  },
  {
   "cell_type": "code",
   "execution_count": 5,
   "id": "21390aea-93cf-4b91-be9c-77fe904f695b",
   "metadata": {},
   "outputs": [],
   "source": []
  },
  {
   "cell_type": "markdown",
   "id": "79e2e29d-5668-473c-93b7-c555766b8eec",
   "metadata": {},
   "source": [
    "Q32. Create a tuple of the first 5 prime numbers."
   ]
  },
  {
   "cell_type": "code",
   "execution_count": 2,
   "id": "a4d0bfd1-a9cd-45dc-8afd-561ae1dfd3ff",
   "metadata": {},
   "outputs": [
    {
     "name": "stdout",
     "output_type": "stream",
     "text": [
      "(2, 3, 5, 7, 11)\n"
     ]
    }
   ],
   "source": [
    "def is_prime(num):\n",
    "    if num <= 1:\n",
    "        return False\n",
    "    for i in range(2, int(num ** 0.5) + 1):\n",
    "        if num % i == 0:\n",
    "            return False\n",
    "    return True\n",
    "l=[i for i in range(2,100) if is_prime(i)][:5]\n",
    "prime_tuple=l\n",
    "print(tuple(l))"
   ]
  },
  {
   "cell_type": "code",
   "execution_count": null,
   "id": "3e3fdaa9-3801-4bf0-8269-c497d296fa04",
   "metadata": {},
   "outputs": [],
   "source": []
  },
  {
   "cell_type": "markdown",
   "id": "d257ef12-2f0f-4abe-b339-dda0946b0324",
   "metadata": {},
   "source": [
    "Q33. Check if a tuple is a palindrome."
   ]
  },
  {
   "cell_type": "code",
   "execution_count": 22,
   "id": "9e3c0264-574b-4f49-a74d-a621d5452c94",
   "metadata": {},
   "outputs": [
    {
     "name": "stdout",
     "output_type": "stream",
     "text": [
      "t1 :(1, 2, 3, 4, 5) :\n",
      "False\n",
      "t2 :(1, 2, 3, 2, 1) :\n",
      "True\n"
     ]
    }
   ],
   "source": [
    "def palindrome(t):\n",
    "    return t==t[::-1]\n",
    "\n",
    "t1=(1,2,3,4,5)\n",
    "t2=(1,2,3,2,1)\n",
    "print(f\"t1 :{t1} :\")\n",
    "print(palindrome(t1))\n",
    "print(f\"t2 :{t2} :\")\n",
    "print(palindrome(t2))"
   ]
  },
  {
   "cell_type": "code",
   "execution_count": null,
   "id": "188f815f-1193-4ad7-ba28-9275f3389efa",
   "metadata": {},
   "outputs": [],
   "source": []
  },
  {
   "cell_type": "markdown",
   "id": "0b761729-ee13-42b3-ad4e-997937780673",
   "metadata": {},
   "source": [
    "Q34. Create a tuple of squares of numbers from 1 to 5."
   ]
  },
  {
   "cell_type": "code",
   "execution_count": 3,
   "id": "2d826cf5-01d8-4bb0-9667-7cdeeec6d98d",
   "metadata": {},
   "outputs": [
    {
     "name": "stdout",
     "output_type": "stream",
     "text": [
      "Tuple of squares of number from 1 to 5:  (1, 4, 9, 16, 25)\n"
     ]
    }
   ],
   "source": [
    "tuple_of_square=tuple(i*i for i in range(1,6))\n",
    "print(\"Tuple of squares of number from 1 to 5: \",tuple_of_square)"
   ]
  },
  {
   "cell_type": "code",
   "execution_count": null,
   "id": "2ca50996-4e21-4be3-91c1-1702ff865f1c",
   "metadata": {},
   "outputs": [],
   "source": []
  },
  {
   "cell_type": "markdown",
   "id": "d93f591e-c670-431d-88de-7139a5330798",
   "metadata": {},
   "source": [
    "Q35. Filter out all even numbers from a tuple."
   ]
  },
  {
   "cell_type": "code",
   "execution_count": 7,
   "id": "3dec57ac-88cc-4ac7-b358-afd475e15429",
   "metadata": {},
   "outputs": [
    {
     "name": "stdout",
     "output_type": "stream",
     "text": [
      "Filter out all even numbers from 1 To 10 in a tuple:  (2, 4, 6, 8, 10)\n"
     ]
    }
   ],
   "source": [
    "t=tuple(filter(lambda a:a%2==0,range(1,11)))\n",
    "print(\"Filter out all even numbers from 1 To 10 in a tuple: \",t)"
   ]
  },
  {
   "cell_type": "code",
   "execution_count": null,
   "id": "2ffbfa2c-04ea-46aa-a676-7b0f5a2e8db7",
   "metadata": {},
   "outputs": [],
   "source": []
  },
  {
   "cell_type": "markdown",
   "id": "66e0f0a2-a0ba-490d-91c5-4eda1cc7f113",
   "metadata": {},
   "source": [
    "Q36. Multiply all elements in a tuple by 2."
   ]
  },
  {
   "cell_type": "code",
   "execution_count": 8,
   "id": "c807179a-83ee-4d58-8afa-aaf5b4edbcaf",
   "metadata": {},
   "outputs": [
    {
     "name": "stdout",
     "output_type": "stream",
     "text": [
      "(2, 4, 6, 8, 10, 12, 14, 16, 18, 20)\n"
     ]
    }
   ],
   "source": [
    "l=(1,2,3,4,5,6,7,8,9,10)\n",
    "t=tuple(i*2 for i in l)\n",
    "print(t)"
   ]
  },
  {
   "cell_type": "markdown",
   "id": "d003da2a-32bf-49ba-8d16-2b00db427971",
   "metadata": {},
   "source": [
    "OR"
   ]
  },
  {
   "cell_type": "code",
   "execution_count": 9,
   "id": "b0e706af-c6e6-465c-b6d9-58215b2b5866",
   "metadata": {},
   "outputs": [
    {
     "data": {
      "text/plain": [
       "(2, 4, 6, 8, 10, 12, 14, 16, 18, 20)"
      ]
     },
     "execution_count": 9,
     "metadata": {},
     "output_type": "execute_result"
    }
   ],
   "source": [
    "tuple(map(lambda x:x*2,l))"
   ]
  },
  {
   "cell_type": "code",
   "execution_count": null,
   "id": "78873936-a122-46e4-8db8-efe8df3e1994",
   "metadata": {},
   "outputs": [],
   "source": []
  },
  {
   "cell_type": "markdown",
   "id": "4e87cee3-6dc3-4572-bead-65eae81ebab8",
   "metadata": {},
   "source": [
    "Q37. Create a tuple of random numbers."
   ]
  },
  {
   "cell_type": "code",
   "execution_count": 16,
   "id": "81f637ec-7f8a-40a4-ba0e-68a0e701d67d",
   "metadata": {},
   "outputs": [
    {
     "name": "stdout",
     "output_type": "stream",
     "text": [
      "Random tuple: (2, 19, 45, 60, 17)\n"
     ]
    }
   ],
   "source": [
    "import random\n",
    "tuple_random = tuple(random.randint(1, 100) for i in range(5))  \n",
    "print(\"Random tuple:\", tuple_random)"
   ]
  },
  {
   "cell_type": "code",
   "execution_count": null,
   "id": "28c3a30f-e69b-42ab-b727-171f312630ec",
   "metadata": {},
   "outputs": [],
   "source": []
  },
  {
   "cell_type": "markdown",
   "id": "334de53a-bae7-499f-8d26-68c9947fa0fe",
   "metadata": {},
   "source": [
    "Q38. Check if a tuple is sorted."
   ]
  },
  {
   "cell_type": "code",
   "execution_count": 7,
   "id": "0036ba3c-dff3-44c9-be95-376789c72080",
   "metadata": {},
   "outputs": [
    {
     "name": "stdout",
     "output_type": "stream",
     "text": [
      "t1=(1, 12, 32, 56, 85)\n",
      "t2=(99, 85, 34, 21, 20)\n",
      "Tuple t1 is sorted or not: True\n",
      "Tuple t1 is sorted or not: False\n"
     ]
    }
   ],
   "source": [
    "def check_sort(t):\n",
    "    for i in range(len(t)-1):\n",
    "        if t[i]>t[i+1]:\n",
    "            return False\n",
    "    return True\n",
    "\n",
    "t1=(1,12,32,56,85)\n",
    "t2=(99,85,34,21,20)\n",
    "print(f't1={t1}')\n",
    "print(f't2={t2}')\n",
    "print(\"Tuple t1 is sorted or not:\",check_sort(t1))\n",
    "print(\"Tuple t1 is sorted or not:\",check_sort(t2))"
   ]
  },
  {
   "cell_type": "markdown",
   "id": "f64972c7-4d5b-4323-9c59-210c0bbd3efc",
   "metadata": {},
   "source": []
  },
  {
   "cell_type": "markdown",
   "id": "20f381bf-8687-4ae4-b9ca-874cb6ba8e52",
   "metadata": {},
   "source": [
    "Q39. Rotate a tuple to the left by `n` positions."
   ]
  },
  {
   "cell_type": "code",
   "execution_count": 61,
   "id": "ce2b3f5a-2837-4b65-baf2-d1ddc26f5c53",
   "metadata": {},
   "outputs": [
    {
     "name": "stdout",
     "output_type": "stream",
     "text": [
      "(3, 4, 5, 1, 2)\n"
     ]
    }
   ],
   "source": [
    "def rotate_left(n,t):\n",
    "    n=n%len(t)\n",
    "    new=t[n:]+t[:n]\n",
    "    return new\n",
    "\n",
    "print(rotate_left(2,(1,2,3,4,5)))"
   ]
  },
  {
   "cell_type": "code",
   "execution_count": null,
   "id": "cd9bbc75-229e-4104-acb0-8fd71ef5c146",
   "metadata": {},
   "outputs": [],
   "source": []
  },
  {
   "cell_type": "markdown",
   "id": "6d4c2135-c04a-471e-84b5-f95f47f6d9a1",
   "metadata": {},
   "source": [
    "Q40. Rotate a tuple to the right by `n` positions."
   ]
  },
  {
   "cell_type": "code",
   "execution_count": 62,
   "id": "8c7b089d-1d95-499a-8a2e-e5361dc71e0a",
   "metadata": {},
   "outputs": [
    {
     "name": "stdout",
     "output_type": "stream",
     "text": [
      "(4, 5, 1, 2, 3)\n"
     ]
    }
   ],
   "source": [
    "def rotate_right(n,t):\n",
    "    n=n%len(t)\n",
    "    new=t[-n:]+t[:-n]\n",
    "    return new\n",
    "\n",
    "print(rotate_right(2,(1,2,3,4,5)))"
   ]
  },
  {
   "cell_type": "code",
   "execution_count": null,
   "id": "48e3bd0c-896f-42f7-a10a-929e7112fbb9",
   "metadata": {},
   "outputs": [],
   "source": []
  },
  {
   "cell_type": "markdown",
   "id": "5abe4a2f-987a-4497-acaa-9cefad37e4d6",
   "metadata": {},
   "source": [
    "Q41. Create a tuple of the first 5 Fibonacci numbers."
   ]
  },
  {
   "cell_type": "code",
   "execution_count": 16,
   "id": "697b0e42-9818-4038-84a6-95c5aade7923",
   "metadata": {},
   "outputs": [
    {
     "name": "stdout",
     "output_type": "stream",
     "text": [
      "(0, 1, 1, 2, 3)\n"
     ]
    }
   ],
   "source": [
    "def fibo(num):\n",
    "    fibo=[0,1]\n",
    "    while len(fibo)<num:\n",
    "        next=fibo[-1]+fibo[-2]\n",
    "        fibo.append(next)\n",
    "    return tuple(fibo)    \n",
    "limit=5\n",
    "print(fibo(5))"
   ]
  },
  {
   "cell_type": "code",
   "execution_count": null,
   "id": "7e303aab-b4b1-4f97-b8ff-f2798a10f841",
   "metadata": {},
   "outputs": [],
   "source": []
  },
  {
   "cell_type": "markdown",
   "id": "0ac32d8b-fea3-49f8-b0c3-b7c5eb7cf4c0",
   "metadata": {},
   "source": [
    "Q42. Create a tuple from user input."
   ]
  },
  {
   "cell_type": "code",
   "execution_count": 63,
   "id": "f1b8f52e-f8fa-47ac-8939-13edea42cc57",
   "metadata": {},
   "outputs": [
    {
     "name": "stdin",
     "output_type": "stream",
     "text": [
      "Enter the character for the tuple use comma to seperate the character:  w,e,rt,y, ,y,\n"
     ]
    },
    {
     "name": "stdout",
     "output_type": "stream",
     "text": [
      "('w', 'e', 'rt', 'y', ' ', 'y', '')\n"
     ]
    }
   ],
   "source": [
    "input=input(\"Enter the character for the tuple use comma to seperate the character: \")\n",
    "sep=input.split(',')\n",
    "t=tuple(sep)\n",
    "print(t)"
   ]
  },
  {
   "cell_type": "code",
   "execution_count": null,
   "id": "13ca612a-bd37-4670-b57f-5b2a0bafc02e",
   "metadata": {},
   "outputs": [],
   "source": []
  },
  {
   "cell_type": "markdown",
   "id": "a80587aa-ed96-4cde-962f-fc350b6ede70",
   "metadata": {},
   "source": [
    "Q43. Swap two elements in a tuple."
   ]
  },
  {
   "cell_type": "code",
   "execution_count": 64,
   "id": "9d3c4a73-8b32-4831-afd9-510194d76ea6",
   "metadata": {},
   "outputs": [
    {
     "name": "stdout",
     "output_type": "stream",
     "text": [
      "Swapped tuple: (1, 4, 3, 2, 5)\n"
     ]
    }
   ],
   "source": [
    "my_tuple = (1, 2, 3, 4, 5)\n",
    "\n",
    "# Swap elements at indices 1 and 3\n",
    "index1 = 1\n",
    "index2 = 3\n",
    "swapped_tuple = tuple(\n",
    "    my_tuple[i] if i not in (index1, index2) else\n",
    "    my_tuple[index2] if i == index1 else\n",
    "    my_tuple[index1]\n",
    "    for i in range(len(my_tuple))\n",
    ")\n",
    "\n",
    "# Print the swapped tuple\n",
    "print(\"Swapped tuple:\", swapped_tuple)"
   ]
  },
  {
   "cell_type": "code",
   "execution_count": null,
   "id": "d13f2eee-c9e5-4319-8c93-96d46b3f492f",
   "metadata": {},
   "outputs": [],
   "source": []
  },
  {
   "cell_type": "markdown",
   "id": "621e0296-87d8-4b8e-917e-9b9a95214776",
   "metadata": {},
   "source": [
    "Q44. Reverse the elements of a tuple."
   ]
  },
  {
   "cell_type": "code",
   "execution_count": 17,
   "id": "7bcf24a2-2215-4321-8988-118e53b22bb7",
   "metadata": {},
   "outputs": [
    {
     "name": "stdout",
     "output_type": "stream",
     "text": [
      "Original tuple:  (1, 2, 3, 4, 5)\n",
      "Reversed tuple:  (5, 4, 3, 2, 1)\n"
     ]
    }
   ],
   "source": [
    "t=(1,2,3,4,5)\n",
    "print(\"Original tuple: \",t)\n",
    "print(\"Reversed tuple: \",t[::-1])"
   ]
  },
  {
   "cell_type": "code",
   "execution_count": null,
   "id": "36a13f11-65fc-4c33-b8a7-08b0a2968314",
   "metadata": {},
   "outputs": [],
   "source": []
  },
  {
   "cell_type": "markdown",
   "id": "66871ccd-da42-46db-abe0-4e5b64ff80a6",
   "metadata": {},
   "source": [
    "Q45. Create a tuple of the first `n` powers of 2."
   ]
  },
  {
   "cell_type": "code",
   "execution_count": 22,
   "id": "72cfc69d-630b-43af-9bef-15c36b055273",
   "metadata": {},
   "outputs": [
    {
     "name": "stdin",
     "output_type": "stream",
     "text": [
      "Enter the limit:  10\n"
     ]
    },
    {
     "name": "stdout",
     "output_type": "stream",
     "text": [
      "(2, 4, 8, 16, 32, 64, 128, 256, 512, 1024)\n"
     ]
    }
   ],
   "source": [
    "n=int(input(\"Enter the limit: \"))\n",
    "t=tuple(2**i for i in range(1,n+1))\n",
    "print(t)"
   ]
  },
  {
   "cell_type": "code",
   "execution_count": null,
   "id": "c43083d9-f853-4684-a18d-29e2ea333224",
   "metadata": {},
   "outputs": [],
   "source": []
  },
  {
   "cell_type": "markdown",
   "id": "be03a87c-604a-4210-9237-cde695c960aa",
   "metadata": {},
   "source": [
    "Q46. Find the longest string in a tuple of strings."
   ]
  },
  {
   "cell_type": "code",
   "execution_count": 27,
   "id": "ce814788-668d-4116-8421-2910d4fe061f",
   "metadata": {},
   "outputs": [
    {
     "name": "stdout",
     "output_type": "stream",
     "text": [
      "uttarpradesh\n"
     ]
    }
   ],
   "source": [
    "t=(\"uttarpradesh\",'delhi','haryana','rajasthan')\n",
    "longest=max(t,key=len)\n",
    "print(longest)"
   ]
  },
  {
   "cell_type": "code",
   "execution_count": null,
   "id": "e342fc2f-ffa5-4600-8a4c-6fd09ec2c984",
   "metadata": {},
   "outputs": [],
   "source": []
  },
  {
   "cell_type": "markdown",
   "id": "0bc2373e-b07e-4647-904d-068a55cb0fa4",
   "metadata": {},
   "source": [
    "Q47. Find the shortest string in a tuple of strings."
   ]
  },
  {
   "cell_type": "code",
   "execution_count": 28,
   "id": "6fe15df7-abba-48b8-b96b-ede87a82c415",
   "metadata": {},
   "outputs": [
    {
     "name": "stdout",
     "output_type": "stream",
     "text": [
      "delhi\n"
     ]
    }
   ],
   "source": [
    "t=(\"uttarpradesh\",'delhi','haryana','rajasthan')\n",
    "shortest=min(t,key=len)\n",
    "print(shortest)"
   ]
  },
  {
   "cell_type": "code",
   "execution_count": null,
   "id": "d350d758-242d-44b7-b0b4-18bd60a5ac16",
   "metadata": {},
   "outputs": [],
   "source": []
  },
  {
   "cell_type": "markdown",
   "id": "80e15576-4376-4ebe-bee8-91ee20fdac65",
   "metadata": {},
   "source": [
    "Q48. Create a tuple of the first `n` triangular numbers."
   ]
  },
  {
   "cell_type": "code",
   "execution_count": 66,
   "id": "543f2a2c-ebd5-4788-9dbb-07bf6e79db4e",
   "metadata": {},
   "outputs": [
    {
     "name": "stdout",
     "output_type": "stream",
     "text": [
      "(1, 3, 6, 10, 15)\n"
     ]
    }
   ],
   "source": [
    "def triangular(n):\n",
    "    return tuple((i * (i + 1)) // 2 for i in range(1,n+1))\n",
    "\n",
    "print(triangular(5))"
   ]
  },
  {
   "cell_type": "code",
   "execution_count": null,
   "id": "38e34213-1419-4afa-a1fb-b3139341b03f",
   "metadata": {},
   "outputs": [],
   "source": []
  },
  {
   "cell_type": "markdown",
   "id": "9d88810d-7324-476d-95f7-2acb3a5faf5d",
   "metadata": {},
   "source": [
    "Q49. Check if a tuple contains another tuple as a subsequence."
   ]
  },
  {
   "cell_type": "code",
   "execution_count": 68,
   "id": "43ad1d98-08b2-4bd2-b935-c31fea5a8776",
   "metadata": {},
   "outputs": [
    {
     "name": "stdout",
     "output_type": "stream",
     "text": [
      "False\n"
     ]
    }
   ],
   "source": [
    "def contains_subsequence(main_tuple, sub_tuple):\n",
    "    sub_length = len(sub_tuple)\n",
    "    for i in range(len(main_tuple) - sub_length + 1):\n",
    "        if main_tuple[i:i+sub_length] == sub_tuple:\n",
    "            return True\n",
    "    return False\n",
    "\n",
    "main_tuple=(1,2,3,4,5,6,7,8,9)\n",
    "sub_tuple=(2,3,5)\n",
    "x=contains_subsequence(main_tuple, sub_tuple)\n",
    "print(x)"
   ]
  },
  {
   "cell_type": "markdown",
   "id": "d5ab3432-bf70-45ea-b252-8fad30fd43bd",
   "metadata": {},
   "source": [
    "OR"
   ]
  },
  {
   "cell_type": "code",
   "execution_count": 69,
   "id": "9a255dca-0f72-48c9-bbb0-9e4bf66f7d26",
   "metadata": {},
   "outputs": [
    {
     "name": "stdout",
     "output_type": "stream",
     "text": [
      "True\n",
      "False\n"
     ]
    }
   ],
   "source": [
    "def tupleMatch(A, B):\n",
    "    return A == tuple(b for b in B if b in A)\n",
    "\n",
    "print(tupleMatch((1, 2, 3, 4), (1, 2, 3, 4, 5, 6))) # True\n",
    "print(tupleMatch((1, 2, 3, 4), (1, 3, 5, 4, 2, 6))) # False"
   ]
  },
  {
   "cell_type": "code",
   "execution_count": null,
   "id": "fb81bf2e-fea0-47e5-8647-79db223e685d",
   "metadata": {},
   "outputs": [],
   "source": []
  },
  {
   "cell_type": "markdown",
   "id": "86ae69e2-868a-413d-93ba-8b4d745c8536",
   "metadata": {},
   "source": [
    "Q50. Create a tuple of alternating 1s and 0s of length `n`."
   ]
  },
  {
   "cell_type": "code",
   "execution_count": 71,
   "id": "9f06e8a5-b5e6-4522-8009-29fc83678367",
   "metadata": {},
   "outputs": [
    {
     "name": "stdout",
     "output_type": "stream",
     "text": [
      "(0, 1, 0, 1, 0)\n"
     ]
    }
   ],
   "source": [
    "def alternating_tuple(n):\n",
    "    return tuple([i % 2 for i in range(n)])\n",
    "\n",
    "n=5\n",
    "print(alternating_tuple(5))"
   ]
  },
  {
   "cell_type": "code",
   "execution_count": null,
   "id": "e13378fc-6a4d-4ec9-9066-7fdf3dbfed48",
   "metadata": {},
   "outputs": [],
   "source": []
  },
  {
   "cell_type": "markdown",
   "id": "f115d28c-6dc2-4373-a16c-6173e1b56a95",
   "metadata": {
    "tags": []
   },
   "source": [
    "## Set Based Practice Problem :"
   ]
  },
  {
   "cell_type": "code",
   "execution_count": null,
   "id": "c2d24907-c2dd-49af-9041-7e9603f614be",
   "metadata": {},
   "outputs": [],
   "source": []
  },
  {
   "cell_type": "markdown",
   "id": "1df8ce69-6c3e-44d6-9c1d-f6b2914cf4fe",
   "metadata": {},
   "source": [
    "Q1. Create a set with integers from 1 to 5."
   ]
  },
  {
   "cell_type": "code",
   "execution_count": 1,
   "id": "9ff29aba-6de3-416e-8d5f-72a83906344a",
   "metadata": {},
   "outputs": [],
   "source": [
    "s={1,2,3,4,5}"
   ]
  },
  {
   "cell_type": "code",
   "execution_count": null,
   "id": "421fd1bc-dd88-46ca-822e-286ed18a1985",
   "metadata": {},
   "outputs": [],
   "source": []
  },
  {
   "cell_type": "markdown",
   "id": "005d8fcc-a6c3-4599-a97e-7cc699feeb63",
   "metadata": {},
   "source": [
    "Q2. Add an element to a set."
   ]
  },
  {
   "cell_type": "code",
   "execution_count": 4,
   "id": "c59d7eba-7aa0-4f9a-91b4-36ed03e52382",
   "metadata": {},
   "outputs": [
    {
     "name": "stdout",
     "output_type": "stream",
     "text": [
      "{1, 2, 3, 4, 5, 6}\n"
     ]
    }
   ],
   "source": [
    "s={1,2,3,4,5}\n",
    "s.add(6)\n",
    "print(s)"
   ]
  },
  {
   "cell_type": "code",
   "execution_count": null,
   "id": "1382304b-5b19-4c67-8b67-1cbbe6d22535",
   "metadata": {},
   "outputs": [],
   "source": []
  },
  {
   "cell_type": "markdown",
   "id": "a7950616-205f-432c-bb43-14fbbeed263c",
   "metadata": {},
   "source": [
    "Q3. Remove an element from a set."
   ]
  },
  {
   "cell_type": "code",
   "execution_count": 5,
   "id": "388ae8c2-1b50-4ab4-952b-7727c8e85740",
   "metadata": {},
   "outputs": [
    {
     "name": "stdout",
     "output_type": "stream",
     "text": [
      "{1, 2, 3, 4}\n"
     ]
    }
   ],
   "source": [
    "s={1,2,3,4,5}\n",
    "s.remove(5)\n",
    "print(s)"
   ]
  },
  {
   "cell_type": "code",
   "execution_count": null,
   "id": "f1669d73-8742-495a-8663-d89bd38ea393",
   "metadata": {},
   "outputs": [],
   "source": []
  },
  {
   "cell_type": "markdown",
   "id": "dc230204-b0a6-495c-a979-52431bd26801",
   "metadata": {},
   "source": [
    "Q4. Check if an element exists in a set."
   ]
  },
  {
   "cell_type": "code",
   "execution_count": 8,
   "id": "28ba2637-27cf-4f94-812f-1a37afd81563",
   "metadata": {},
   "outputs": [
    {
     "name": "stdout",
     "output_type": "stream",
     "text": [
      "{1, 2, 3, 4, 5}\n"
     ]
    },
    {
     "name": "stdin",
     "output_type": "stream",
     "text": [
      "Enter value to find:  5\n"
     ]
    },
    {
     "name": "stdout",
     "output_type": "stream",
     "text": [
      "This element is exist in the set\n"
     ]
    }
   ],
   "source": [
    "s={1,2,3,4,5}\n",
    "print(s)\n",
    "find=int(input(\"Enter value to find: \"))\n",
    "if find in s:\n",
    "    print(\"This element is exist in the set\")\n",
    "else:\n",
    "    print(\"This element is not exist in the set\")"
   ]
  },
  {
   "cell_type": "code",
   "execution_count": null,
   "id": "5a9bd91b-2382-4990-8e87-34b8223baf3a",
   "metadata": {},
   "outputs": [],
   "source": []
  },
  {
   "cell_type": "markdown",
   "id": "cc036b80-0245-4f88-9afe-35315b41c07a",
   "metadata": {},
   "source": [
    "Q5. Find the length of a set without using the `len()` function."
   ]
  },
  {
   "cell_type": "code",
   "execution_count": 19,
   "id": "a0c132af-64e3-47a7-b33c-0089fc0fbf8b",
   "metadata": {},
   "outputs": [
    {
     "name": "stdout",
     "output_type": "stream",
     "text": [
      "6\n"
     ]
    }
   ],
   "source": [
    "s={1,2,3,4,5,6}\n",
    "total=0\n",
    "for i in s:\n",
    "    total+=1\n",
    "print(total)    "
   ]
  },
  {
   "cell_type": "code",
   "execution_count": null,
   "id": "0504bb33-92e2-41fb-9ef1-94d61588d8a0",
   "metadata": {},
   "outputs": [],
   "source": []
  },
  {
   "cell_type": "markdown",
   "id": "ff2685ff-c9c7-4b43-bd6c-ef46465014ac",
   "metadata": {},
   "source": [
    "Q6. Clear all elements from a set."
   ]
  },
  {
   "cell_type": "code",
   "execution_count": 1,
   "id": "8bc5d840-ac4f-423e-a147-006993068e39",
   "metadata": {},
   "outputs": [
    {
     "name": "stdout",
     "output_type": "stream",
     "text": [
      "set()\n"
     ]
    }
   ],
   "source": [
    "s={1,2,34,5,6,5,6}\n",
    "s.clear()\n",
    "print(s)"
   ]
  },
  {
   "cell_type": "code",
   "execution_count": null,
   "id": "1f2e3055-f62c-4e2d-b6a7-ef45d49fe5b1",
   "metadata": {},
   "outputs": [],
   "source": []
  },
  {
   "cell_type": "markdown",
   "id": "1eb8e44a-eca5-4060-b3fd-b4040fccc1fa",
   "metadata": {},
   "source": [
    "\n",
    "Q7. Create a set of even numbers from 1 to 10."
   ]
  },
  {
   "cell_type": "code",
   "execution_count": 9,
   "id": "28eeb173-167e-476d-ba89-56e72b7fd612",
   "metadata": {},
   "outputs": [
    {
     "name": "stdout",
     "output_type": "stream",
     "text": [
      "Even number:  {2, 4, 6, 8, 10}\n"
     ]
    }
   ],
   "source": [
    "l=[]\n",
    "for i in range(2,11,2):\n",
    "    l.append(i)\n",
    "s=set(l)\n",
    "print(\"Even number: \",s)"
   ]
  },
  {
   "cell_type": "code",
   "execution_count": null,
   "id": "cd688404-e3ce-4f6f-83ed-51eec261a45a",
   "metadata": {},
   "outputs": [],
   "source": []
  },
  {
   "cell_type": "markdown",
   "id": "179e7133-c40a-4acc-a015-ce85ec5c54d0",
   "metadata": {},
   "source": [
    "Q8. Create a set of odd numbers from 1 to 10."
   ]
  },
  {
   "cell_type": "code",
   "execution_count": 8,
   "id": "335e5d1f-d4be-42ab-861b-c20af93ede0a",
   "metadata": {},
   "outputs": [
    {
     "name": "stdout",
     "output_type": "stream",
     "text": [
      "Odd number:  {1, 3, 5, 7, 9}\n"
     ]
    }
   ],
   "source": [
    "l=[]\n",
    "for i in range(1,11,2):\n",
    "    l.append(i)\n",
    "s=set(l)\n",
    "print(\"Odd number: \",s)"
   ]
  },
  {
   "cell_type": "code",
   "execution_count": null,
   "id": "d871cfbf-d24e-4c14-9c2d-928f237dbfd0",
   "metadata": {},
   "outputs": [],
   "source": []
  },
  {
   "cell_type": "markdown",
   "id": "55073b98-e043-4648-b60b-b83ff31f29e9",
   "metadata": {},
   "source": [
    "Q9. Find the union of two sets."
   ]
  },
  {
   "cell_type": "code",
   "execution_count": 11,
   "id": "a8d92690-6ce5-4a2e-a19d-515bfa1bcd8a",
   "metadata": {},
   "outputs": [
    {
     "name": "stdout",
     "output_type": "stream",
     "text": [
      "Union os set(s1) and set(s2) : {1, 2, 3, 4, 5, 6, 7, 8}\n"
     ]
    }
   ],
   "source": [
    "s1={1,2,3,4,5}\n",
    "s2={4,5,6,7,8}\n",
    "s=s1.union(s2)\n",
    "print(\"Union os set(s1) and set(s2) :\",s)"
   ]
  },
  {
   "cell_type": "code",
   "execution_count": null,
   "id": "1abbeaeb-5cec-4a40-b106-2798fbb27183",
   "metadata": {},
   "outputs": [],
   "source": []
  },
  {
   "cell_type": "markdown",
   "id": "ff3821f1-c3b4-4ca0-9fd1-9db4818d2737",
   "metadata": {},
   "source": [
    "Q10. Find the intersection of two sets."
   ]
  },
  {
   "cell_type": "code",
   "execution_count": 12,
   "id": "105d5eae-c606-49ed-bf22-12b99d844420",
   "metadata": {},
   "outputs": [
    {
     "name": "stdout",
     "output_type": "stream",
     "text": [
      "The intersection of s1 and s2 is : {4, 5}\n"
     ]
    }
   ],
   "source": [
    "s1={1,2,3,4,5}\n",
    "s2={4,5,6,7,8}\n",
    "s=s1.intersection(s2)\n",
    "print(\"The intersection of s1 and s2 is :\",s)"
   ]
  },
  {
   "cell_type": "code",
   "execution_count": null,
   "id": "2853085f-4a60-437c-9a2d-874a42693436",
   "metadata": {},
   "outputs": [],
   "source": []
  },
  {
   "cell_type": "markdown",
   "id": "c97a93a7-28f2-44a6-ab6b-7efd43f27956",
   "metadata": {},
   "source": [
    "Q11. Find the difference between two sets."
   ]
  },
  {
   "cell_type": "code",
   "execution_count": 14,
   "id": "1fbdcdc8-e71e-4b17-8803-624f023ce227",
   "metadata": {},
   "outputs": [
    {
     "name": "stdout",
     "output_type": "stream",
     "text": [
      "The difference of the s1 and s2:  {1, 2, 3}\n"
     ]
    }
   ],
   "source": [
    "s1={1,2,3,4,5}\n",
    "s2={4,5,6,7,8}\n",
    "s=s1.difference(s2)\n",
    "print(\"The difference of the s1 and s2: \",s)"
   ]
  },
  {
   "cell_type": "code",
   "execution_count": null,
   "id": "87d5536a-363c-4865-bf4f-0def1a3a9e3c",
   "metadata": {},
   "outputs": [],
   "source": []
  },
  {
   "cell_type": "markdown",
   "id": "f323fd99-6b1a-4bee-a8e5-415ea2956150",
   "metadata": {},
   "source": [
    "Q12. Check if a set is a subset of another set."
   ]
  },
  {
   "cell_type": "code",
   "execution_count": 17,
   "id": "092e2590-c72e-4da7-bde3-bd3887ab8e85",
   "metadata": {},
   "outputs": [
    {
     "name": "stdout",
     "output_type": "stream",
     "text": [
      "s1 is subset of s2:  True\n"
     ]
    }
   ],
   "source": [
    "s1={1,2,3}\n",
    "s2={1,2,3,4,5}\n",
    "subset=s1.issubset(s2)\n",
    "print(\"s1 is subset of s2: \",subset)"
   ]
  },
  {
   "cell_type": "code",
   "execution_count": null,
   "id": "5dbe2c0e-82de-4c92-9cf4-5327b670b528",
   "metadata": {},
   "outputs": [],
   "source": []
  },
  {
   "cell_type": "markdown",
   "id": "ca49f624-4dba-476f-87b8-7a804b2589f1",
   "metadata": {},
   "source": [
    "Q13. Check if a set is a superset of another set."
   ]
  },
  {
   "cell_type": "code",
   "execution_count": 18,
   "id": "97e641d8-e53a-4c9d-8dc7-9f4724c0df83",
   "metadata": {},
   "outputs": [
    {
     "name": "stdout",
     "output_type": "stream",
     "text": [
      "s1 is superset of s2:  True\n"
     ]
    }
   ],
   "source": [
    "s1={1,2,3,4,5}\n",
    "s2={1,2,3}\n",
    "superset=s1.issuperset(s2)\n",
    "print(\"s1 is superset of s2: \",superset)"
   ]
  },
  {
   "cell_type": "code",
   "execution_count": null,
   "id": "d4fc406e-a4e3-4f95-ad8a-0327e43d32da",
   "metadata": {},
   "outputs": [],
   "source": []
  },
  {
   "cell_type": "markdown",
   "id": "e120c02a-1fe2-4c92-96f8-6d2e246c02d2",
   "metadata": {},
   "source": [
    "Q14. Create a set from a list."
   ]
  },
  {
   "cell_type": "code",
   "execution_count": 19,
   "id": "16ed1ca1-87c9-44d7-9273-f2ba1770d198",
   "metadata": {},
   "outputs": [
    {
     "name": "stdout",
     "output_type": "stream",
     "text": [
      "List:  [1, 2, 3, 4, 5]\n",
      "Set:  {1, 2, 3, 4, 5}\n"
     ]
    }
   ],
   "source": [
    "l=[1,2,3,4,5]\n",
    "print(\"List: \",l)\n",
    "s=set(l)\n",
    "print(\"Set: \",s)"
   ]
  },
  {
   "cell_type": "code",
   "execution_count": null,
   "id": "486e85c4-1b90-4f01-891d-54b17e16ea37",
   "metadata": {},
   "outputs": [],
   "source": []
  },
  {
   "cell_type": "markdown",
   "id": "b570b2e9-6cae-4658-9b5b-6f0cc8b07136",
   "metadata": {},
   "source": [
    "Q15. Convert a set to a list."
   ]
  },
  {
   "cell_type": "code",
   "execution_count": 20,
   "id": "2f1be67e-a15e-466c-b0a8-03663e395d71",
   "metadata": {},
   "outputs": [
    {
     "name": "stdout",
     "output_type": "stream",
     "text": [
      "Set:  {1, 2, 3, 4, 5}\n",
      "List:  [1, 2, 3, 4, 5]\n"
     ]
    }
   ],
   "source": [
    "s={1,2,3,4,5}\n",
    "print(\"Set: \",s)\n",
    "l=list(s)\n",
    "print(\"List: \",l)"
   ]
  },
  {
   "cell_type": "code",
   "execution_count": null,
   "id": "d6982e68-8007-446a-acd8-1e015a20ff2d",
   "metadata": {},
   "outputs": [],
   "source": []
  },
  {
   "cell_type": "markdown",
   "id": "426e4ffa-976c-4b8d-bc70-790c0238fd94",
   "metadata": {},
   "source": [
    "Q16. Remove a random element from a set."
   ]
  },
  {
   "cell_type": "code",
   "execution_count": 21,
   "id": "b0af03c2-6532-424b-b1b0-3131171006e6",
   "metadata": {},
   "outputs": [
    {
     "name": "stdout",
     "output_type": "stream",
     "text": [
      "Old set:  {1, 2, 3, 4, 5}\n",
      "Updated set:  {1, 2, 3, 5}\n"
     ]
    }
   ],
   "source": [
    "s={1,2,3,4,5}\n",
    "print(\"Old set: \",s)\n",
    "s.remove(4)\n",
    "print(\"Updated set: \",s)"
   ]
  },
  {
   "cell_type": "code",
   "execution_count": null,
   "id": "099e06d8-7493-435c-b45b-6000ceead083",
   "metadata": {},
   "outputs": [],
   "source": []
  },
  {
   "cell_type": "markdown",
   "id": "cc4bc5ac-3db5-4d49-8f9b-ffdc9acb6937",
   "metadata": {},
   "source": [
    "Q17. Pop an element from a set."
   ]
  },
  {
   "cell_type": "code",
   "execution_count": 23,
   "id": "4ea7f7cb-0c46-4961-9793-35d4da0b824b",
   "metadata": {},
   "outputs": [
    {
     "name": "stdout",
     "output_type": "stream",
     "text": [
      "Old set:  {1, 2, 3, 4, 5}\n",
      "Poped element:  1\n",
      "Updated set:  {2, 3, 4, 5}\n"
     ]
    }
   ],
   "source": [
    "s={1,2,3,4,5}\n",
    "print(\"Old set: \",s)\n",
    "pop=s.pop()\n",
    "print(\"Poped element: \",pop)\n",
    "print(\"Updated set: \",s)"
   ]
  },
  {
   "cell_type": "code",
   "execution_count": null,
   "id": "8d23eb90-c805-4360-a1b2-97fecfdba23b",
   "metadata": {},
   "outputs": [],
   "source": []
  },
  {
   "cell_type": "markdown",
   "id": "a121c126-7107-4128-aa9d-64ba4799d88b",
   "metadata": {},
   "source": [
    "Q18. Check if two sets have no elements in common."
   ]
  },
  {
   "cell_type": "code",
   "execution_count": 25,
   "id": "a123fbbd-8d11-41e6-ae28-1754378cfb11",
   "metadata": {},
   "outputs": [
    {
     "name": "stdout",
     "output_type": "stream",
     "text": [
      "These two sets have no element\n"
     ]
    }
   ],
   "source": [
    "s1={1,2,3,4,5}\n",
    "s2={6,7,8,9}\n",
    "common=s1.intersection(s2)\n",
    "if not common:\n",
    "    print(\"These two sets have no element\")\n",
    "else:\n",
    "    print(\"These two sets contains some common element\")"
   ]
  },
  {
   "cell_type": "code",
   "execution_count": null,
   "id": "e5692a5e-8a3f-424d-80be-eb4804c6fdde",
   "metadata": {},
   "outputs": [],
   "source": []
  },
  {
   "cell_type": "markdown",
   "id": "8f70f256-11a1-457f-8ece-259c76deb5ac",
   "metadata": {},
   "source": [
    "Q19. Find the symmetric difference between two sets."
   ]
  },
  {
   "cell_type": "code",
   "execution_count": 26,
   "id": "2631a646-d1c8-4424-896d-641a85a02f3c",
   "metadata": {},
   "outputs": [
    {
     "name": "stdout",
     "output_type": "stream",
     "text": [
      "The symmetric difference between two sets:  {1, 2, 3, 6, 7, 8}\n"
     ]
    }
   ],
   "source": [
    "s1={1,2,3,4,5}\n",
    "s2={4,5,6,7,8}\n",
    "sym=s1.symmetric_difference(s2)\n",
    "print(\"The symmetric difference between two sets: \",sym)"
   ]
  },
  {
   "cell_type": "code",
   "execution_count": null,
   "id": "8ebf9b6f-39c7-4b6a-a4d0-3e097a9ed47a",
   "metadata": {},
   "outputs": [],
   "source": []
  },
  {
   "cell_type": "markdown",
   "id": "8a84a747-4e4a-4562-8db5-ac60f9bec0f7",
   "metadata": {},
   "source": [
    "Q20. Update a set with elements from another set."
   ]
  },
  {
   "cell_type": "code",
   "execution_count": 2,
   "id": "0a0f2f63-e8aa-4816-a755-8a0b8ee80032",
   "metadata": {},
   "outputs": [
    {
     "name": "stdout",
     "output_type": "stream",
     "text": [
      "Upadted s1:  {1, 2, 3, 4, 5, 6}\n"
     ]
    }
   ],
   "source": [
    "s1={1,2,3}\n",
    "s2={2,3,4,5,6}\n",
    "s1.update(s2)\n",
    "print(\"Upadted s1: \",s1)"
   ]
  },
  {
   "cell_type": "code",
   "execution_count": null,
   "id": "c93b3248-f31d-4f60-942f-aeff7d21e3f1",
   "metadata": {},
   "outputs": [],
   "source": []
  },
  {
   "cell_type": "markdown",
   "id": "693273c5-5e58-4901-bb1f-30020fc1329b",
   "metadata": {},
   "source": [
    "Q21. Create a set of the first 5 prime numbers."
   ]
  },
  {
   "cell_type": "code",
   "execution_count": 81,
   "id": "254228a6-a99b-49ae-9d14-394ba9806b18",
   "metadata": {},
   "outputs": [
    {
     "name": "stdout",
     "output_type": "stream",
     "text": [
      "[2, 3, 5, 7, 11]\n"
     ]
    }
   ],
   "source": [
    "def is_prime(n):\n",
    "    if n < 2:\n",
    "        return False\n",
    "    for i in range(2, int(n ** 0.5) + 1):\n",
    "        if n % i == 0:\n",
    "            return False\n",
    "    return True\n",
    "\n",
    "def first_n_primes(n):\n",
    "    primes = []\n",
    "    i = 2\n",
    "    while len(primes) < n:\n",
    "        if is_prime(i):\n",
    "            primes.append(i)\n",
    "        i += 1\n",
    "    return primes\n",
    "\n",
    "print(first_n_primes(5))\n"
   ]
  },
  {
   "cell_type": "code",
   "execution_count": null,
   "id": "ff9de6be-067f-46c3-a927-e0a70a7f6a8f",
   "metadata": {},
   "outputs": [],
   "source": []
  },
  {
   "cell_type": "markdown",
   "id": "e088cc77-b804-4ff3-ba20-5c713658aae7",
   "metadata": {},
   "source": [
    "Q22. Check if two sets are identical."
   ]
  },
  {
   "cell_type": "code",
   "execution_count": 80,
   "id": "f040bd55-118e-4008-90ab-023b5e396be5",
   "metadata": {},
   "outputs": [
    {
     "name": "stdout",
     "output_type": "stream",
     "text": [
      "These two sets are identical\n"
     ]
    }
   ],
   "source": [
    "s1={1,2,3}\n",
    "s2={1,3,2}\n",
    "if s1 == s2:\n",
    "    print(\"These two sets are identical\")\n",
    "else:\n",
    "    print(\"These two sets not are identical\")"
   ]
  },
  {
   "cell_type": "code",
   "execution_count": null,
   "id": "0199a946-7e17-4578-a06e-dffadef431e6",
   "metadata": {},
   "outputs": [],
   "source": []
  },
  {
   "cell_type": "markdown",
   "id": "fc28d006-68a0-4810-aac7-0829f3b98f55",
   "metadata": {},
   "source": [
    "Q23. Create a frozen set."
   ]
  },
  {
   "cell_type": "code",
   "execution_count": 34,
   "id": "29225649-a244-463c-ae18-aa4bdc255556",
   "metadata": {},
   "outputs": [
    {
     "name": "stdout",
     "output_type": "stream",
     "text": [
      "List= [1, 2, 3, 4, 5]\n",
      "frozenset({1, 2, 3, 4, 5})\n"
     ]
    }
   ],
   "source": [
    "l=[1,2,3,4,5]\n",
    "print(\"List=\",l)\n",
    "frozen_set=frozenset(l)\n",
    "print(frozen_set)"
   ]
  },
  {
   "cell_type": "code",
   "execution_count": null,
   "id": "d73fd3a1-e9ba-427f-b5e6-27fa699d3c29",
   "metadata": {},
   "outputs": [],
   "source": []
  },
  {
   "cell_type": "markdown",
   "id": "b87119f2-5006-4e48-9595-ba47aa155074",
   "metadata": {},
   "source": [
    "Q24. Check if a set is disjoint with another set."
   ]
  },
  {
   "cell_type": "code",
   "execution_count": 82,
   "id": "75344b39-31b8-4f02-baa3-47feaac97de5",
   "metadata": {},
   "outputs": [
    {
     "name": "stdout",
     "output_type": "stream",
     "text": [
      "True\n"
     ]
    }
   ],
   "source": [
    "set1 = {1, 2, 3, 4}\n",
    "set2 = {5, 6, 7, 8}\n",
    "disjoint=set1.isdisjoint(set2)\n",
    "print(disjoint)"
   ]
  },
  {
   "cell_type": "code",
   "execution_count": null,
   "id": "87b25a7f-e3a6-40e1-a8ae-b5174a2fad48",
   "metadata": {},
   "outputs": [],
   "source": []
  },
  {
   "cell_type": "markdown",
   "id": "1647c06b-c663-41de-9908-1862131c3054",
   "metadata": {},
   "source": [
    "Q25. Create a set of squares of numbers from 1 to 5."
   ]
  },
  {
   "cell_type": "code",
   "execution_count": 37,
   "id": "af8eb677-0794-4cd0-89f6-c9a3cdcdd728",
   "metadata": {},
   "outputs": [
    {
     "name": "stdout",
     "output_type": "stream",
     "text": [
      "{1, 4, 9, 16, 25}\n"
     ]
    }
   ],
   "source": [
    "s=set()\n",
    "for i in range(1,6):\n",
    "    square=i**2\n",
    "    s.add(square)\n",
    "print(s)    "
   ]
  },
  {
   "cell_type": "code",
   "execution_count": null,
   "id": "866558f6-10ea-43e6-baa0-d39baebede2f",
   "metadata": {},
   "outputs": [],
   "source": []
  },
  {
   "cell_type": "markdown",
   "id": "206223d2-2f99-437d-9e45-29683039456b",
   "metadata": {},
   "source": [
    "Q26. Filter out all even numbers from a set."
   ]
  },
  {
   "cell_type": "code",
   "execution_count": 38,
   "id": "10b4530b-f209-4ae2-b16b-c4e1caea240c",
   "metadata": {},
   "outputs": [
    {
     "name": "stdout",
     "output_type": "stream",
     "text": [
      "{2, 4, 6, 8, 10}\n"
     ]
    }
   ],
   "source": [
    "l={1,2,3,4,5,6,7,8,9,10}\n",
    "l1=set()\n",
    "for i in l:\n",
    "    if i%2==0:\n",
    "        l1.add(i)\n",
    "print(l1)        "
   ]
  },
  {
   "cell_type": "code",
   "execution_count": null,
   "id": "d7be698f-5961-4a04-afa0-c4f407e88eb6",
   "metadata": {},
   "outputs": [],
   "source": []
  },
  {
   "cell_type": "markdown",
   "id": "35ece208-9908-48b4-8baa-328219f41d99",
   "metadata": {},
   "source": [
    "Q27. Multiply all elements in a set by 2."
   ]
  },
  {
   "cell_type": "code",
   "execution_count": 40,
   "id": "1f67e77e-a0c3-46d0-b20c-4b06b62f32ca",
   "metadata": {},
   "outputs": [
    {
     "name": "stdout",
     "output_type": "stream",
     "text": [
      "{2, 4, 6, 8, 10, 12, 14, 16, 18, 20}\n"
     ]
    }
   ],
   "source": [
    "l={1,2,3,4,5,6,7,8,9,10}\n",
    "l1=set()\n",
    "for i in l:\n",
    "    mul=i*2\n",
    "    l1.add(mul)\n",
    "print(l1)    "
   ]
  },
  {
   "cell_type": "code",
   "execution_count": null,
   "id": "0b5c891f-dc3d-470e-b877-f108f50c933c",
   "metadata": {},
   "outputs": [],
   "source": []
  },
  {
   "cell_type": "markdown",
   "id": "21ae6d4e-3e01-4b95-9fad-4ec4fe6853d2",
   "metadata": {},
   "source": [
    "Q28. Create a set of random numbers."
   ]
  },
  {
   "cell_type": "code",
   "execution_count": 46,
   "id": "7517dec4-4b97-4506-a815-b7d8cd983897",
   "metadata": {},
   "outputs": [
    {
     "name": "stdout",
     "output_type": "stream",
     "text": [
      "{76, 13, 86, 55, 59}\n"
     ]
    }
   ],
   "source": [
    "import random\n",
    "\n",
    "l=set(random.randint(1,100) for i in range(5))\n",
    "print(l)"
   ]
  },
  {
   "cell_type": "code",
   "execution_count": null,
   "id": "fd2e0919-07cf-4be8-8602-d73d7c2d3b99",
   "metadata": {},
   "outputs": [],
   "source": []
  },
  {
   "cell_type": "markdown",
   "id": "87072ca1-8f2b-44d2-b0fb-7e351c31e0f1",
   "metadata": {},
   "source": [
    "Q29. Check if a set is empty."
   ]
  },
  {
   "cell_type": "code",
   "execution_count": 47,
   "id": "6df0e28f-4ce0-42b5-95d8-b8cf0d3a3bfc",
   "metadata": {},
   "outputs": [
    {
     "name": "stdout",
     "output_type": "stream",
     "text": [
      "This set is empty\n"
     ]
    }
   ],
   "source": [
    "s=set()\n",
    "if not s:\n",
    "    print(\"This set is empty\")\n",
    "else:\n",
    "    print(\"This set is not empty\")"
   ]
  },
  {
   "cell_type": "code",
   "execution_count": null,
   "id": "735f30b6-595b-463b-b076-ee5be476fdc4",
   "metadata": {},
   "outputs": [],
   "source": []
  },
  {
   "cell_type": "markdown",
   "id": "236d987a-2446-4fe4-9073-86769aabbbdd",
   "metadata": {},
   "source": [
    "Q30. Create a nested set (hint: use frozenset)."
   ]
  },
  {
   "cell_type": "code",
   "execution_count": 51,
   "id": "11e92793-1d01-42b9-a8a6-54af114b6c5b",
   "metadata": {},
   "outputs": [
    {
     "name": "stdout",
     "output_type": "stream",
     "text": [
      "{frozenset({1, 2, 3}), frozenset({4, 5, 6})}\n"
     ]
    }
   ],
   "source": [
    "s1={1,2,3}\n",
    "s2={4,5,6}\n",
    "frozen1=frozenset(s1)\n",
    "frozen2=frozenset(s2)\n",
    "nested_list={frozen1,frozen2}\n",
    "print(nested_list)"
   ]
  },
  {
   "cell_type": "code",
   "execution_count": null,
   "id": "b09ce19a-61eb-49cb-9af7-58fb3ce1c758",
   "metadata": {},
   "outputs": [],
   "source": []
  },
  {
   "cell_type": "markdown",
   "id": "24cb09f9-b5ef-4020-bb83-e0d63c3772fb",
   "metadata": {},
   "source": [
    "Q31. Remove an element from a set using the discard method."
   ]
  },
  {
   "cell_type": "code",
   "execution_count": 52,
   "id": "7bd820ef-9dc3-49d1-ae6b-329fc41e986f",
   "metadata": {},
   "outputs": [
    {
     "name": "stdout",
     "output_type": "stream",
     "text": [
      "Set: {1, 2, 3, 4, 5, 6, 7, 8, 9, 10}\n"
     ]
    },
    {
     "name": "stdin",
     "output_type": "stream",
     "text": [
      "Enter the element to remove 5\n"
     ]
    },
    {
     "name": "stdout",
     "output_type": "stream",
     "text": [
      "Updated set:  {1, 2, 3, 4, 6, 7, 8, 9, 10}\n"
     ]
    }
   ],
   "source": [
    "s={1,2,3,4,5,6,7,8,9,10}\n",
    "print(f\"Set: {s}\")\n",
    "remove=int(input(\"Enter the element to remove\"))\n",
    "s.discard(remove)\n",
    "print(\"Updated set: \",s)\n"
   ]
  },
  {
   "cell_type": "code",
   "execution_count": null,
   "id": "56fcb0ae-9754-4230-a3cc-1aa221e5431b",
   "metadata": {},
   "outputs": [],
   "source": []
  },
  {
   "cell_type": "markdown",
   "id": "4db95946-804f-4d18-bc32-1f2666edd860",
   "metadata": {},
   "source": [
    "Q32. Compare two sets."
   ]
  },
  {
   "cell_type": "code",
   "execution_count": 24,
   "id": "092ff8b6-e39e-4af1-a6de-bf6e1a6490de",
   "metadata": {},
   "outputs": [
    {
     "name": "stdout",
     "output_type": "stream",
     "text": [
      "Set 1: {1, 2, 3, 4, 5}\n",
      "Set 2: {4, 5, 6, 7, 8}\n",
      "Is set1 a subset of set2? False\n",
      "Is set2 a subset of set1? False\n",
      "Intersection: {4, 5}\n",
      "Union: {1, 2, 3, 4, 5, 6, 7, 8}\n",
      "Elements in set1 but not in set2: {1, 2, 3}\n",
      "Elements in set2 but not in set1: {8, 6, 7}\n"
     ]
    }
   ],
   "source": [
    "set1 = {1, 2, 3, 4, 5}\n",
    "set2 = {4, 5, 6, 7, 8}\n",
    "\n",
    "# Step 2: Use set operations to compare the sets\n",
    "# Check if set1 is a subset of set2\n",
    "is_subset = set1.issubset(set2)\n",
    "\n",
    "# Check if set2 is a subset of set1\n",
    "is_superset = set1.issuperset(set2)\n",
    "\n",
    "# Find the intersection of the sets\n",
    "intersection = set1.intersection(set2)\n",
    "\n",
    "# Find the union of the sets\n",
    "union = set1.union(set2)\n",
    "\n",
    "# Find the elements that are in set1 but not in set2\n",
    "difference1 = set1.difference(set2)\n",
    "\n",
    "# Find the elements that are in set2 but not in set1\n",
    "difference2 = set2.difference(set1)\n",
    "\n",
    "# Step 3: Print the results\n",
    "print(\"Set 1:\", set1)\n",
    "print(\"Set 2:\", set2)\n",
    "print(\"Is set1 a subset of set2?\", is_subset)\n",
    "print(\"Is set2 a subset of set1?\", is_superset)\n",
    "print(\"Intersection:\", intersection)\n",
    "print(\"Union:\", union)\n",
    "print(\"Elements in set1 but not in set2:\", difference1)\n",
    "print(\"Elements in set2 but not in set1:\", difference2)"
   ]
  },
  {
   "cell_type": "code",
   "execution_count": null,
   "id": "782ecd29-a96d-457b-87da-42f7139dbe75",
   "metadata": {},
   "outputs": [],
   "source": []
  },
  {
   "cell_type": "markdown",
   "id": "eafe2744-1520-4def-b98f-4852e054b535",
   "metadata": {},
   "source": [
    "Q33. Create a set from a string."
   ]
  },
  {
   "cell_type": "code",
   "execution_count": 56,
   "id": "121f565e-4a41-4d04-ad3f-c9e96fe8305b",
   "metadata": {},
   "outputs": [
    {
     "name": "stdin",
     "output_type": "stream",
     "text": [
      "Enter the string:  Hello\n"
     ]
    },
    {
     "name": "stdout",
     "output_type": "stream",
     "text": [
      "{'l', 'H', 'o', 'e'}\n"
     ]
    }
   ],
   "source": [
    "string=input(\"Enter the string: \")\n",
    "x=set(string)\n",
    "print(x)"
   ]
  },
  {
   "cell_type": "code",
   "execution_count": null,
   "id": "06258745-77a2-4fdf-9fb9-dfe316e0dc6b",
   "metadata": {},
   "outputs": [],
   "source": []
  },
  {
   "cell_type": "markdown",
   "id": "7721e0c5-a923-4b7c-8068-901c6afc32aa",
   "metadata": {},
   "source": [
    "Q34. Convert a set of strings to a set of integers"
   ]
  },
  {
   "cell_type": "code",
   "execution_count": 59,
   "id": "353f0256-a7f4-4700-af51-af7ea696e1df",
   "metadata": {},
   "outputs": [
    {
     "name": "stdout",
     "output_type": "stream",
     "text": [
      "Previous set: {'2', '1', '3', '4'}\n",
      "New set: {1, 2, 3, 4}\n"
     ]
    }
   ],
   "source": [
    "s={\"1\",'2','3','4'}\n",
    "print(\"Previous set:\",s)\n",
    "s=set(int(i) for i in s)\n",
    "print(\"New set:\",s)"
   ]
  },
  {
   "cell_type": "code",
   "execution_count": null,
   "id": "280375a2-7e69-43d0-b734-2a79fba86797",
   "metadata": {},
   "outputs": [],
   "source": []
  },
  {
   "cell_type": "markdown",
   "id": "fe6bc7ca-a9ca-45ff-8f94-d614061f17e5",
   "metadata": {},
   "source": [
    "Q35. Convert a set of integers to a set of strings."
   ]
  },
  {
   "cell_type": "code",
   "execution_count": 60,
   "id": "da4a1d14-de29-43b3-b472-6c1fd4cd9aa5",
   "metadata": {},
   "outputs": [
    {
     "name": "stdout",
     "output_type": "stream",
     "text": [
      "Old set: {1, 2, 3, 4}\n",
      "New set: {'2', '1', '3', '4'}\n"
     ]
    }
   ],
   "source": [
    "s={1, 2, 3, 4}\n",
    "print(\"Old set:\",s)\n",
    "s1=set(str(i) for i in s)\n",
    "print(\"New set:\",s1)"
   ]
  },
  {
   "cell_type": "code",
   "execution_count": null,
   "id": "685d8825-dcf6-4d08-9e97-45beb425f764",
   "metadata": {},
   "outputs": [],
   "source": []
  },
  {
   "cell_type": "markdown",
   "id": "32149a22-c35a-410d-90f5-2f1f71f2a2b3",
   "metadata": {},
   "source": [
    "Q36. Create a set from a tuple."
   ]
  },
  {
   "cell_type": "code",
   "execution_count": 61,
   "id": "afb9b54f-39b0-4a63-97c7-a09989af6110",
   "metadata": {},
   "outputs": [
    {
     "name": "stdout",
     "output_type": "stream",
     "text": [
      "Tuple: (1, 2, 3, 4, 6, 2, 6, 1, 6, 9, 2, 8)\n",
      "Set from a tuple: {1, 2, 3, 4, 6, 8, 9}\n"
     ]
    }
   ],
   "source": [
    "t=(1,2,3,4,6,2,6,1,6,9,2,8)\n",
    "print(\"Tuple:\",t)\n",
    "s=set(t)\n",
    "print(\"Set from a tuple:\",s)"
   ]
  },
  {
   "cell_type": "code",
   "execution_count": null,
   "id": "693c5df8-97c6-41b8-85e1-64314df02587",
   "metadata": {},
   "outputs": [],
   "source": []
  },
  {
   "cell_type": "markdown",
   "id": "d881abb7-f9a9-422c-a337-d823fc875a80",
   "metadata": {},
   "source": [
    "Q37. Convert a set to a tuple."
   ]
  },
  {
   "cell_type": "code",
   "execution_count": 62,
   "id": "18901ea7-b8df-4090-9b01-b08010bd11d5",
   "metadata": {},
   "outputs": [
    {
     "name": "stdout",
     "output_type": "stream",
     "text": [
      "Set: {1, 2, 3, 4, 6, 8, 9}\n",
      "Tuple from the set: (1, 2, 3, 4, 6, 8, 9)\n"
     ]
    }
   ],
   "source": [
    "s={1, 2, 3, 4, 6, 8, 9}\n",
    "print(\"Set:\",s)\n",
    "t=tuple(s)\n",
    "print(\"Tuple from the set:\",t)"
   ]
  },
  {
   "cell_type": "code",
   "execution_count": null,
   "id": "9146cbd3-4a78-4124-ac8d-7876354273e3",
   "metadata": {},
   "outputs": [],
   "source": []
  },
  {
   "cell_type": "markdown",
   "id": "7a61d706-ea75-46be-a73e-61a7e9bfcba6",
   "metadata": {},
   "source": [
    "Q38. Find the maximum value in a set."
   ]
  },
  {
   "cell_type": "code",
   "execution_count": 65,
   "id": "62ab3283-6d63-4df1-8747-b5397f494416",
   "metadata": {},
   "outputs": [
    {
     "name": "stdout",
     "output_type": "stream",
     "text": [
      "Maximum value:  6\n"
     ]
    }
   ],
   "source": [
    "s={1,2,3,4,5,6}\n",
    "l=list(s)\n",
    "maxv=l[0]\n",
    "for i in l:\n",
    "    if maxv<i:\n",
    "        maxv=i\n",
    "print(\"Maximum value: \",maxv)        "
   ]
  },
  {
   "cell_type": "code",
   "execution_count": null,
   "id": "589aec6c-1d21-43f2-a6d7-8d9e4d0bce39",
   "metadata": {},
   "outputs": [],
   "source": []
  },
  {
   "cell_type": "markdown",
   "id": "58270b0a-8abe-4c83-a81a-25035ef1446c",
   "metadata": {},
   "source": [
    "Q39. Find the minimum value in a set."
   ]
  },
  {
   "cell_type": "code",
   "execution_count": 68,
   "id": "081fa88f-9f99-4c9c-9f56-5c92a0612ab8",
   "metadata": {},
   "outputs": [
    {
     "name": "stdout",
     "output_type": "stream",
     "text": [
      "Maximum value:  1\n"
     ]
    }
   ],
   "source": [
    "s={2,3,4,1,5,6}\n",
    "l=list(s)\n",
    "minv=l[0]\n",
    "for i in l:\n",
    "    if maxv>i:\n",
    "        maxv=i\n",
    "print(\"Maximum value: \",minv)   "
   ]
  },
  {
   "cell_type": "code",
   "execution_count": null,
   "id": "737b1da0-2f8d-44e0-921a-1d0b77cb47ed",
   "metadata": {},
   "outputs": [],
   "source": []
  },
  {
   "cell_type": "markdown",
   "id": "25c685e7-92c9-4d84-b599-f157b6486bd0",
   "metadata": {},
   "source": [
    "Q40. Create a set from user input."
   ]
  },
  {
   "cell_type": "code",
   "execution_count": 27,
   "id": "def1133d-c12b-4d28-87bb-a5b053b832be",
   "metadata": {},
   "outputs": [
    {
     "name": "stdout",
     "output_type": "stream",
     "text": [
      "Enter elements for the set (type 'done' to finish):\n"
     ]
    },
    {
     "name": "stdin",
     "output_type": "stream",
     "text": [
      ">  i live in uttar pradesh\n",
      ">  i want to become data scientist\n",
      ">  done\n"
     ]
    },
    {
     "name": "stdout",
     "output_type": "stream",
     "text": [
      "Final set: {'i want to become data scientist', 'i live in uttar pradesh'}\n"
     ]
    }
   ],
   "source": [
    "user_set = set()\n",
    "\n",
    "print(\"Enter elements for the set (type 'done' to finish):\")\n",
    "while True:\n",
    "    user_input = input(\"> \")  \n",
    "\n",
    "    if user_input.lower() == 'done':\n",
    "        break \n",
    "\n",
    "    user_set.add(user_input)\n",
    "\n",
    "print(\"Final set:\", user_set)"
   ]
  },
  {
   "cell_type": "code",
   "execution_count": null,
   "id": "f88f5832-68f5-4411-a961-b4fe97102379",
   "metadata": {},
   "outputs": [],
   "source": []
  },
  {
   "cell_type": "markdown",
   "id": "3e876b9f-bc4c-4d5d-98c5-cb1821188800",
   "metadata": {},
   "source": [
    "Q41. Check if the intersection of two sets is empty."
   ]
  },
  {
   "cell_type": "code",
   "execution_count": 28,
   "id": "8229df37-2673-494f-aca7-60bb8f89f8e1",
   "metadata": {},
   "outputs": [
    {
     "name": "stdout",
     "output_type": "stream",
     "text": [
      "The intersection of the two sets is not empty.\n"
     ]
    }
   ],
   "source": [
    "set1 = {1, 2, 3, 4, 5}\n",
    "set2 = {4, 5, 6, 7, 8}\n",
    "\n",
    "intersection_result = set1.intersection(set2)\n",
    "\n",
    "if not intersection_result:\n",
    "    print(\"The intersection of the two sets is empty.\")\n",
    "else:\n",
    "    print(\"The intersection of the two sets is not empty.\")"
   ]
  },
  {
   "cell_type": "code",
   "execution_count": null,
   "id": "512c1207-3f26-4c92-a6d6-7cf9d45c386f",
   "metadata": {},
   "outputs": [],
   "source": []
  },
  {
   "cell_type": "markdown",
   "id": "70d04674-0984-444b-bda4-2a03b63191e2",
   "metadata": {},
   "source": [
    "Q42. Create a set of the first 5 Fibonacci numbers."
   ]
  },
  {
   "cell_type": "code",
   "execution_count": 74,
   "id": "2b0a39e7-9d9f-4bc2-bf62-1ca0ddebf661",
   "metadata": {},
   "outputs": [
    {
     "name": "stdout",
     "output_type": "stream",
     "text": [
      "{0, 1, 2, 3, 5}\n"
     ]
    }
   ],
   "source": [
    "def fibo(n):\n",
    "    fibo=[0,1]\n",
    "    while len(fibo)<n:\n",
    "        next=fibo[-1]+fibo[-2]\n",
    "        fibo.append(next)\n",
    "    return set(fibo)\n",
    "\n",
    "n=6\n",
    "print(fibo(n))"
   ]
  },
  {
   "cell_type": "code",
   "execution_count": null,
   "id": "5c6ed5ad-e7d8-4af7-81c4-c953994582db",
   "metadata": {},
   "outputs": [],
   "source": []
  },
  {
   "cell_type": "markdown",
   "id": "510edf1c-63c1-4274-8965-6d6243e73a75",
   "metadata": {},
   "source": [
    "Q43. Remove duplicates from a list using sets."
   ]
  },
  {
   "cell_type": "code",
   "execution_count": 75,
   "id": "478e4bd4-6cdb-4416-8548-610231cadb30",
   "metadata": {},
   "outputs": [
    {
     "name": "stdout",
     "output_type": "stream",
     "text": [
      "List: [1, 2, 5, 2, 1, 3, 1, 3, 1, 6, 4, 8, 3, 9, 9]\n",
      "List which remove all the duplicate value in the list: {1, 2, 3, 4, 5, 6, 8, 9}\n"
     ]
    }
   ],
   "source": [
    "l=[1,2,5,2,1,3,1,3,1,6,4,8,3,9,9]\n",
    "print(\"List:\",l)\n",
    "print(\"List which remove all the duplicate value in the list:\",set(l))"
   ]
  },
  {
   "cell_type": "code",
   "execution_count": null,
   "id": "2dadf236-ef03-4a0d-bb39-11539f2cc2bb",
   "metadata": {},
   "outputs": [],
   "source": []
  },
  {
   "cell_type": "markdown",
   "id": "dc377066-f135-4fca-989a-e148e5588fd0",
   "metadata": {},
   "source": [
    "Q44. Check if two sets have the same elements, regardless of their count."
   ]
  },
  {
   "cell_type": "code",
   "execution_count": 30,
   "id": "1a1dc504-82e7-4b70-9958-b3313d481721",
   "metadata": {},
   "outputs": [
    {
     "name": "stdout",
     "output_type": "stream",
     "text": [
      "The sets have the same elements.\n"
     ]
    }
   ],
   "source": [
    "def same_elements(set1, set2):\n",
    "    sorted_list1 = sorted(list(set1))\n",
    "    sorted_list2 = sorted(list(set2))\n",
    "\n",
    "    return sorted_list1 == sorted_list2\n",
    "\n",
    "set1 = {1, 2, 3, 2, 1}\n",
    "set2 = {3, 1, 2}\n",
    "\n",
    "result = same_elements(set1, set2)\n",
    "\n",
    "if result:\n",
    "    print(\"The sets have the same elements.\")\n",
    "else:\n",
    "    print(\"The sets do not have the same elements.\")"
   ]
  },
  {
   "cell_type": "code",
   "execution_count": null,
   "id": "3d794026-193b-4ca5-a485-e51e8f294b9f",
   "metadata": {},
   "outputs": [],
   "source": []
  },
  {
   "cell_type": "markdown",
   "id": "58df3f96-ce86-451e-9860-11fdc30c3baa",
   "metadata": {},
   "source": [
    "Q45. Create a set of the first `n` powers of 2."
   ]
  },
  {
   "cell_type": "code",
   "execution_count": 77,
   "id": "2b749f4d-b29f-45e3-80b4-8ae2b8d025b9",
   "metadata": {},
   "outputs": [
    {
     "name": "stdin",
     "output_type": "stream",
     "text": [
      "Enter the value:  5\n"
     ]
    },
    {
     "name": "stdout",
     "output_type": "stream",
     "text": [
      "{1, 2, 4, 8, 16}\n"
     ]
    }
   ],
   "source": [
    "n=int(input(\"Enter the value: \"))\n",
    "s=set(2**i for i in range(n))\n",
    "print(s)"
   ]
  },
  {
   "cell_type": "code",
   "execution_count": null,
   "id": "1eb5b6b1-4839-432e-9c15-afab427ae7d9",
   "metadata": {},
   "outputs": [],
   "source": []
  },
  {
   "cell_type": "markdown",
   "id": "a7b5ef8a-e57e-4bd7-89ad-4e2f3bca7cb9",
   "metadata": {},
   "source": [
    "Q46. Find the common elements between a set and a list."
   ]
  },
  {
   "cell_type": "code",
   "execution_count": 78,
   "id": "369b0925-915a-44b5-b08d-8d8948302384",
   "metadata": {},
   "outputs": [
    {
     "name": "stdout",
     "output_type": "stream",
     "text": [
      "Common element between a set and a list: [5, 6]\n"
     ]
    }
   ],
   "source": [
    "l=[1,2,3,4,5,6]\n",
    "s={5,6,7,8,9}\n",
    "s_to_l=list(s)\n",
    "common=[]\n",
    "for i in l:\n",
    "    for j in s_to_l:\n",
    "        if i==j:\n",
    "            common.append(i)\n",
    "print(\"Common element between a set and a list:\",common)            "
   ]
  },
  {
   "cell_type": "code",
   "execution_count": null,
   "id": "2c375fbe-7a23-4b87-9c42-6d5b33029625",
   "metadata": {},
   "outputs": [],
   "source": []
  },
  {
   "cell_type": "markdown",
   "id": "10f7688c-0473-49c4-8559-49094d6a5a03",
   "metadata": {},
   "source": [
    "Q47. Create a set of the first `n` triangular numbers."
   ]
  },
  {
   "cell_type": "code",
   "execution_count": 81,
   "id": "50f77d10-74c8-4972-aae1-794756830dd0",
   "metadata": {},
   "outputs": [
    {
     "name": "stdin",
     "output_type": "stream",
     "text": [
      "Enter the value upto which you want triangular:  5\n"
     ]
    },
    {
     "name": "stdout",
     "output_type": "stream",
     "text": [
      "{1, 3, 6, 10, 15}\n"
     ]
    }
   ],
   "source": [
    "def triangular(n):\n",
    "    s=set()\n",
    "    for i in range(1,n+1):\n",
    "        no=i*(i+1)//2\n",
    "        s.add(no)\n",
    "    return s    \n",
    "\n",
    "n=int(input(\"Enter the value upto which you want triangular: \"))\n",
    "print(triangular(n))"
   ]
  },
  {
   "cell_type": "code",
   "execution_count": null,
   "id": "ed51c597-2413-4f98-bf10-cace27265bc5",
   "metadata": {},
   "outputs": [],
   "source": []
  },
  {
   "cell_type": "markdown",
   "id": "256cb5dd-f560-4510-a712-833b74b91e02",
   "metadata": {},
   "source": [
    "Q48. Check if a set contains another set as a subset."
   ]
  },
  {
   "cell_type": "code",
   "execution_count": 32,
   "id": "c9f96986-8a25-4de0-a571-a8f689257f0f",
   "metadata": {},
   "outputs": [
    {
     "name": "stdout",
     "output_type": "stream",
     "text": [
      "Set A is a subset of Set B\n"
     ]
    }
   ],
   "source": [
    "set_A = {1, 2, 3}\n",
    "set_B = {1, 2, 3, 4, 5}\n",
    "\n",
    "if set_A.issubset(set_B):\n",
    "    print(\"Set A is a subset of Set B\")\n",
    "else:\n",
    "    print(\"Set A is not a subset of Set B\")\n"
   ]
  },
  {
   "cell_type": "code",
   "execution_count": null,
   "id": "a28a07b5-a093-45a0-b110-ae3ca183d42b",
   "metadata": {},
   "outputs": [],
   "source": []
  },
  {
   "cell_type": "markdown",
   "id": "ce022e9a-8d1d-405b-84d0-b50a106bb448",
   "metadata": {},
   "source": [
    "Q49. Create a set of alternating 1s and 0s of length `n`."
   ]
  },
  {
   "cell_type": "code",
   "execution_count": 35,
   "id": "b4ac92e4-3c95-46e5-9184-e7187cd12f7c",
   "metadata": {},
   "outputs": [
    {
     "name": "stdout",
     "output_type": "stream",
     "text": [
      "{0, 1}\n"
     ]
    }
   ],
   "source": [
    "count_1 = 4\n",
    "count_0 = 3\n",
    "size = 14\n",
    "test_list = [1 if i % (count_1 + count_0) < count_1 else 0 for i in range(size)]\n",
    "print(set(test_list))"
   ]
  },
  {
   "cell_type": "code",
   "execution_count": null,
   "id": "c47bbb78-2eda-4058-86e6-71bb2d27366f",
   "metadata": {},
   "outputs": [],
   "source": []
  },
  {
   "cell_type": "markdown",
   "id": "949caeff-245c-4bba-abb2-a88b5af846b7",
   "metadata": {},
   "source": [
    "Q50. Merge multiple sets into one."
   ]
  },
  {
   "cell_type": "code",
   "execution_count": 31,
   "id": "b5df995d-2e22-4a8a-8faf-0d24b25cab5b",
   "metadata": {},
   "outputs": [
    {
     "name": "stdout",
     "output_type": "stream",
     "text": [
      "Merged Set: {1, 2, 3, 4, 5, 6, 7}\n"
     ]
    }
   ],
   "source": [
    "set1 = {1, 2, 3}\n",
    "set2 = {3, 4, 5}\n",
    "set3 = {5, 6, 7}\n",
    "\n",
    "merged_set = set1.union(set2, set3)\n",
    "\n",
    "print(\"Merged Set:\", merged_set)"
   ]
  },
  {
   "cell_type": "code",
   "execution_count": null,
   "id": "9fe4947e-9927-407c-9971-87bfcb100deb",
   "metadata": {},
   "outputs": [],
   "source": []
  }
 ],
 "metadata": {
  "kernelspec": {
   "display_name": "Python 3 (ipykernel)",
   "language": "python",
   "name": "python3"
  },
  "language_info": {
   "codemirror_mode": {
    "name": "ipython",
    "version": 3
   },
   "file_extension": ".py",
   "mimetype": "text/x-python",
   "name": "python",
   "nbconvert_exporter": "python",
   "pygments_lexer": "ipython3",
   "version": "3.12.0"
  }
 },
 "nbformat": 4,
 "nbformat_minor": 5
}
